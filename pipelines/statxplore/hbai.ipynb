{
 "cells": [
  {
   "cell_type": "markdown",
   "metadata": {},
   "source": [
    "Pipeline to pull data from Households Below Average Income data from Stat-Xplore"
   ]
  },
  {
   "cell_type": "code",
   "execution_count": 25,
   "metadata": {},
   "outputs": [],
   "source": [
    "import os\n",
    "import json\n",
    "\n",
    "from api import run_statxplore_query"
   ]
  },
  {
   "cell_type": "code",
   "execution_count": 33,
   "metadata": {},
   "outputs": [],
   "source": [
    "OUTPUT_DIR=\"../../data/hbai\"\n",
    "os.makedirs(OUTPUT_DIR, exist_ok=True)"
   ]
  },
  {
   "cell_type": "code",
   "execution_count": 34,
   "metadata": {},
   "outputs": [],
   "source": [
    "HBAI_JSON = \"json/data/HBAI.json\""
   ]
  },
  {
   "cell_type": "code",
   "execution_count": 35,
   "metadata": {},
   "outputs": [],
   "source": [
    "dimensions = {\n",
    "    \"Type of Individual by Age Category\": [\"str:field:HBAI:V_F_HBAI:TYPE_AGECAT\"],\n",
    "    \"Number of Children in the Family of the Individual\": [\n",
    "        \"str:field:HBAI:V_F_HBAI:NUMBKIDS\"\n",
    "    ],\n",
    "    \"Age of the Youngest Child in the Family of the Individual\": [\n",
    "        \"str:field:HBAI:V_F_HBAI:YOUNGCH\"\n",
    "    ],\n",
    "    \"Tenure Type of the Household of the Individual\": [\n",
    "        \"str:field:HBAI:V_F_HBAI:TENHBAI\"\n",
    "    ],\n",
    "    \"Savings and Investments of Adults in the Family of the Individual\": [\n",
    "        \"str:field:HBAI:V_F_HBAI:CAPITAL\"\n",
    "    ],\n",
    "    \"Ethnic Group of the Head of the Household (please calculate three-year averages - click on i for the correct method)\": [\n",
    "        \"str:field:HBAI:V_F_HBAI:ETHGRPHHPUB\"\n",
    "    ],\n",
    "}"
   ]
  },
  {
   "cell_type": "code",
   "execution_count": 36,
   "metadata": {},
   "outputs": [],
   "source": [
    "location = \"Location in the United Kingdom of the Household of the Individual (please calculate three-year averages - click on i for the correct method)\"\n",
    "\n",
    "def split_location_code(data):\n",
    "    # Split location code\n",
    "    data[[\"geography_name\", \"geography_code\"]] = (\n",
    "        data[location].str.split(r\"[()]\", expand=True).iloc[:, [0, 1]]\n",
    "    )\n",
    "    data[\"geography_code\"] = data[\"geography_code\"].str.strip()\n",
    "    data[\"geography_name\"] = data[\"geography_name\"].str.strip()\n",
    "    data.drop(location, axis=1, inplace=True)"
   ]
  },
  {
   "cell_type": "code",
   "execution_count": 37,
   "metadata": {},
   "outputs": [],
   "source": [
    "for name, dim in dimensions.items():\n",
    "    with open(HBAI_JSON) as json_file:\n",
    "        query = json.load(json_file)\n",
    "\n",
    "    query[\"dimensions\"] += [dim]\n",
    "\n",
    "    HBAI = run_statxplore_query(query).reset_index()\n",
    "\n",
    "    # Split location code\n",
    "    HBAI.pipe(split_location_code)\n",
    "\n",
    "    HBAI = HBAI.melt(\n",
    "        id_vars=[\"Financial Year\", \"geography_name\", \"geography_code\", f\"{name}\"],\n",
    "        var_name=\"variable_name\",\n",
    "    )\n",
    "    HBAI.set_index(\"Financial Year\", inplace=True)\n",
    "    HBAI[\"variable_name\"] = HBAI[\"variable_name\"].str.replace(\n",
    "        \" (at or above threshold)\", \"\"\n",
    "    )\n",
    "    HBAI.to_csv(f\"{OUTPUT_DIR}/{name}.csv\")"
   ]
  },
  {
   "cell_type": "code",
   "execution_count": null,
   "metadata": {},
   "outputs": [],
   "source": []
  }
 ],
 "metadata": {
  "kernelspec": {
   "display_name": "jrf-insight-VA15kXRI",
   "language": "python",
   "name": "python3"
  },
  "language_info": {
   "codemirror_mode": {
    "name": "ipython",
    "version": 3
   },
   "file_extension": ".py",
   "mimetype": "text/x-python",
   "name": "python",
   "nbconvert_exporter": "python",
   "pygments_lexer": "ipython3",
   "version": "3.10.12"
  },
  "orig_nbformat": 4
 },
 "nbformat": 4,
 "nbformat_minor": 2
}
