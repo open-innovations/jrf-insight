{
 "cells": [
  {
   "cell_type": "markdown",
   "metadata": {},
   "source": [
    "Pipeline to pull data from Households Below Average Income data from Stat-Xplore"
   ]
  },
  {
   "cell_type": "code",
   "execution_count": 2,
   "metadata": {},
   "outputs": [],
   "source": [
    "import os\n",
    "import json\n",
    "\n",
    "from api import run_statxplore_query"
   ]
  },
  {
   "cell_type": "code",
   "execution_count": 3,
   "metadata": {},
   "outputs": [],
   "source": [
    "OUTPUT_DIR=\"../../data/hbai\"\n",
    "os.makedirs(OUTPUT_DIR, exist_ok=True)"
   ]
  },
  {
   "cell_type": "code",
   "execution_count": 4,
   "metadata": {},
   "outputs": [],
   "source": [
    "HBAI_JSON = \"json/data/HBAI.json\""
   ]
  },
  {
   "cell_type": "code",
   "execution_count": 5,
   "metadata": {},
   "outputs": [],
   "source": [
    "views = {\n",
    "    \"by_age_category\": [\"str:field:HBAI:V_F_HBAI:TYPE_AGECAT\"],\n",
    "    \"by_number_of_children\": [\n",
    "        \"str:field:HBAI:V_F_HBAI:NUMBKIDS\"\n",
    "    ],\n",
    "    \"by_age_of_youngest_child\": [\n",
    "        \"str:field:HBAI:V_F_HBAI:YOUNGCH\"\n",
    "    ],\n",
    "    \"by_tenure_type\": [\n",
    "        \"str:field:HBAI:V_F_HBAI:TENHBAI\"\n",
    "    ],\n",
    "    \"by_savings_and_investments\": [\n",
    "        \"str:field:HBAI:V_F_HBAI:CAPITAL\"\n",
    "    ],\n",
    "    \"by_ethnic_group\": [\n",
    "        \"str:field:HBAI:V_F_HBAI:ETHGRPHHPUB\"\n",
    "    ],\n",
    "}"
   ]
  },
  {
   "cell_type": "code",
   "execution_count": 6,
   "metadata": {},
   "outputs": [],
   "source": [
    "location = \"Location in the United Kingdom of the Household of the Individual (please calculate three-year averages - click on i for the correct method)\"\n",
    "\n",
    "def extract_location_code(data):\n",
    "    # Extract geography code from location\n",
    "    data[\"geography_code\"] = (\n",
    "        data[location].str.split(r\"[()]\", expand=True).iloc[:,1].str.strip()\n",
    "    )\n",
    "    data = data.drop(location, axis=1)\n",
    "    return data"
   ]
  },
  {
   "cell_type": "code",
   "execution_count": 72,
   "metadata": {},
   "outputs": [],
   "source": [
    "def run_query(dim):\n",
    "    with open(HBAI_JSON) as json_file:\n",
    "        query = json.load(json_file)\n",
    "    query[\"dimensions\"] += [dim]\n",
    "    return run_statxplore_query(query)\n",
    "\n",
    "\n",
    "def reshape_statxplore_result(data):\n",
    "    # Convert wide to long format\n",
    "    data = data.melt(ignore_index=False, var_name='income_status')\n",
    "    # Add in a variable name\n",
    "    data['variable_name'] = 'households_in_low_income'\n",
    "    # Split geo codes and remove bracketed statements from colum names\n",
    "    data.index = data.index.set_levels(\n",
    "            data.index.levels[1].str.strip(')').str.split('(').map(lambda l: l[1]).values, level=1\n",
    "        ).set_names(\n",
    "            'geography_code', level=1\n",
    "        ).set_names(\n",
    "            data.index.names[2].split('(')[0].strip(),\n",
    "            level=2\n",
    "        )\n",
    "    return data\n",
    "\n",
    "\n",
    "for name, dim in views.items():\n",
    "    data = run_query(dim).pipe(reshape_statxplore_result)\n",
    "    data.to_csv(f\"{OUTPUT_DIR}/{name}.csv\")"
   ]
  },
  {
   "cell_type": "code",
   "execution_count": null,
   "metadata": {},
   "outputs": [],
   "source": []
  }
 ],
 "metadata": {
  "kernelspec": {
   "display_name": "jrf-insight-VA15kXRI",
   "language": "python",
   "name": "python3"
  },
  "language_info": {
   "codemirror_mode": {
    "name": "ipython",
    "version": 3
   },
   "file_extension": ".py",
   "mimetype": "text/x-python",
   "name": "python",
   "nbconvert_exporter": "python",
   "pygments_lexer": "ipython3",
   "version": "3.10.12"
  },
  "orig_nbformat": 4
 },
 "nbformat": 4,
 "nbformat_minor": 2
}
