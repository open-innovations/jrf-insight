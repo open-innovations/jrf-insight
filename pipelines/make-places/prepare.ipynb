{
 "cells": [
  {
   "cell_type": "code",
   "execution_count": 1,
   "metadata": {},
   "outputs": [],
   "source": [
    "import pandas as pd"
   ]
  },
  {
   "cell_type": "code",
   "execution_count": 2,
   "metadata": {},
   "outputs": [],
   "source": [
    "geo = pd.read_csv('../../data/geo/geography_lookup.csv')"
   ]
  },
  {
   "cell_type": "code",
   "execution_count": 3,
   "metadata": {},
   "outputs": [],
   "source": [
    "codes = geo.columns[geo.columns.str.endswith('CD') & ~geo.columns.isin(['WD22CD'])]\n",
    "names = geo.columns[geo.columns.str.endswith('NM')]"
   ]
  },
  {
   "cell_type": "code",
   "execution_count": 4,
   "metadata": {},
   "outputs": [],
   "source": [
    "def make_lookup(pair):\n",
    "    pair = pd.Index(pair)\n",
    "    type = pair[0][:-2]\n",
    "    frame = geo.loc[:, pair].drop_duplicates().rename(columns=lambda c: c[-2:])\n",
    "    frame['type'] = type\n",
    "    return frame\n",
    "geo_lookup = pd.concat([make_lookup(pair) for pair in zip(codes.to_list(), names.to_list())]).dropna()\n",
    "geo_lookup.columns = ['code', 'name', 'type']\n",
    "geo_lookup = geo_lookup.set_index('code')"
   ]
  },
  {
   "cell_type": "code",
   "execution_count": 5,
   "metadata": {},
   "outputs": [],
   "source": [
    "place_data = pd.DataFrame()\n",
    "\n",
    "for code in codes.to_series().iloc[::-1]:\n",
    "    place = geo.loc[:, [code]]\n",
    "    code_loc = codes.get_loc(code)\n",
    "    child_codes = codes.to_series().iloc[code_loc+1:].values\n",
    "    place_data = pd.concat([\n",
    "        place_data,\n",
    "        pd.DataFrame({\n",
    "            'key': place[code],\n",
    "            'children': geo.loc[:, child_codes].to_numpy().tolist(),\n",
    "        }),])\n",
    "\n",
    "place_data = place_data.explode('children').dropna().groupby('key').agg({\n",
    "    'children': lambda x: x.drop_duplicates().sort_values().tolist(),\n",
    "})\n",
    "place_data = place_data.merge(right=geo_lookup, left_index=True, right_index=True, how='outer')\n",
    "place_data.children[place_data.children.isna()] = place_data.children[place_data.children.isna()].apply(lambda x: [])"
   ]
  },
  {
   "cell_type": "code",
   "execution_count": 6,
   "metadata": {},
   "outputs": [],
   "source": [
    "place_data.to_json(f'../../src/_data/places.json', orient='index', indent=2)"
   ]
  },
  {
   "cell_type": "code",
   "execution_count": null,
   "metadata": {},
   "outputs": [],
   "source": []
  },
  {
   "cell_type": "code",
   "execution_count": 7,
   "metadata": {},
   "outputs": [
    {
     "data": {
      "text/html": [
       "<div>\n",
       "<style scoped>\n",
       "    .dataframe tbody tr th:only-of-type {\n",
       "        vertical-align: middle;\n",
       "    }\n",
       "\n",
       "    .dataframe tbody tr th {\n",
       "        vertical-align: top;\n",
       "    }\n",
       "\n",
       "    .dataframe thead th {\n",
       "        text-align: right;\n",
       "    }\n",
       "</style>\n",
       "<table border=\"1\" class=\"dataframe\">\n",
       "  <thead>\n",
       "    <tr style=\"text-align: right;\">\n",
       "      <th></th>\n",
       "      <th>children</th>\n",
       "      <th>name</th>\n",
       "      <th>type</th>\n",
       "    </tr>\n",
       "  </thead>\n",
       "  <tbody>\n",
       "    <tr>\n",
       "      <th>E06000001</th>\n",
       "      <td>[]</td>\n",
       "      <td>Hartlepool</td>\n",
       "      <td>LAD22</td>\n",
       "    </tr>\n",
       "    <tr>\n",
       "      <th>E06000002</th>\n",
       "      <td>[]</td>\n",
       "      <td>Middlesbrough</td>\n",
       "      <td>LAD22</td>\n",
       "    </tr>\n",
       "    <tr>\n",
       "      <th>E06000003</th>\n",
       "      <td>[]</td>\n",
       "      <td>Redcar and Cleveland</td>\n",
       "      <td>LAD22</td>\n",
       "    </tr>\n",
       "    <tr>\n",
       "      <th>E06000004</th>\n",
       "      <td>[]</td>\n",
       "      <td>Stockton-on-Tees</td>\n",
       "      <td>LAD22</td>\n",
       "    </tr>\n",
       "    <tr>\n",
       "      <th>E06000005</th>\n",
       "      <td>[]</td>\n",
       "      <td>Darlington</td>\n",
       "      <td>LAD22</td>\n",
       "    </tr>\n",
       "    <tr>\n",
       "      <th>...</th>\n",
       "      <td>...</td>\n",
       "      <td>...</td>\n",
       "      <td>...</td>\n",
       "    </tr>\n",
       "    <tr>\n",
       "      <th>E47000003</th>\n",
       "      <td>[E08000032, E08000033, E08000034, E08000035, E...</td>\n",
       "      <td>West Yorkshire</td>\n",
       "      <td>CAUTH22</td>\n",
       "    </tr>\n",
       "    <tr>\n",
       "      <th>E47000004</th>\n",
       "      <td>[E06000006, E08000011, E08000012, E08000013, E...</td>\n",
       "      <td>Liverpool City Region</td>\n",
       "      <td>CAUTH22</td>\n",
       "    </tr>\n",
       "    <tr>\n",
       "      <th>E47000006</th>\n",
       "      <td>[E06000001, E06000002, E06000003, E06000004, E...</td>\n",
       "      <td>Tees Valley</td>\n",
       "      <td>CAUTH22</td>\n",
       "    </tr>\n",
       "    <tr>\n",
       "      <th>E47000010</th>\n",
       "      <td>[E06000047, E08000023, E08000024, E08000037]</td>\n",
       "      <td>North East</td>\n",
       "      <td>CAUTH22</td>\n",
       "    </tr>\n",
       "    <tr>\n",
       "      <th>E47000011</th>\n",
       "      <td>[E06000057, E08000021, E08000022]</td>\n",
       "      <td>North of Tyne</td>\n",
       "      <td>CAUTH22</td>\n",
       "    </tr>\n",
       "  </tbody>\n",
       "</table>\n",
       "<p>91 rows × 3 columns</p>\n",
       "</div>"
      ],
      "text/plain": [
       "                                                    children  \\\n",
       "E06000001                                                 []   \n",
       "E06000002                                                 []   \n",
       "E06000003                                                 []   \n",
       "E06000004                                                 []   \n",
       "E06000005                                                 []   \n",
       "...                                                      ...   \n",
       "E47000003  [E08000032, E08000033, E08000034, E08000035, E...   \n",
       "E47000004  [E06000006, E08000011, E08000012, E08000013, E...   \n",
       "E47000006  [E06000001, E06000002, E06000003, E06000004, E...   \n",
       "E47000010       [E06000047, E08000023, E08000024, E08000037]   \n",
       "E47000011                  [E06000057, E08000021, E08000022]   \n",
       "\n",
       "                            name     type  \n",
       "E06000001             Hartlepool    LAD22  \n",
       "E06000002          Middlesbrough    LAD22  \n",
       "E06000003   Redcar and Cleveland    LAD22  \n",
       "E06000004       Stockton-on-Tees    LAD22  \n",
       "E06000005             Darlington    LAD22  \n",
       "...                          ...      ...  \n",
       "E47000003         West Yorkshire  CAUTH22  \n",
       "E47000004  Liverpool City Region  CAUTH22  \n",
       "E47000006            Tees Valley  CAUTH22  \n",
       "E47000010             North East  CAUTH22  \n",
       "E47000011          North of Tyne  CAUTH22  \n",
       "\n",
       "[91 rows x 3 columns]"
      ]
     },
     "execution_count": 7,
     "metadata": {},
     "output_type": "execute_result"
    }
   ],
   "source": [
    "place_data"
   ]
  },
  {
   "cell_type": "code",
   "execution_count": null,
   "metadata": {},
   "outputs": [],
   "source": [
    "\n"
   ]
  },
  {
   "cell_type": "code",
   "execution_count": null,
   "metadata": {},
   "outputs": [],
   "source": []
  },
  {
   "cell_type": "code",
   "execution_count": null,
   "metadata": {},
   "outputs": [],
   "source": []
  }
 ],
 "metadata": {
  "kernelspec": {
   "display_name": "jrf-insight-VA15kXRI",
   "language": "python",
   "name": "python3"
  },
  "language_info": {
   "codemirror_mode": {
    "name": "ipython",
    "version": 3
   },
   "file_extension": ".py",
   "mimetype": "text/x-python",
   "name": "python",
   "nbconvert_exporter": "python",
   "pygments_lexer": "ipython3",
   "version": "3.10.6"
  },
  "orig_nbformat": 4
 },
 "nbformat": 4,
 "nbformat_minor": 2
}
