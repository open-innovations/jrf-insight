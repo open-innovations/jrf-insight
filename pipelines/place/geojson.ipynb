{
 "cells": [
  {
   "cell_type": "code",
   "execution_count": 1,
   "metadata": {},
   "outputs": [],
   "source": [
    "import pandas as pd\n",
    "\n",
    "from loaders import load_geojson\n",
    "from params import DATA_DIR"
   ]
  },
  {
   "attachments": {},
   "cell_type": "markdown",
   "metadata": {},
   "source": [
    "Load all the required types into a single `GeoDataFrame`."
   ]
  },
  {
   "cell_type": "code",
   "execution_count": 2,
   "metadata": {},
   "outputs": [],
   "source": [
    "data = pd.concat([\n",
    "    load_geojson(type)\n",
    "    for type\n",
    "    in ['panrgn22', 'rgn22', 'cauth22', 'cty22', 'lad22', 'wd22'\n",
    "]])"
   ]
  },
  {
   "attachments": {},
   "cell_type": "markdown",
   "metadata": {},
   "source": [
    "Check for and remove duplicates"
   ]
  },
  {
   "cell_type": "code",
   "execution_count": 3,
   "metadata": {},
   "outputs": [
    {
     "data": {
      "text/html": [
       "<div>\n",
       "<style scoped>\n",
       "    .dataframe tbody tr th:only-of-type {\n",
       "        vertical-align: middle;\n",
       "    }\n",
       "\n",
       "    .dataframe tbody tr th {\n",
       "        vertical-align: top;\n",
       "    }\n",
       "\n",
       "    .dataframe thead th {\n",
       "        text-align: right;\n",
       "    }\n",
       "</style>\n",
       "<table border=\"1\" class=\"dataframe\">\n",
       "  <thead>\n",
       "    <tr style=\"text-align: right;\">\n",
       "      <th></th>\n",
       "      <th>RGN21CD</th>\n",
       "      <th>RGN21NM</th>\n",
       "      <th>geometry</th>\n",
       "      <th>ons_code</th>\n",
       "      <th>ons_type</th>\n",
       "      <th>RGN22CD</th>\n",
       "      <th>RGN22NM</th>\n",
       "      <th>CAUTH22CD</th>\n",
       "      <th>CAUTH22NM</th>\n",
       "      <th>CTY22CD</th>\n",
       "      <th>CTY22NM</th>\n",
       "      <th>LAD22CD</th>\n",
       "      <th>LAD22NM</th>\n",
       "      <th>WD22CD</th>\n",
       "      <th>WD22NM</th>\n",
       "    </tr>\n",
       "    <tr>\n",
       "      <th>ons_code</th>\n",
       "      <th></th>\n",
       "      <th></th>\n",
       "      <th></th>\n",
       "      <th></th>\n",
       "      <th></th>\n",
       "      <th></th>\n",
       "      <th></th>\n",
       "      <th></th>\n",
       "      <th></th>\n",
       "      <th></th>\n",
       "      <th></th>\n",
       "      <th></th>\n",
       "      <th></th>\n",
       "      <th></th>\n",
       "      <th></th>\n",
       "    </tr>\n",
       "  </thead>\n",
       "  <tbody>\n",
       "    <tr>\n",
       "      <th>E05014284</th>\n",
       "      <td>NaN</td>\n",
       "      <td>NaN</td>\n",
       "      <td>MULTIPOLYGON (((-0.41824 54.17405, -0.41809 54...</td>\n",
       "      <td>E05014284</td>\n",
       "      <td>WD22CD</td>\n",
       "      <td>NaN</td>\n",
       "      <td>NaN</td>\n",
       "      <td>NaN</td>\n",
       "      <td>NaN</td>\n",
       "      <td>NaN</td>\n",
       "      <td>NaN</td>\n",
       "      <td>E07000167</td>\n",
       "      <td>Ryedale</td>\n",
       "      <td>E05014284</td>\n",
       "      <td>Hunmanby &amp; Sherburn (part Scarborough)</td>\n",
       "    </tr>\n",
       "  </tbody>\n",
       "</table>\n",
       "</div>"
      ],
      "text/plain": [
       "          RGN21CD RGN21NM                                           geometry  \\\n",
       "ons_code                                                                       \n",
       "E05014284     NaN     NaN  MULTIPOLYGON (((-0.41824 54.17405, -0.41809 54...   \n",
       "\n",
       "            ons_code ons_type RGN22CD RGN22NM CAUTH22CD CAUTH22NM CTY22CD  \\\n",
       "ons_code                                                                    \n",
       "E05014284  E05014284   WD22CD     NaN     NaN       NaN       NaN     NaN   \n",
       "\n",
       "          CTY22NM    LAD22CD  LAD22NM     WD22CD  \\\n",
       "ons_code                                           \n",
       "E05014284     NaN  E07000167  Ryedale  E05014284   \n",
       "\n",
       "                                           WD22NM  \n",
       "ons_code                                           \n",
       "E05014284  Hunmanby & Sherburn (part Scarborough)  "
      ]
     },
     "execution_count": 3,
     "metadata": {},
     "output_type": "execute_result"
    }
   ],
   "source": [
    "data[data.index.duplicated()]"
   ]
  },
  {
   "cell_type": "code",
   "execution_count": 4,
   "metadata": {},
   "outputs": [],
   "source": [
    "data = data[~data.index.duplicated()]"
   ]
  },
  {
   "attachments": {},
   "cell_type": "markdown",
   "metadata": {},
   "source": [
    "Save to a parquet file for later processing. Could have written to a geojson file as follows:\n",
    "\n",
    "```py\n",
    "with open('places.geojson', 'w') as f:\n",
    "    f.write(data[['ons_code', 'ons_type', 'geometry']].to_json())\n",
    "```"
   ]
  },
  {
   "cell_type": "code",
   "execution_count": 21,
   "metadata": {},
   "outputs": [],
   "source": [
    "data[['ons_code', 'ons_type', 'geometry']].to_parquet(f'{DATA_DIR}/interim/shapes.parquet')"
   ]
  }
 ],
 "metadata": {
  "kernelspec": {
   "display_name": "jrf-insight-VA15kXRI",
   "language": "python",
   "name": "python3"
  },
  "language_info": {
   "codemirror_mode": {
    "name": "ipython",
    "version": 3
   },
   "file_extension": ".py",
   "mimetype": "text/x-python",
   "name": "python",
   "nbconvert_exporter": "python",
   "pygments_lexer": "ipython3",
   "version": "3.10.6"
  },
  "orig_nbformat": 4
 },
 "nbformat": 4,
 "nbformat_minor": 2
}
