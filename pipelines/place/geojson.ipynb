{
 "cells": [
  {
   "cell_type": "code",
   "execution_count": 1,
   "metadata": {},
   "outputs": [],
   "source": [
    "import pandas as pd\n",
    "import geopandas as gpd\n",
    "\n",
    "from params import DATA_DIR"
   ]
  },
  {
   "attachments": {},
   "cell_type": "markdown",
   "metadata": {},
   "source": [
    "Function to load a geojson file by type."
   ]
  },
  {
   "cell_type": "code",
   "execution_count": 2,
   "metadata": {},
   "outputs": [],
   "source": [
    "def load_geojson(type):\n",
    "  path = f'{DATA_DIR}/geo/{type}.geojson'\n",
    "  key = type.upper() + 'CD'\n",
    "  data = gpd.read_file(path)\n",
    "  if type == 'panrgn22':\n",
    "      key = 'RGN21CD'\n",
    "      data.loc[data.RGN21NM == 'The North', 'RGN21CD'] = 'E12999901'\n",
    "  data.index = pd.Index(data[key], name='ons_code')\n",
    "  data['ons_code'] = data.index.to_series()\n",
    "  data['ons_type'] = key\n",
    "  return data"
   ]
  },
  {
   "attachments": {},
   "cell_type": "markdown",
   "metadata": {},
   "source": [
    "Load all the required types into a single `GeoDataFrame`."
   ]
  },
  {
   "cell_type": "code",
   "execution_count": 3,
   "metadata": {},
   "outputs": [],
   "source": [
    "data = pd.concat([load_geojson(type) for type in ['panrgn22', 'rgn22', 'cauth22', 'cty22', 'lad22', 'wd22']])"
   ]
  },
  {
   "attachments": {},
   "cell_type": "markdown",
   "metadata": {},
   "source": [
    "Check for and remove duplicates"
   ]
  },
  {
   "cell_type": "code",
   "execution_count": 4,
   "metadata": {},
   "outputs": [
    {
     "data": {
      "text/html": [
       "<div>\n",
       "<style scoped>\n",
       "    .dataframe tbody tr th:only-of-type {\n",
       "        vertical-align: middle;\n",
       "    }\n",
       "\n",
       "    .dataframe tbody tr th {\n",
       "        vertical-align: top;\n",
       "    }\n",
       "\n",
       "    .dataframe thead th {\n",
       "        text-align: right;\n",
       "    }\n",
       "</style>\n",
       "<table border=\"1\" class=\"dataframe\">\n",
       "  <thead>\n",
       "    <tr style=\"text-align: right;\">\n",
       "      <th></th>\n",
       "      <th>RGN21CD</th>\n",
       "      <th>RGN21NM</th>\n",
       "      <th>geometry</th>\n",
       "      <th>ons_code</th>\n",
       "      <th>ons_type</th>\n",
       "      <th>RGN22CD</th>\n",
       "      <th>RGN22NM</th>\n",
       "    </tr>\n",
       "    <tr>\n",
       "      <th>ons_code</th>\n",
       "      <th></th>\n",
       "      <th></th>\n",
       "      <th></th>\n",
       "      <th></th>\n",
       "      <th></th>\n",
       "      <th></th>\n",
       "      <th></th>\n",
       "    </tr>\n",
       "  </thead>\n",
       "  <tbody>\n",
       "  </tbody>\n",
       "</table>\n",
       "</div>"
      ],
      "text/plain": [
       "Empty GeoDataFrame\n",
       "Columns: [RGN21CD, RGN21NM, geometry, ons_code, ons_type, RGN22CD, RGN22NM]\n",
       "Index: []"
      ]
     },
     "execution_count": 4,
     "metadata": {},
     "output_type": "execute_result"
    }
   ],
   "source": [
    "data[data.index.duplicated()]"
   ]
  },
  {
   "cell_type": "code",
   "execution_count": 5,
   "metadata": {},
   "outputs": [],
   "source": [
    "data = data[~data.index.duplicated()]"
   ]
  },
  {
   "attachments": {},
   "cell_type": "markdown",
   "metadata": {},
   "source": [
    "Save to a parquet file for later processing. Could have written to a geojson file as follows:\n",
    "\n",
    "```py\n",
    "with open('places.geojson', 'w') as f:\n",
    "    f.write(data[['ons_code', 'ons_type', 'geometry']].to_json())\n",
    "```"
   ]
  },
  {
   "cell_type": "code",
   "execution_count": 6,
   "metadata": {},
   "outputs": [],
   "source": [
    "data[['ons_code', 'ons_type', 'geometry']].to_parquet(f'{DATA_DIR}/interim/shapes.parquet')"
   ]
  }
 ],
 "metadata": {
  "kernelspec": {
   "display_name": "jrf-insight-VA15kXRI",
   "language": "python",
   "name": "python3"
  },
  "language_info": {
   "codemirror_mode": {
    "name": "ipython",
    "version": 3
   },
   "file_extension": ".py",
   "mimetype": "text/x-python",
   "name": "python",
   "nbconvert_exporter": "python",
   "pygments_lexer": "ipython3",
   "version": "3.10.6"
  },
  "orig_nbformat": 4
 },
 "nbformat": 4,
 "nbformat_minor": 2
}
