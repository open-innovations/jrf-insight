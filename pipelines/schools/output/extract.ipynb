{
 "cells": [
  {
   "cell_type": "code",
   "execution_count": 1,
   "id": "567fa394",
   "metadata": {
    "execution": {
     "iopub.execute_input": "2023-10-23T10:38:21.825825Z",
     "iopub.status.busy": "2023-10-23T10:38:21.825657Z",
     "iopub.status.idle": "2023-10-23T10:38:21.878076Z",
     "shell.execute_reply": "2023-10-23T10:38:21.877662Z"
    },
    "papermill": {
     "duration": 0.055123,
     "end_time": "2023-10-23T10:38:21.879106",
     "exception": false,
     "start_time": "2023-10-23T10:38:21.823983",
     "status": "completed"
    },
    "tags": []
   },
   "outputs": [],
   "source": [
    "import re\n",
    "import requests\n",
    "from bs4 import BeautifulSoup"
   ]
  },
  {
   "cell_type": "code",
   "execution_count": 2,
   "id": "23e76d83",
   "metadata": {
    "execution": {
     "iopub.execute_input": "2023-10-23T10:38:21.881404Z",
     "iopub.status.busy": "2023-10-23T10:38:21.881269Z",
     "iopub.status.idle": "2023-10-23T10:38:22.180251Z",
     "shell.execute_reply": "2023-10-23T10:38:22.179814Z"
    },
    "papermill": {
     "duration": 0.301197,
     "end_time": "2023-10-23T10:38:22.181270",
     "exception": false,
     "start_time": "2023-10-23T10:38:21.880073",
     "status": "completed"
    },
    "tags": []
   },
   "outputs": [],
   "source": [
    "r = requests.get(\"https://explore-education-statistics.service.gov.uk/find-statistics/school-pupils-and-their-characteristics\")"
   ]
  },
  {
   "cell_type": "code",
   "execution_count": 3,
   "id": "1cda0894",
   "metadata": {
    "execution": {
     "iopub.execute_input": "2023-10-23T10:38:22.183764Z",
     "iopub.status.busy": "2023-10-23T10:38:22.183549Z",
     "iopub.status.idle": "2023-10-23T10:38:22.196320Z",
     "shell.execute_reply": "2023-10-23T10:38:22.195897Z"
    },
    "papermill": {
     "duration": 0.014851,
     "end_time": "2023-10-23T10:38:22.197028",
     "exception": false,
     "start_time": "2023-10-23T10:38:22.182177",
     "status": "completed"
    },
    "tags": []
   },
   "outputs": [],
   "source": [
    "soup = BeautifulSoup(r.text)"
   ]
  },
  {
   "cell_type": "code",
   "execution_count": 4,
   "id": "32a623b6",
   "metadata": {
    "execution": {
     "iopub.execute_input": "2023-10-23T10:38:22.199096Z",
     "iopub.status.busy": "2023-10-23T10:38:22.198913Z",
     "iopub.status.idle": "2023-10-23T10:38:22.203153Z",
     "shell.execute_reply": "2023-10-23T10:38:22.202799Z"
    },
    "papermill": {
     "duration": 0.006166,
     "end_time": "2023-10-23T10:38:22.203954",
     "exception": false,
     "start_time": "2023-10-23T10:38:22.197788",
     "status": "completed"
    },
    "tags": []
   },
   "outputs": [
    {
     "data": {
      "text/plain": [
       "'https://content.explore-education-statistics.service.gov.uk/api/releases/4e902dd4-cbd2-4b3f-b798-4b4f163f5ac8/files'"
      ]
     },
     "execution_count": 4,
     "metadata": {},
     "output_type": "execute_result"
    }
   ],
   "source": [
    "link = soup.find('a', string=re.compile(r'^Download all data'))['href']\n",
    "link"
   ]
  },
  {
   "cell_type": "code",
   "execution_count": 5,
   "id": "793c454e",
   "metadata": {
    "execution": {
     "iopub.execute_input": "2023-10-23T10:38:22.206212Z",
     "iopub.status.busy": "2023-10-23T10:38:22.206046Z",
     "iopub.status.idle": "2023-10-23T10:38:28.667200Z",
     "shell.execute_reply": "2023-10-23T10:38:28.666769Z"
    },
    "papermill": {
     "duration": 6.463522,
     "end_time": "2023-10-23T10:38:28.668290",
     "exception": false,
     "start_time": "2023-10-23T10:38:22.204768",
     "status": "completed"
    },
    "tags": []
   },
   "outputs": [],
   "source": [
    "r = requests.get(link)\n",
    "with open('../../data-raw/school-pupils-characteristics/school-pupils-and-their-characteristics.zip', 'wb') as f:\n",
    "    f.write(r.content)"
   ]
  }
 ],
 "metadata": {
  "kernelspec": {
   "display_name": "jrf-insight-VA15kXRI",
   "language": "python",
   "name": "python3"
  },
  "language_info": {
   "codemirror_mode": {
    "name": "ipython",
    "version": 3
   },
   "file_extension": ".py",
   "mimetype": "text/x-python",
   "name": "python",
   "nbconvert_exporter": "python",
   "pygments_lexer": "ipython3",
   "version": "3.10.12"
  },
  "papermill": {
   "default_parameters": {},
   "duration": 7.648867,
   "end_time": "2023-10-23T10:38:28.784115",
   "environment_variables": {},
   "exception": null,
   "input_path": "extract.ipynb",
   "output_path": "output/extract.ipynb",
   "parameters": {},
   "start_time": "2023-10-23T10:38:21.135248",
   "version": "2.4.0"
  }
 },
 "nbformat": 4,
 "nbformat_minor": 5
}