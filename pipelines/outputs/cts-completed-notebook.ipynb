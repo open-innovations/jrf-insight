{
 "cells": [
  {
   "cell_type": "code",
   "execution_count": 1,
   "id": "c3c47977",
   "metadata": {
    "execution": {
     "iopub.execute_input": "2023-06-22T08:43:59.579462Z",
     "iopub.status.busy": "2023-06-22T08:43:59.578701Z",
     "iopub.status.idle": "2023-06-22T08:43:59.583249Z",
     "shell.execute_reply": "2023-06-22T08:43:59.582532Z"
    },
    "papermill": {
     "duration": 0.01794,
     "end_time": "2023-06-22T08:43:59.584571",
     "exception": false,
     "start_time": "2023-06-22T08:43:59.566631",
     "status": "completed"
    },
    "tags": [
     "parameters"
    ]
   },
   "outputs": [],
   "source": [
    "# geography_code: str = 'E92000001'\n",
    "# geography_name: str = 'England'\n",
    "# geography_type: str = 'NaN'\n",
    "# variable_code: str = 'pensioners'\n",
    "# variable_name: str = 'pensioners'"
   ]
  },
  {
   "cell_type": "code",
   "execution_count": 2,
   "id": "653cfa2b",
   "metadata": {
    "execution": {
     "iopub.execute_input": "2023-06-22T08:43:59.607192Z",
     "iopub.status.busy": "2023-06-22T08:43:59.606369Z",
     "iopub.status.idle": "2023-06-22T08:43:59.613989Z",
     "shell.execute_reply": "2023-06-22T08:43:59.612555Z"
    },
    "papermill": {
     "duration": 0.020705,
     "end_time": "2023-06-22T08:43:59.615516",
     "exception": false,
     "start_time": "2023-06-22T08:43:59.594811",
     "status": "completed"
    },
    "tags": [
     "injected-parameters"
    ]
   },
   "outputs": [],
   "source": [
    "# Parameters\n",
    "geography_code = \"E12000003\"\n",
    "geography_type = \"N\"\n",
    "region = \"west_yorkshire\"\n",
    "thing = \"council_tax_support\"\n",
    "place = \"src/_data/places/E47000003.yml\"\n",
    "code_start = \"E08\"\n"
   ]
  },
  {
   "cell_type": "code",
   "execution_count": 3,
   "id": "7f4a69f5",
   "metadata": {
    "execution": {
     "iopub.execute_input": "2023-06-22T08:43:59.637491Z",
     "iopub.status.busy": "2023-06-22T08:43:59.636878Z",
     "iopub.status.idle": "2023-06-22T08:44:00.127815Z",
     "shell.execute_reply": "2023-06-22T08:44:00.127048Z"
    },
    "papermill": {
     "duration": 0.505659,
     "end_time": "2023-06-22T08:44:00.129296",
     "exception": false,
     "start_time": "2023-06-22T08:43:59.623637",
     "status": "completed"
    },
    "tags": []
   },
   "outputs": [],
   "source": [
    "# Get modules\n",
    "import pandas as pd\n",
    "import os\n",
    "import yaml\n",
    "#os.chdir(r\"C:\\Users\\LukeStrange\\Code\\jrf-insight\")"
   ]
  },
  {
   "cell_type": "code",
   "execution_count": 4,
   "id": "90ecfe58",
   "metadata": {
    "execution": {
     "iopub.execute_input": "2023-06-22T08:44:00.149514Z",
     "iopub.status.busy": "2023-06-22T08:44:00.148574Z",
     "iopub.status.idle": "2023-06-22T08:44:00.199274Z",
     "shell.execute_reply": "2023-06-22T08:44:00.198522Z"
    },
    "papermill": {
     "duration": 0.063295,
     "end_time": "2023-06-22T08:44:00.200877",
     "exception": false,
     "start_time": "2023-06-22T08:44:00.137582",
     "status": "completed"
    },
    "tags": []
   },
   "outputs": [],
   "source": [
    "path = \"data/council-tax-support/council-tax-support.csv\"\n",
    "# temp_path = r\"C:\\Users\\LukeStrange\\Code\\jrf-insight\\data\\council-tax-support\\council-tax-support.csv\"\n",
    "data = pd.read_csv(path)\n",
    "most_recent_date = max(data.date)\n",
    "# geog_types = data.geography_type.unique().tolist()\n",
    "# print(geog_types)\n",
    "\n",
    "# get most recent date  \n",
    "data = data[data.date == most_recent_date]\n",
    "\n",
    "# get northern codes\n",
    "with open(place) as f:\n",
    "        out = yaml.safe_load(f.read())\n",
    "        #print(out)\n",
    "        places = out['children'][code_start]\n",
    "data = data[data['geography_code'].isin(places)]"
   ]
  },
  {
   "cell_type": "code",
   "execution_count": 5,
   "id": "05fca7f1",
   "metadata": {
    "execution": {
     "iopub.execute_input": "2023-06-22T08:44:00.220533Z",
     "iopub.status.busy": "2023-06-22T08:44:00.220150Z",
     "iopub.status.idle": "2023-06-22T08:44:00.231124Z",
     "shell.execute_reply": "2023-06-22T08:44:00.230382Z"
    },
    "papermill": {
     "duration": 0.023077,
     "end_time": "2023-06-22T08:44:00.232436",
     "exception": false,
     "start_time": "2023-06-22T08:44:00.209359",
     "status": "completed"
    },
    "tags": []
   },
   "outputs": [],
   "source": [
    "#data = data[data.geography_type.isna()]\n",
    "data = data.groupby('geography_code').sum(numeric_only=True)#.to_frame()\n",
    "data.loc[region] = data.sum()\n",
    "data.rename(columns={'value': 'council_tax_support'}, inplace=True)\n",
    "#data['date'] = most_recent_date"
   ]
  },
  {
   "cell_type": "code",
   "execution_count": 6,
   "id": "e9d124e6",
   "metadata": {
    "execution": {
     "iopub.execute_input": "2023-06-22T08:44:00.252107Z",
     "iopub.status.busy": "2023-06-22T08:44:00.251626Z",
     "iopub.status.idle": "2023-06-22T08:44:00.275610Z",
     "shell.execute_reply": "2023-06-22T08:44:00.274568Z"
    },
    "papermill": {
     "duration": 0.036172,
     "end_time": "2023-06-22T08:44:00.277303",
     "exception": false,
     "start_time": "2023-06-22T08:44:00.241131",
     "status": "completed"
    },
    "tags": []
   },
   "outputs": [],
   "source": [
    "# make directories and save files\n",
    "OUTDIR = f'src/_data/place_data/{region}'\n",
    "os.makedirs(OUTDIR, exist_ok=True)\n",
    "data.to_csv(os.path.join(OUTDIR, f'{thing}.csv'))"
   ]
  }
 ],
 "metadata": {
  "kernelspec": {
   "display_name": "Python 3",
   "language": "python",
   "name": "python3"
  },
  "language_info": {
   "codemirror_mode": {
    "name": "ipython",
    "version": 3
   },
   "file_extension": ".py",
   "mimetype": "text/x-python",
   "name": "python",
   "nbconvert_exporter": "python",
   "pygments_lexer": "ipython3",
   "version": "3.10.6"
  },
  "papermill": {
   "default_parameters": {},
   "duration": 2.297198,
   "end_time": "2023-06-22T08:44:00.510159",
   "environment_variables": {},
   "exception": null,
   "input_path": "pipelines/notebooks/council-tax-support/council-tax-support.ipynb",
   "output_path": "pipelines/outputs/cts-completed-notebook.ipynb",
   "parameters": {
    "code_start": "E08",
    "geography_code": "E12000003",
    "geography_type": "N",
    "place": "src/_data/places/E47000003.yml",
    "region": "west_yorkshire",
    "thing": "council_tax_support"
   },
   "start_time": "2023-06-22T08:43:58.212961",
   "version": "2.4.0"
  }
 },
 "nbformat": 4,
 "nbformat_minor": 5
}