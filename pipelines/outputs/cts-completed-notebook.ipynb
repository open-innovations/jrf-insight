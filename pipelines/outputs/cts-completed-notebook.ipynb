{
 "cells": [
  {
   "cell_type": "code",
   "execution_count": 1,
   "id": "b999216a",
   "metadata": {
    "execution": {
     "iopub.execute_input": "2023-06-21T14:46:01.434819Z",
     "iopub.status.busy": "2023-06-21T14:46:01.434492Z",
     "iopub.status.idle": "2023-06-21T14:46:01.439881Z",
     "shell.execute_reply": "2023-06-21T14:46:01.438788Z"
    },
    "papermill": {
     "duration": 0.024488,
     "end_time": "2023-06-21T14:46:01.441676",
     "exception": false,
     "start_time": "2023-06-21T14:46:01.417188",
     "status": "completed"
    },
    "tags": [
     "parameters"
    ]
   },
   "outputs": [],
   "source": [
    "# geography_code: str = 'E92000001'\n",
    "# geography_name: str = 'England'\n",
    "# geography_type: str = 'NaN'\n",
    "# variable_code: str = 'pensioners'\n",
    "# variable_name: str = 'pensioners'"
   ]
  },
  {
   "cell_type": "code",
   "execution_count": 2,
   "id": "deb91f19",
   "metadata": {
    "execution": {
     "iopub.execute_input": "2023-06-21T14:46:01.476200Z",
     "iopub.status.busy": "2023-06-21T14:46:01.474594Z",
     "iopub.status.idle": "2023-06-21T14:46:01.484534Z",
     "shell.execute_reply": "2023-06-21T14:46:01.482457Z"
    },
    "papermill": {
     "duration": 0.029341,
     "end_time": "2023-06-21T14:46:01.487556",
     "exception": false,
     "start_time": "2023-06-21T14:46:01.458215",
     "status": "completed"
    },
    "tags": [
     "injected-parameters"
    ]
   },
   "outputs": [],
   "source": [
    "# Parameters\n",
    "geography_code = \"E12000003\"\n",
    "geography_type = \"N\"\n",
    "region = \"the_north\"\n",
    "thing = \"council_tax_support\"\n"
   ]
  },
  {
   "cell_type": "code",
   "execution_count": 3,
   "id": "6cbef553",
   "metadata": {
    "execution": {
     "iopub.execute_input": "2023-06-21T14:46:01.516626Z",
     "iopub.status.busy": "2023-06-21T14:46:01.515925Z",
     "iopub.status.idle": "2023-06-21T14:46:01.909951Z",
     "shell.execute_reply": "2023-06-21T14:46:01.908336Z"
    },
    "papermill": {
     "duration": 0.41243,
     "end_time": "2023-06-21T14:46:01.912369",
     "exception": false,
     "start_time": "2023-06-21T14:46:01.499939",
     "status": "completed"
    },
    "tags": []
   },
   "outputs": [],
   "source": [
    "# Get modules\n",
    "import pandas as pd\n",
    "import os\n",
    "import yaml\n",
    "#os.chdir(r\"C:\\Users\\LukeStrange\\Code\\jrf-insight\")"
   ]
  },
  {
   "cell_type": "code",
   "execution_count": 4,
   "id": "6569c5cb",
   "metadata": {
    "execution": {
     "iopub.execute_input": "2023-06-21T14:46:01.941778Z",
     "iopub.status.busy": "2023-06-21T14:46:01.940057Z",
     "iopub.status.idle": "2023-06-21T14:46:02.019304Z",
     "shell.execute_reply": "2023-06-21T14:46:02.018323Z"
    },
    "papermill": {
     "duration": 0.096819,
     "end_time": "2023-06-21T14:46:02.021134",
     "exception": false,
     "start_time": "2023-06-21T14:46:01.924315",
     "status": "completed"
    },
    "tags": []
   },
   "outputs": [],
   "source": [
    "path = \"data/council-tax-support/council-tax-support.csv\"\n",
    "# temp_path = r\"C:\\Users\\LukeStrange\\Code\\jrf-insight\\data\\council-tax-support\\council-tax-support.csv\"\n",
    "data = pd.read_csv(path)\n",
    "most_recent_date = max(data.date)\n",
    "# geog_types = data.geography_type.unique().tolist()\n",
    "# print(geog_types)\n",
    "\n",
    "# get most recent date  \n",
    "data = data[data.date == most_recent_date]\n",
    "\n",
    "# get northern codes\n",
    "\n",
    "\n",
    "with open(\"src/_data/places/the_north.yml\") as f:\n",
    "        out = yaml.safe_load(f.read())\n",
    "        #print(out)\n",
    "        places = out['children']['E12']\n",
    "data = data[data['geography_code'].isin(places)]"
   ]
  },
  {
   "cell_type": "code",
   "execution_count": 5,
   "id": "9371b325",
   "metadata": {
    "execution": {
     "iopub.execute_input": "2023-06-21T14:46:02.049029Z",
     "iopub.status.busy": "2023-06-21T14:46:02.047778Z",
     "iopub.status.idle": "2023-06-21T14:46:02.059264Z",
     "shell.execute_reply": "2023-06-21T14:46:02.057698Z"
    },
    "papermill": {
     "duration": 0.029134,
     "end_time": "2023-06-21T14:46:02.061961",
     "exception": false,
     "start_time": "2023-06-21T14:46:02.032827",
     "status": "completed"
    },
    "tags": []
   },
   "outputs": [],
   "source": [
    "data = data[data.geography_type.isna()]\n",
    "data = data.groupby('geography_code').sum(numeric_only=True)#.to_frame()\n",
    "data.loc['the_north'] = data.sum()\n",
    "data.rename(columns={'value': 'council_tax_support'}, inplace=True)\n",
    "#data['date'] = most_recent_date"
   ]
  },
  {
   "cell_type": "code",
   "execution_count": 6,
   "id": "af5d2df9",
   "metadata": {
    "execution": {
     "iopub.execute_input": "2023-06-21T14:46:02.092698Z",
     "iopub.status.busy": "2023-06-21T14:46:02.092146Z",
     "iopub.status.idle": "2023-06-21T14:46:02.154127Z",
     "shell.execute_reply": "2023-06-21T14:46:02.152298Z"
    },
    "papermill": {
     "duration": 0.083622,
     "end_time": "2023-06-21T14:46:02.157610",
     "exception": false,
     "start_time": "2023-06-21T14:46:02.073988",
     "status": "completed"
    },
    "tags": []
   },
   "outputs": [],
   "source": [
    "# make directories and save files\n",
    "OUTDIR = f'src/_data/place_data/{region}'\n",
    "os.makedirs(OUTDIR, exist_ok=True)\n",
    "data.to_csv(os.path.join(OUTDIR, f'{thing}.csv'))"
   ]
  }
 ],
 "metadata": {
  "kernelspec": {
   "display_name": "Python 3",
   "language": "python",
   "name": "python3"
  },
  "language_info": {
   "codemirror_mode": {
    "name": "ipython",
    "version": 3
   },
   "file_extension": ".py",
   "mimetype": "text/x-python",
   "name": "python",
   "nbconvert_exporter": "python",
   "pygments_lexer": "ipython3",
   "version": "3.10.6"
  },
  "papermill": {
   "default_parameters": {},
   "duration": 2.256761,
   "end_time": "2023-06-21T14:46:02.511040",
   "environment_variables": {},
   "exception": null,
   "input_path": "pipelines/notebooks/council-tax-support/council-tax-support.ipynb",
   "output_path": "pipelines/outputs/cts-completed-notebook.ipynb",
   "parameters": {
    "geography_code": "E12000003",
    "geography_type": "N",
    "region": "the_north",
    "thing": "council_tax_support"
   },
   "start_time": "2023-06-21T14:46:00.254279",
   "version": "2.4.0"
  }
 },
 "nbformat": 4,
 "nbformat_minor": 5
}