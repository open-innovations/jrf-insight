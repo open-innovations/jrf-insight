{
 "cells": [
  {
   "cell_type": "code",
   "execution_count": 1,
   "id": "3c277a1f",
   "metadata": {
    "execution": {
     "iopub.execute_input": "2023-06-23T11:30:18.042206Z",
     "iopub.status.busy": "2023-06-23T11:30:18.041590Z",
     "iopub.status.idle": "2023-06-23T11:30:18.046803Z",
     "shell.execute_reply": "2023-06-23T11:30:18.046015Z"
    },
    "papermill": {
     "duration": 0.016676,
     "end_time": "2023-06-23T11:30:18.048344",
     "exception": false,
     "start_time": "2023-06-23T11:30:18.031668",
     "status": "completed"
    },
    "tags": [
     "parameters"
    ]
   },
   "outputs": [],
   "source": [
    "# geography_code: str = 'E92000001'\n",
    "# geography_name: str = 'England'\n",
    "# geography_type: str = 'NaN'\n",
    "# variable_code: str = 'pensioners'\n",
    "# variable_name: str = 'pensioners'"
   ]
  },
  {
   "cell_type": "code",
   "execution_count": 2,
   "id": "3bedec56",
   "metadata": {
    "execution": {
     "iopub.execute_input": "2023-06-23T11:30:18.075279Z",
     "iopub.status.busy": "2023-06-23T11:30:18.074670Z",
     "iopub.status.idle": "2023-06-23T11:30:18.081562Z",
     "shell.execute_reply": "2023-06-23T11:30:18.080471Z"
    },
    "papermill": {
     "duration": 0.024173,
     "end_time": "2023-06-23T11:30:18.083071",
     "exception": false,
     "start_time": "2023-06-23T11:30:18.058898",
     "status": "completed"
    },
    "tags": [
     "injected-parameters"
    ]
   },
   "outputs": [],
   "source": [
    "# Parameters\n",
    "geography_code = \"E12000003\"\n",
    "geography_type = \"N\"\n",
    "region = \"the_north\"\n",
    "thing = \"council_tax_support\"\n",
    "place = \"src/_data/places/the_north.yml\"\n",
    "code_start = \"E12\"\n"
   ]
  },
  {
   "cell_type": "code",
   "execution_count": 3,
   "id": "883bf79a",
   "metadata": {
    "execution": {
     "iopub.execute_input": "2023-06-23T11:30:18.107846Z",
     "iopub.status.busy": "2023-06-23T11:30:18.107468Z",
     "iopub.status.idle": "2023-06-23T11:30:18.397030Z",
     "shell.execute_reply": "2023-06-23T11:30:18.395829Z"
    },
    "papermill": {
     "duration": 0.302199,
     "end_time": "2023-06-23T11:30:18.398775",
     "exception": false,
     "start_time": "2023-06-23T11:30:18.096576",
     "status": "completed"
    },
    "tags": []
   },
   "outputs": [],
   "source": [
    "# Get modules\n",
    "import pandas as pd\n",
    "import os\n",
    "import yaml\n",
    "#os.chdir(r\"C:\\Users\\LukeStrange\\Code\\jrf-insight\")"
   ]
  },
  {
   "cell_type": "code",
   "execution_count": 4,
   "id": "bbce3417",
   "metadata": {
    "execution": {
     "iopub.execute_input": "2023-06-23T11:30:18.420123Z",
     "iopub.status.busy": "2023-06-23T11:30:18.419380Z",
     "iopub.status.idle": "2023-06-23T11:30:18.476578Z",
     "shell.execute_reply": "2023-06-23T11:30:18.475146Z"
    },
    "papermill": {
     "duration": 0.073108,
     "end_time": "2023-06-23T11:30:18.479777",
     "exception": false,
     "start_time": "2023-06-23T11:30:18.406669",
     "status": "completed"
    },
    "tags": []
   },
   "outputs": [],
   "source": [
    "path = \"data/council-tax-support/council-tax-support.csv\"\n",
    "# temp_path = r\"C:\\Users\\LukeStrange\\Code\\jrf-insight\\data\\council-tax-support\\council-tax-support.csv\"\n",
    "data = pd.read_csv(path)\n",
    "most_recent_date = max(data.date)\n",
    "# geog_types = data.geography_type.unique().tolist()\n",
    "# print(geog_types)\n",
    "\n",
    "# get most recent date  \n",
    "data = data[data.date == most_recent_date]\n",
    "\n",
    "# get northern codes\n",
    "with open(place) as f:\n",
    "        out = yaml.safe_load(f.read())\n",
    "        #print(out)\n",
    "        places = out['children'][code_start]\n",
    "data = data[data['geography_code'].isin(places)]"
   ]
  },
  {
   "cell_type": "code",
   "execution_count": 5,
   "id": "0f124dd3",
   "metadata": {
    "execution": {
     "iopub.execute_input": "2023-06-23T11:30:18.518673Z",
     "iopub.status.busy": "2023-06-23T11:30:18.517902Z",
     "iopub.status.idle": "2023-06-23T11:30:18.525526Z",
     "shell.execute_reply": "2023-06-23T11:30:18.524414Z"
    },
    "papermill": {
     "duration": 0.035387,
     "end_time": "2023-06-23T11:30:18.527862",
     "exception": false,
     "start_time": "2023-06-23T11:30:18.492475",
     "status": "completed"
    },
    "tags": []
   },
   "outputs": [],
   "source": [
    "#data = data[data.geography_type.isna()]\n",
    "data = data.groupby('geography_code').sum(numeric_only=True)#.to_frame()\n",
    "#data.loc[region] = data.sum()\n",
    "data.rename(columns={'value': 'council_tax_support'}, inplace=True)\n",
    "#data['date'] = most_recent_date"
   ]
  },
  {
   "cell_type": "code",
   "execution_count": 6,
   "id": "8a14be55",
   "metadata": {
    "execution": {
     "iopub.execute_input": "2023-06-23T11:30:18.566928Z",
     "iopub.status.busy": "2023-06-23T11:30:18.564583Z",
     "iopub.status.idle": "2023-06-23T11:30:18.605765Z",
     "shell.execute_reply": "2023-06-23T11:30:18.604773Z"
    },
    "papermill": {
     "duration": 0.060173,
     "end_time": "2023-06-23T11:30:18.607499",
     "exception": false,
     "start_time": "2023-06-23T11:30:18.547326",
     "status": "completed"
    },
    "tags": []
   },
   "outputs": [],
   "source": [
    "# make directories and save files\n",
    "OUTDIR = f'src/_data/place_data/{region}'\n",
    "os.makedirs(OUTDIR, exist_ok=True)\n",
    "data.to_csv(os.path.join(OUTDIR, f'{thing}.csv'))"
   ]
  }
 ],
 "metadata": {
  "kernelspec": {
   "display_name": "Python 3",
   "language": "python",
   "name": "python3"
  },
  "language_info": {
   "codemirror_mode": {
    "name": "ipython",
    "version": 3
   },
   "file_extension": ".py",
   "mimetype": "text/x-python",
   "name": "python",
   "nbconvert_exporter": "python",
   "pygments_lexer": "ipython3",
   "version": "3.10.6"
  },
  "papermill": {
   "default_parameters": {},
   "duration": 1.838824,
   "end_time": "2023-06-23T11:30:18.837935",
   "environment_variables": {},
   "exception": null,
   "input_path": "pipelines/notebooks/council-tax-support/council-tax-support.ipynb",
   "output_path": "pipelines/outputs/cts-completed-notebook.ipynb",
   "parameters": {
    "code_start": "E12",
    "geography_code": "E12000003",
    "geography_type": "N",
    "place": "src/_data/places/the_north.yml",
    "region": "the_north",
    "thing": "council_tax_support"
   },
   "start_time": "2023-06-23T11:30:16.999111",
   "version": "2.4.0"
  }
 },
 "nbformat": 4,
 "nbformat_minor": 5
}