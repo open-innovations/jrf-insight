{
 "cells": [
  {
   "cell_type": "code",
   "execution_count": 1,
   "id": "08c6c208",
   "metadata": {
    "execution": {
     "iopub.execute_input": "2023-06-21T08:44:44.998769Z",
     "iopub.status.busy": "2023-06-21T08:44:44.997463Z",
     "iopub.status.idle": "2023-06-21T08:44:45.008989Z",
     "shell.execute_reply": "2023-06-21T08:44:45.007666Z"
    },
    "papermill": {
     "duration": 0.033704,
     "end_time": "2023-06-21T08:44:45.011180",
     "exception": false,
     "start_time": "2023-06-21T08:44:44.977476",
     "status": "completed"
    },
    "tags": [
     "parameters"
    ]
   },
   "outputs": [],
   "source": [
    "n: int = 42"
   ]
  },
  {
   "cell_type": "code",
   "execution_count": 2,
   "id": "7aa21df6",
   "metadata": {
    "execution": {
     "iopub.execute_input": "2023-06-21T08:44:45.039228Z",
     "iopub.status.busy": "2023-06-21T08:44:45.038913Z",
     "iopub.status.idle": "2023-06-21T08:44:45.045844Z",
     "shell.execute_reply": "2023-06-21T08:44:45.043829Z"
    },
    "papermill": {
     "duration": 0.022859,
     "end_time": "2023-06-21T08:44:45.047866",
     "exception": false,
     "start_time": "2023-06-21T08:44:45.025007",
     "status": "completed"
    },
    "tags": [
     "injected-parameters"
    ]
   },
   "outputs": [],
   "source": [
    "# Parameters\n",
    "n = 100\n"
   ]
  },
  {
   "cell_type": "code",
   "execution_count": 3,
   "id": "1def2803",
   "metadata": {
    "execution": {
     "iopub.execute_input": "2023-06-21T08:44:45.080639Z",
     "iopub.status.busy": "2023-06-21T08:44:45.079717Z",
     "iopub.status.idle": "2023-06-21T08:44:45.085557Z",
     "shell.execute_reply": "2023-06-21T08:44:45.084428Z"
    },
    "papermill": {
     "duration": 0.027044,
     "end_time": "2023-06-21T08:44:45.087254",
     "exception": false,
     "start_time": "2023-06-21T08:44:45.060210",
     "status": "completed"
    },
    "tags": []
   },
   "outputs": [
    {
     "name": "stdout",
     "output_type": "stream",
     "text": [
      "100\n"
     ]
    }
   ],
   "source": [
    "print(n)"
   ]
  },
  {
   "cell_type": "code",
   "execution_count": null,
   "id": "4a662645",
   "metadata": {
    "papermill": {
     "duration": 0.012608,
     "end_time": "2023-06-21T08:44:45.112018",
     "exception": false,
     "start_time": "2023-06-21T08:44:45.099410",
     "status": "completed"
    },
    "tags": []
   },
   "outputs": [],
   "source": []
  }
 ],
 "metadata": {
  "kernelspec": {
   "display_name": "Python 3",
   "language": "python",
   "name": "python3"
  },
  "language_info": {
   "codemirror_mode": {
    "name": "ipython",
    "version": 3
   },
   "file_extension": ".py",
   "mimetype": "text/x-python",
   "name": "python",
   "nbconvert_exporter": "python",
   "pygments_lexer": "ipython3",
   "version": "3.10.6"
  },
  "papermill": {
   "default_parameters": {},
   "duration": 2.497883,
   "end_time": "2023-06-21T08:44:45.244007",
   "environment_variables": {},
   "exception": null,
   "input_path": "pipelines/notebooks/council-tax-support/council-tax-support.ipynb",
   "output_path": "pipelines/outputs/cts-completed-notebook.ipynb",
   "parameters": {
    "n": 100
   },
   "start_time": "2023-06-21T08:44:42.746124",
   "version": "2.4.0"
  }
 },
 "nbformat": 4,
 "nbformat_minor": 5
}