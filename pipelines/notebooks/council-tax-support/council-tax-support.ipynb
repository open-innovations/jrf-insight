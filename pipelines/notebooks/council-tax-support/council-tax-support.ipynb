{
 "cells": [
  {
   "cell_type": "code",
   "execution_count": 66,
   "metadata": {
    "tags": [
     "parameters"
    ]
   },
   "outputs": [],
   "source": [
    "# geography_code: str = 'E92000001'\n",
    "# geography_name: str = 'England'\n",
    "# geography_type: str = 'NaN'\n",
    "# variable_code: str = 'pensioners'\n",
    "# variable_name: str = 'pensioners'"
   ]
  },
  {
   "cell_type": "code",
   "execution_count": 3,
   "metadata": {},
   "outputs": [],
   "source": [
    "# Get modules\n",
    "import pandas as pd\n",
    "import os\n",
    "import yaml\n",
    "#os.chdir(r\"C:\\Users\\LukeStrange\\Code\\jrf-insight\")"
   ]
  },
  {
   "cell_type": "code",
   "execution_count": 48,
   "metadata": {},
   "outputs": [],
   "source": [
    "path = \"data/council-tax-support/council-tax-support.csv\"\n",
    "# temp_path = r\"C:\\Users\\LukeStrange\\Code\\jrf-insight\\data\\council-tax-support\\council-tax-support.csv\"\n",
    "data = pd.read_csv(path)\n",
    "most_recent_date = max(data.date)\n",
    "# geog_types = data.geography_type.unique().tolist()\n",
    "# print(geog_types)\n",
    "\n",
    "# get most recent date  \n",
    "data = data[data.date == most_recent_date]\n",
    "\n",
    "# get northern codes\n",
    "with open(place) as f:\n",
    "        out = yaml.safe_load(f.read())\n",
    "        #print(out)\n",
    "        places = out['children'][code_start]\n",
    "data = data[data['geography_code'].isin(places)]"
   ]
  },
  {
   "cell_type": "code",
   "execution_count": 49,
   "metadata": {},
   "outputs": [
    {
     "data": {
      "text/html": [
       "<div>\n",
       "<style scoped>\n",
       "    .dataframe tbody tr th:only-of-type {\n",
       "        vertical-align: middle;\n",
       "    }\n",
       "\n",
       "    .dataframe tbody tr th {\n",
       "        vertical-align: top;\n",
       "    }\n",
       "\n",
       "    .dataframe thead th {\n",
       "        text-align: right;\n",
       "    }\n",
       "</style>\n",
       "<table border=\"1\" class=\"dataframe\">\n",
       "  <thead>\n",
       "    <tr style=\"text-align: right;\">\n",
       "      <th></th>\n",
       "      <th>council_tax_support</th>\n",
       "    </tr>\n",
       "    <tr>\n",
       "      <th>geography_code</th>\n",
       "      <th></th>\n",
       "    </tr>\n",
       "  </thead>\n",
       "  <tbody>\n",
       "    <tr>\n",
       "      <th>E12000001</th>\n",
       "      <td>561288.0</td>\n",
       "    </tr>\n",
       "    <tr>\n",
       "      <th>E12000002</th>\n",
       "      <td>595859.0</td>\n",
       "    </tr>\n",
       "    <tr>\n",
       "      <th>E12000003</th>\n",
       "      <td>412398.0</td>\n",
       "    </tr>\n",
       "    <tr>\n",
       "      <th>the_north</th>\n",
       "      <td>1569545.0</td>\n",
       "    </tr>\n",
       "  </tbody>\n",
       "</table>\n",
       "</div>"
      ],
      "text/plain": [
       "                council_tax_support\n",
       "geography_code                     \n",
       "E12000001                  561288.0\n",
       "E12000002                  595859.0\n",
       "E12000003                  412398.0\n",
       "the_north                 1569545.0"
      ]
     },
     "execution_count": 49,
     "metadata": {},
     "output_type": "execute_result"
    }
   ],
   "source": [
    "#data = data[data.geography_type.isna()]\n",
    "data = data.groupby('geography_code').sum(numeric_only=True)#.to_frame()\n",
    "#data.loc[region] = data.sum()\n",
    "data.rename(columns={'value': 'council_tax_support'}, inplace=True)\n",
    "#data['date'] = most_recent_date"
   ]
  },
  {
   "cell_type": "code",
   "execution_count": 50,
   "metadata": {},
   "outputs": [
    {
     "ename": "NameError",
     "evalue": "name 'region' is not defined",
     "output_type": "error",
     "traceback": [
      "\u001b[1;31m---------------------------------------------------------------------------\u001b[0m",
      "\u001b[1;31mNameError\u001b[0m                                 Traceback (most recent call last)",
      "Cell \u001b[1;32mIn[50], line 2\u001b[0m\n\u001b[0;32m      1\u001b[0m \u001b[39m# make directories and save file\u001b[39;00m\n\u001b[1;32m----> 2\u001b[0m OUTDIR \u001b[39m=\u001b[39m \u001b[39mf\u001b[39m\u001b[39m'\u001b[39m\u001b[39msrc/_data/place_data/\u001b[39m\u001b[39m{\u001b[39;00mregion\u001b[39m}\u001b[39;00m\u001b[39m'\u001b[39m\n\u001b[0;32m      3\u001b[0m os\u001b[39m.\u001b[39mmakedirs(OUTDIR, exist_ok\u001b[39m=\u001b[39m\u001b[39mTrue\u001b[39;00m)\n\u001b[0;32m      4\u001b[0m data\u001b[39m.\u001b[39mto_csv(os\u001b[39m.\u001b[39mpath\u001b[39m.\u001b[39mjoin(OUTDIR, \u001b[39mf\u001b[39m\u001b[39m'\u001b[39m\u001b[39m{\u001b[39;00mthing\u001b[39m}\u001b[39;00m\u001b[39m.csv\u001b[39m\u001b[39m'\u001b[39m))\n",
      "\u001b[1;31mNameError\u001b[0m: name 'region' is not defined"
     ]
    }
   ],
   "source": [
    "# make directories and save files\n",
    "OUTDIR = f'src/_data/place_data/{region}'\n",
    "os.makedirs(OUTDIR, exist_ok=True)\n",
    "data.to_csv(os.path.join(OUTDIR, f'{thing}.csv'))"
   ]
  }
 ],
 "metadata": {
  "kernelspec": {
   "display_name": "Python 3",
   "language": "python",
   "name": "python3"
  },
  "language_info": {
   "codemirror_mode": {
    "name": "ipython",
    "version": 3
   },
   "file_extension": ".py",
   "mimetype": "text/x-python",
   "name": "python",
   "nbconvert_exporter": "python",
   "pygments_lexer": "ipython3",
   "version": "3.11.3"
  },
  "orig_nbformat": 4
 },
 "nbformat": 4,
 "nbformat_minor": 2
}
