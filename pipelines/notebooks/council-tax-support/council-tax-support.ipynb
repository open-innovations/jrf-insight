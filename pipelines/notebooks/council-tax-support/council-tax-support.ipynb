{
 "cells": [
  {
   "cell_type": "code",
   "execution_count": 8,
   "metadata": {
    "tags": [
     "parameters"
    ]
   },
   "outputs": [],
   "source": [
    "geography_code: str = 'E12000003'\n",
    "geography_name: str = 'Yorkshire and the Humber'\n",
    "geography_type: str = 'NA'\n",
    "variable_code: str = 'pensioners'\n",
    "variable_name: str = 'pensioners'"
   ]
  },
  {
   "cell_type": "code",
   "execution_count": 9,
   "metadata": {},
   "outputs": [],
   "source": [
    "import pandas as pd"
   ]
  },
  {
   "cell_type": "code",
   "execution_count": 15,
   "metadata": {},
   "outputs": [
    {
     "name": "stdout",
     "output_type": "stream",
     "text": [
      "[nan, 'SD', 'L', 'MD', 'UA']\n"
     ]
    }
   ],
   "source": [
    "path = r'C:\\Users\\LukeStrange\\Code\\jrf-insight\\data\\council-tax-support\\council-tax-support.csv'\n",
    "data = pd.read_csv(path)\n",
    "most_recent_date = max(data.date)\n",
    "geog_types = data.geography_type.unique().tolist()\n",
    "print(geog_types)\n",
    "\n",
    "# removing London from the data\n",
    "data = data[data.geography_type != 'L']\n",
    "data = data[data.date == most_recent_date]"
   ]
  },
  {
   "cell_type": "code",
   "execution_count": 16,
   "metadata": {},
   "outputs": [
    {
     "name": "stdout",
     "output_type": "stream",
     "text": [
      "             date geography_code.ba geography_code      geography_name   \n",
      "30     2022-12-31               NaN      E92000001             England  \\\n",
      "61     2022-12-31               NaN      E12000006     East of England   \n",
      "92     2022-12-31               NaN      E12000001       East Midlands   \n",
      "123    2022-12-31               NaN      E12000007              London   \n",
      "154    2022-12-31               NaN      E12000001  North East England   \n",
      "...           ...               ...            ...                 ...   \n",
      "21203  2022-12-31             E1838      E07000238            Wychavon   \n",
      "21234  2022-12-31             E0435      E07000007             Wycombe   \n",
      "21265  2022-12-31             E2344      E07000128                Wyre   \n",
      "21296  2022-12-31             E1839      E07000239         Wyre Forest   \n",
      "21327  2022-12-31             E2701      E06000014                York   \n",
      "\n",
      "      geography_type variable_code variable_name      value  \n",
      "30               NaN    pensioners    pensioners  1393323.0  \n",
      "61               NaN    pensioners    pensioners   135879.0  \n",
      "92               NaN    pensioners    pensioners   118468.0  \n",
      "123              NaN    pensioners    pensioners   193559.0  \n",
      "154              NaN    pensioners    pensioners   100986.0  \n",
      "...              ...           ...           ...        ...  \n",
      "21203             SD   working_age   working_age     3817.0  \n",
      "21234             SD   working_age   working_age        NaN  \n",
      "21265             SD   working_age   working_age     5105.0  \n",
      "21296             SD   working_age   working_age     4551.0  \n",
      "21327             UA   working_age   working_age     4456.0  \n",
      "\n",
      "[688 rows x 8 columns]\n"
     ]
    }
   ],
   "source": [
    "print(data)"
   ]
  },
  {
   "cell_type": "code",
   "execution_count": null,
   "metadata": {},
   "outputs": [],
   "source": []
  }
 ],
 "metadata": {
  "kernelspec": {
   "display_name": "Python 3",
   "language": "python",
   "name": "python3"
  },
  "language_info": {
   "codemirror_mode": {
    "name": "ipython",
    "version": 3
   },
   "file_extension": ".py",
   "mimetype": "text/x-python",
   "name": "python",
   "nbconvert_exporter": "python",
   "pygments_lexer": "ipython3",
   "version": "3.11.3"
  },
  "orig_nbformat": 4
 },
 "nbformat": 4,
 "nbformat_minor": 2
}
