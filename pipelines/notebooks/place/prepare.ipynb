{
 "cells": [
  {
   "cell_type": "code",
   "execution_count": 89,
   "metadata": {},
   "outputs": [],
   "source": [
    "import os\n",
    "import pandas as pd\n",
    "import json"
   ]
  },
  {
   "cell_type": "code",
   "execution_count": 90,
   "metadata": {
    "tags": [
     "parameters"
    ]
   },
   "outputs": [],
   "source": [
    "geography_code: str = 'E12999901'"
   ]
  },
  {
   "attachments": {},
   "cell_type": "markdown",
   "metadata": {},
   "source": [
    "Pseudocode\n",
    "\n",
    "* Locate sub-areas from geography source file\n",
    "* Read place data from EDD, filtering by"
   ]
  },
  {
   "cell_type": "code",
   "execution_count": 91,
   "metadata": {},
   "outputs": [],
   "source": [
    "DATA_DIR = '../../../src/_data'\n",
    "PLACE_DIR = f'{DATA_DIR}/place_data/{geography_code}/'\n",
    "os.makedirs(PLACE_DIR, exist_ok=True)"
   ]
  },
  {
   "cell_type": "code",
   "execution_count": 92,
   "metadata": {},
   "outputs": [],
   "source": [
    "place_metadata_file=f'{DATA_DIR}/places.json'\n",
    "with open(place_metadata_file) as f:\n",
    "    place_metadata = json.loads(f.read())[geography_code]"
   ]
  },
  {
   "cell_type": "code",
   "execution_count": 93,
   "metadata": {},
   "outputs": [],
   "source": [
    "geography_codes = [ geography_code ]\n",
    "if 'children' in place_metadata:\n",
    "    geography_codes = geography_codes + place_metadata['children']"
   ]
  },
  {
   "cell_type": "code",
   "execution_count": 94,
   "metadata": {},
   "outputs": [],
   "source": [
    "population_data = pd.read_csv('../../../data/population-estimates/population-estimates.csv')\n",
    "council_tax_data = pd.read_csv('../../../data/council-tax-support/council-tax-support.csv')"
   ]
  },
  {
   "cell_type": "code",
   "execution_count": 95,
   "metadata": {},
   "outputs": [],
   "source": [
    "place_pop = population_data[population_data.geography_code.isin(geography_codes)].drop_duplicates()"
   ]
  },
  {
   "cell_type": "code",
   "execution_count": 96,
   "metadata": {},
   "outputs": [],
   "source": [
    "most_recent_date = max(council_tax_data.date)\n",
    "place_ct = council_tax_data[council_tax_data.geography_code.isin(geography_codes) & (council_tax_data.date == most_recent_date)]"
   ]
  },
  {
   "cell_type": "code",
   "execution_count": 87,
   "metadata": {},
   "outputs": [],
   "source": [
    "place_data = pd.concat([\n",
    "    place_pop,\n",
    "    place_ct,\n",
    "]).pivot(index='geography_code', columns='variable_name', values='value')"
   ]
  },
  {
   "cell_type": "code",
   "execution_count": 88,
   "metadata": {},
   "outputs": [],
   "source": [
    "place_data.to_csv(f'{PLACE_DIR}/place_data.csv')"
   ]
  }
 ],
 "metadata": {
  "kernelspec": {
   "display_name": "yff-data-ansOWYcy",
   "language": "python",
   "name": "python3"
  },
  "language_info": {
   "codemirror_mode": {
    "name": "ipython",
    "version": 3
   },
   "file_extension": ".py",
   "mimetype": "text/x-python",
   "name": "python",
   "nbconvert_exporter": "python",
   "pygments_lexer": "ipython3",
   "version": "3.10.6"
  },
  "orig_nbformat": 4
 },
 "nbformat": 4,
 "nbformat_minor": 2
}
