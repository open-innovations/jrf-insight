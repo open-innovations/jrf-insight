{
 "cells": [
  {
   "cell_type": "code",
   "execution_count": 4,
   "metadata": {},
   "outputs": [],
   "source": [
    "import os\n",
    "import pandas as pd\n",
    "TOP_DIR = '../../..'\n",
    "RAW_DATA_DIR = f'{TOP_DIR}/data-raw'\n",
    "DATA_DIR = f'{TOP_DIR}/data'"
   ]
  },
  {
   "cell_type": "code",
   "execution_count": 2,
   "metadata": {},
   "outputs": [],
   "source": [
    "data = pd.read_csv(f'{RAW_DATA_DIR}/free-school-meals/data/fsm_time_series.csv', usecols=['time_period','region_code','new_la_code', 'phase','fsm_eligible_percent'])"
   ]
  },
  {
   "cell_type": "code",
   "execution_count": 8,
   "metadata": {},
   "outputs": [],
   "source": [
    "# only getting data for the 3 northern regions\n",
    "fsm = data.loc[data.region_code.isin(['E12000001', 'E12000002', 'E12000003'])].copy()\n",
    "\n",
    "# renaming columns\n",
    "fsm.rename(columns={'time_period': 'date', 'new_la_code': 'la_code'}, inplace=True)\n",
    "\n",
    "# the geo codes are split into two columns, so reshaping to merge these into one long column.\n",
    "fsm_regions = fsm[(~fsm.region_code.isna()) & (fsm.la_code.isna())].copy()\n",
    "fsm_la = fsm[(~fsm.region_code.isna()) & (~fsm.la_code.isna())].copy()\n",
    "fsm_regions.drop(columns='la_code', inplace=True)\n",
    "fsm_regions.rename(columns={'region_code': 'geography_code'}, inplace=True)\n",
    "fsm_la.drop(columns='region_code', inplace=True)\n",
    "fsm_la.rename(columns={'la_code': 'geography_code'}, inplace=True)\n",
    "fsm = pd.concat([fsm_regions, fsm_la]).set_index('date')\n",
    "fsm = fsm.round(1)\n",
    "#fsm.drop(fsm[(~fsm.date == 202021) & (fsm.phase == 'Special school')].index, inplace=True)"
   ]
  },
  {
   "cell_type": "code",
   "execution_count": 9,
   "metadata": {},
   "outputs": [],
   "source": [
    "# write to file\n",
    "fsm.to_csv(os.path.join(DATA_DIR, 'fsm/free_school_meals.csv'))"
   ]
  }
 ],
 "metadata": {
  "kernelspec": {
   "display_name": "jrf-insight-o_Bkqbd_",
   "language": "python",
   "name": "python3"
  },
  "language_info": {
   "codemirror_mode": {
    "name": "ipython",
    "version": 3
   },
   "file_extension": ".py",
   "mimetype": "text/x-python",
   "name": "python",
   "nbconvert_exporter": "python",
   "pygments_lexer": "ipython3",
   "version": "3.11.3"
  },
  "orig_nbformat": 4
 },
 "nbformat": 4,
 "nbformat_minor": 2
}
