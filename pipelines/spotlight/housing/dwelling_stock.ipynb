{
 "cells": [
  {
   "cell_type": "code",
   "execution_count": 178,
   "metadata": {},
   "outputs": [],
   "source": [
    "from params import *\n",
    "import re"
   ]
  },
  {
   "cell_type": "code",
   "execution_count": 184,
   "metadata": {},
   "outputs": [],
   "source": [
    "def read_data(sheet_name, header=3):\n",
    "    data = pd.read_excel(f'{RAW_DATA_DIR}/dwelling-stock/subnationaldwellingstockbytenure2021.xlsx',\n",
    "                         sheet_name=sheet_name,\n",
    "                         header=header)\n",
    "    colnames = data.columns.to_list()[4:]\n",
    "    print(colnames)\n",
    "    data = data.melt(value_vars=colnames)\n",
    "    # new_frame = data.filter(like='Local')\n",
    "    # for name, values in data.items():\n",
    "    #     matched = re.findall(r'([0-9]{4})(\\s?([A-Za-z]{1,25}\\s?){1,10})', name)\n",
    "    #     if matched:\n",
    "    #         print(matched)\n",
    "    #         date, var_name = matched[0][0], matched[0][1]\n",
    "    #         print(new_frame.to_csv())\n",
    "    return data"
   ]
  },
  {
   "cell_type": "code",
   "execution_count": 185,
   "metadata": {},
   "outputs": [
    {
     "name": "stdout",
     "output_type": "stream",
     "text": [
      "['2012 Owned Outright\\xa0', '2012 Owned with Mortgage or Loan\\xa0', '2012 Private Rent\\xa0', '2012 Social Rent\\xa0', '2012 Total Dwellings\\xa0', '2013 Owned Outright\\xa0', '2013 Owned with Mortgage or Loan\\xa0', '2013 Private Rent\\xa0', '2013 Social Rent\\xa0', '2013 Total Dwellings\\xa0', '2014 Owned Outright', '2014 Owned with Mortgage or Loan', '2014 Private Rent', '2014 Social Rent', '2014 Total Dwellings', '2015 Owned Outright', '2015 Owned with Mortgage or Loan', '2015 Private Rent', '2015 Social Rent', '2015 Total Dwellings', '2016 Owned Outright', '2016 Owned with Mortgage or Loan', '2016 Private Rent', '2016 Social Rent', '2016 Total Dwellings', '2017 Owned Outright', '2017 Owned with Mortgage or Loan', '2017 Private Rent', '2017 Social Rent', '2017 Total Dwellings', '2018 Owned Outright', '2018 Owned with Mortgage or Loan', '2018 Private Rent', '2018 Social Rent', '2018 Total Dwellings', '2019 Owned Outright', '2019 Owned with Mortgage or Loan', '2019 Private Rent', '2019 Social Rent', '2019 Total Dwellings', '2020 Owned Outright', '2020 Owned with Mortgage or Loan', '2020 Private Rent', '2020 Social Rent\\xa0', '2020 Total Dwellings\\xa0', '2021 Owned Outright', '2021 Owned with Mortgage or Loan', '2021 Private Rent', '2021 Social Rent\\xa0', '2021 Total Dwellings\\xa0']\n"
     ]
    }
   ],
   "source": [
    "data = read_data('1b')\n",
    "#data\n",
    "#data.to_csv(f'{DATA_DIR}/dwelling-stock/dwelling-stock.csv')"
   ]
  },
  {
   "cell_type": "code",
   "execution_count": 186,
   "metadata": {},
   "outputs": [
    {
     "data": {
      "text/html": [
       "<div>\n",
       "<style scoped>\n",
       "    .dataframe tbody tr th:only-of-type {\n",
       "        vertical-align: middle;\n",
       "    }\n",
       "\n",
       "    .dataframe tbody tr th {\n",
       "        vertical-align: top;\n",
       "    }\n",
       "\n",
       "    .dataframe thead th {\n",
       "        text-align: right;\n",
       "    }\n",
       "</style>\n",
       "<table border=\"1\" class=\"dataframe\">\n",
       "  <thead>\n",
       "    <tr style=\"text-align: right;\">\n",
       "      <th></th>\n",
       "      <th>variable</th>\n",
       "      <th>value</th>\n",
       "    </tr>\n",
       "  </thead>\n",
       "  <tbody>\n",
       "    <tr>\n",
       "      <th>0</th>\n",
       "      <td>2012 Owned Outright</td>\n",
       "      <td>11892</td>\n",
       "    </tr>\n",
       "    <tr>\n",
       "      <th>1</th>\n",
       "      <td>2012 Owned Outright</td>\n",
       "      <td>16170</td>\n",
       "    </tr>\n",
       "    <tr>\n",
       "      <th>2</th>\n",
       "      <td>2012 Owned Outright</td>\n",
       "      <td>20687</td>\n",
       "    </tr>\n",
       "    <tr>\n",
       "      <th>3</th>\n",
       "      <td>2012 Owned Outright</td>\n",
       "      <td>24908</td>\n",
       "    </tr>\n",
       "    <tr>\n",
       "      <th>4</th>\n",
       "      <td>2012 Owned Outright</td>\n",
       "      <td>14669</td>\n",
       "    </tr>\n",
       "    <tr>\n",
       "      <th>...</th>\n",
       "      <td>...</td>\n",
       "      <td>...</td>\n",
       "    </tr>\n",
       "    <tr>\n",
       "      <th>15395</th>\n",
       "      <td>2021 Total Dwellings</td>\n",
       "      <td>43327</td>\n",
       "    </tr>\n",
       "    <tr>\n",
       "      <th>15396</th>\n",
       "      <td>2021 Total Dwellings</td>\n",
       "      <td>53113</td>\n",
       "    </tr>\n",
       "    <tr>\n",
       "      <th>15397</th>\n",
       "      <td>2021 Total Dwellings</td>\n",
       "      <td>56222</td>\n",
       "    </tr>\n",
       "    <tr>\n",
       "      <th>15398</th>\n",
       "      <td>2021 Total Dwellings</td>\n",
       "      <td>79838</td>\n",
       "    </tr>\n",
       "    <tr>\n",
       "      <th>15399</th>\n",
       "      <td>2021 Total Dwellings</td>\n",
       "      <td>73945</td>\n",
       "    </tr>\n",
       "  </tbody>\n",
       "</table>\n",
       "<p>15400 rows × 2 columns</p>\n",
       "</div>"
      ],
      "text/plain": [
       "                    variable  value\n",
       "0       2012 Owned Outright   11892\n",
       "1       2012 Owned Outright   16170\n",
       "2       2012 Owned Outright   20687\n",
       "3       2012 Owned Outright   24908\n",
       "4       2012 Owned Outright   14669\n",
       "...                      ...    ...\n",
       "15395  2021 Total Dwellings   43327\n",
       "15396  2021 Total Dwellings   53113\n",
       "15397  2021 Total Dwellings   56222\n",
       "15398  2021 Total Dwellings   79838\n",
       "15399  2021 Total Dwellings   73945\n",
       "\n",
       "[15400 rows x 2 columns]"
      ]
     },
     "execution_count": 186,
     "metadata": {},
     "output_type": "execute_result"
    }
   ],
   "source": [
    "data"
   ]
  },
  {
   "cell_type": "code",
   "execution_count": null,
   "metadata": {},
   "outputs": [],
   "source": []
  }
 ],
 "metadata": {
  "kernelspec": {
   "display_name": "jrf-insight-o_Bkqbd_",
   "language": "python",
   "name": "python3"
  },
  "language_info": {
   "codemirror_mode": {
    "name": "ipython",
    "version": 3
   },
   "file_extension": ".py",
   "mimetype": "text/x-python",
   "name": "python",
   "nbconvert_exporter": "python",
   "pygments_lexer": "ipython3",
   "version": "3.11.3"
  },
  "orig_nbformat": 4
 },
 "nbformat": 4,
 "nbformat_minor": 2
}
