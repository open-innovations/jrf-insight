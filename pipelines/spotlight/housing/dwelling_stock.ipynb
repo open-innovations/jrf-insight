{
 "cells": [
  {
   "cell_type": "code",
   "execution_count": 84,
   "metadata": {},
   "outputs": [],
   "source": [
    "from params import *"
   ]
  },
  {
   "cell_type": "code",
   "execution_count": 85,
   "metadata": {},
   "outputs": [],
   "source": [
    "def read_data(sheet_name):\n",
    "    data = pd.read_excel(f'{RAW_DATA_DIR}/dwelling-stock/dwelling_stock_by_tenure_by_LA.ods', \n",
    "                engine='odf',\n",
    "                header=3,\n",
    "                usecols=['CurrentONS code', 'Local Authority (incl. owned by other LAs)', 'Private Registered Provider', 'Other public sector²', 'Private sector (P)1', 'Total (P)1'],\n",
    "                sheet_name=sheet_name)\n",
    "    # Rename columns \n",
    "    data.rename(columns={'CurrentONS code': 'geography_code', \n",
    "                        'Local Authority (incl. owned by other LAs)': 'local_authority_owned', \n",
    "                        'Private Registered Provider': 'private_registered_provider', \n",
    "                        'Other public sector²': 'other_public_sector', \n",
    "                        'Private sector (P)1': 'private_sector', \n",
    "                        'Total (P)1': 'total'}, inplace=True)\n",
    "    # Drop empty rows\n",
    "    data = data[~data['geography_code'].isna()]\n",
    "    data = data.melt(id_vars='geography_code',\n",
    "                     value_vars=['local_authority_owned', 'private_registered_provider', 'other_public_sector', 'private_sector'],\n",
    "                     var_name='tenure_type')\n",
    "    data['variable_name'] = 'number_of_houses'\n",
    "    return data"
   ]
  },
  {
   "cell_type": "code",
   "execution_count": 86,
   "metadata": {},
   "outputs": [],
   "source": [
    "data = read_data('2022')\n",
    "data.to_csv(f'{DATA_DIR}/dwelling-stock/dwelling-stock.csv')"
   ]
  }
 ],
 "metadata": {
  "kernelspec": {
   "display_name": "jrf-insight-o_Bkqbd_",
   "language": "python",
   "name": "python3"
  },
  "language_info": {
   "codemirror_mode": {
    "name": "ipython",
    "version": 3
   },
   "file_extension": ".py",
   "mimetype": "text/x-python",
   "name": "python",
   "nbconvert_exporter": "python",
   "pygments_lexer": "ipython3",
   "version": "3.10.11"
  },
  "orig_nbformat": 4
 },
 "nbformat": 4,
 "nbformat_minor": 2
}
