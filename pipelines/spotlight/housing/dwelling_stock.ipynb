{
 "cells": [
  {
   "cell_type": "code",
   "execution_count": 41,
   "metadata": {},
   "outputs": [],
   "source": [
    "import os\n",
    "import pandas as pd\n",
    "from params import *"
   ]
  },
  {
   "cell_type": "code",
   "execution_count": 42,
   "metadata": {},
   "outputs": [],
   "source": [
    "data = pd.read_excel(\n",
    "    f'{RAW_DATA_DIR}/dwelling-stock/subnationaldwellingstockbytenure2021.xlsx',\n",
    "    sheet_name='1b',\n",
    "    header=3,\n",
    ")\n",
    "data.columns = pd.Index(data.columns.to_series().str.strip())\n",
    "data.set_index(data.columns.to_list()[2:4], drop=True, inplace=True)\n",
    "data = data.rename_axis(index={\n",
    "    'Local authority code': 'geography_code', \n",
    "    'Local authority name': 'geography_name'\n",
    "    })"
   ]
  },
  {
   "cell_type": "code",
   "execution_count": 43,
   "metadata": {},
   "outputs": [],
   "source": [
    "data = data.drop(columns=['Region code', 'Region name']).melt(ignore_index=False)"
   ]
  },
  {
   "cell_type": "code",
   "execution_count": 44,
   "metadata": {},
   "outputs": [],
   "source": [
    "data.loc[:, ['date', 'type_of_tenure']] = data.variable.str.split('\\s+', n=1).to_list()\n",
    "data = data.drop(columns='variable')"
   ]
  },
  {
   "cell_type": "code",
   "execution_count": 45,
   "metadata": {},
   "outputs": [],
   "source": [
    "data['variable_name'] = 'Number of dwellings'"
   ]
  },
  {
   "cell_type": "code",
   "execution_count": 46,
   "metadata": {},
   "outputs": [],
   "source": [
    "data = data.set_index(['date', 'type_of_tenure', 'variable_name'], append=True)"
   ]
  },
  {
   "cell_type": "code",
   "execution_count": 47,
   "metadata": {},
   "outputs": [],
   "source": [
    "PARQUET_FILE = f'../../../data-mart/dwelling-stock/dwelling-stock.parquet'\n",
    "os.makedirs(os.path.dirname(PARQUET_FILE), exist_ok=True)\n",
    "data.to_parquet(PARQUET_FILE)"
   ]
  }
 ],
 "metadata": {
  "kernelspec": {
   "display_name": "jrf-insight-o_Bkqbd_",
   "language": "python",
   "name": "python3"
  },
  "language_info": {
   "codemirror_mode": {
    "name": "ipython",
    "version": 3
   },
   "file_extension": ".py",
   "mimetype": "text/x-python",
   "name": "python",
   "nbconvert_exporter": "python",
   "pygments_lexer": "ipython3",
   "version": "3.10.12"
  },
  "orig_nbformat": 4
 },
 "nbformat": 4,
 "nbformat_minor": 2
}
