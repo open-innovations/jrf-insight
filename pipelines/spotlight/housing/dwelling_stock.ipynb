{
 "cells": [
  {
   "cell_type": "code",
   "execution_count": 34,
   "metadata": {},
   "outputs": [],
   "source": [
    "import os\n",
    "from params import *"
   ]
  },
  {
   "cell_type": "code",
   "execution_count": 35,
   "metadata": {},
   "outputs": [],
   "source": [
    "data = pd.read_excel(\n",
    "    f'{RAW_DATA_DIR}/dwelling-stock/subnationaldwellingstockbytenure2021.xlsx',\n",
    "    sheet_name='1b',\n",
    "    header=3,\n",
    ")\n",
    "data.columns = pd.Index(data.columns.to_series().str.strip())\n",
    "data.set_index(data.columns.to_list()[2:4], drop=True, inplace=True)"
   ]
  },
  {
   "cell_type": "code",
   "execution_count": 36,
   "metadata": {},
   "outputs": [],
   "source": [
    "data = data.drop(columns=['Region code', 'Region name']).melt(ignore_index=False)"
   ]
  },
  {
   "cell_type": "code",
   "execution_count": 37,
   "metadata": {},
   "outputs": [],
   "source": [
    "data.loc[:, ['date', 'type_of_tenure']] = data.variable.str.split('\\s+', n=1).to_list()\n",
    "data = data.drop(columns='variable')"
   ]
  },
  {
   "cell_type": "code",
   "execution_count": 38,
   "metadata": {},
   "outputs": [],
   "source": [
    "data['variable_name'] = 'Number of dwellings'"
   ]
  },
  {
   "cell_type": "code",
   "execution_count": 39,
   "metadata": {},
   "outputs": [],
   "source": [
    "data = data.set_index(['date', 'type_of_tenure', 'variable_name'], append=True)"
   ]
  },
  {
   "cell_type": "code",
   "execution_count": 40,
   "metadata": {},
   "outputs": [],
   "source": [
    "DWELLING_STOCK_FILE=f'{DATA_DIR}/dwelling-stock/dwelling-stock.csv'\n",
    "os.makedirs(os.path.dirname(DWELLING_STOCK_FILE), exist_ok=True)\n",
    "data.to_csv(DWELLING_STOCK_FILE)"
   ]
  }
 ],
 "metadata": {
  "kernelspec": {
   "display_name": "jrf-insight-o_Bkqbd_",
   "language": "python",
   "name": "python3"
  },
  "language_info": {
   "codemirror_mode": {
    "name": "ipython",
    "version": 3
   },
   "file_extension": ".py",
   "mimetype": "text/x-python",
   "name": "python",
   "nbconvert_exporter": "python",
   "pygments_lexer": "ipython3",
   "version": "3.11.3"
  },
  "orig_nbformat": 4
 },
 "nbformat": 4,
 "nbformat_minor": 2
}
