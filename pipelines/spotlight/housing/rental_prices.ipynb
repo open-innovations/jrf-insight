{
 "cells": [
  {
   "cell_type": "code",
   "execution_count": 1,
   "metadata": {},
   "outputs": [],
   "source": [
    "import os\n",
    "import pandas as pd\n",
    "\n",
    "from params import *"
   ]
  },
  {
   "cell_type": "code",
   "execution_count": 2,
   "metadata": {},
   "outputs": [],
   "source": [
    "rental_prices = pd.read_csv(f'{DATA_DIR}/rental-prices/rental-prices.csv')\n",
    "rental_prices['date'] = rental_prices.date.str[:4].pipe(pd.to_datetime)\n",
    "rental_prices = rental_prices[rental_prices.variable_code == 'Mean']\n",
    "rental_prices = rental_prices.loc[rental_prices.groupby(['geography_code', 'property_name'])['date'].idxmax()]\n",
    "\n",
    "# rental_prices_pivot = rental_prices.pivot(index='property_code', columns='geography_code', values='value')\n",
    "# # TODO fix missing data Ticket #67\n",
    "# rental_prices_pivot.fillna(0).to_csv(os.path.join(DATA_DIR, 'rental-prices/most_recent_rental_prices.csv'))"
   ]
  },
  {
   "cell_type": "code",
   "execution_count": 3,
   "metadata": {},
   "outputs": [],
   "source": []
  },
  {
   "cell_type": "code",
   "execution_count": 12,
   "metadata": {},
   "outputs": [],
   "source": [
    "PARQUET_FILE = '../../../data-mart/rental-prices/most_recent_rental_prices.parquet'\n",
    "os.makedirs(os.path.dirname(PARQUET_FILE), exist_ok=True)"
   ]
  },
  {
   "cell_type": "code",
   "execution_count": 13,
   "metadata": {},
   "outputs": [],
   "source": [
    "rental_prices.loc[:, ['geography_code', 'property_code', 'value']].set_index(['geography_code', 'property_code']).to_parquet(PARQUET_FILE)"
   ]
  },
  {
   "cell_type": "code",
   "execution_count": null,
   "metadata": {},
   "outputs": [],
   "source": []
  }
 ],
 "metadata": {
  "kernelspec": {
   "display_name": "Python 3",
   "language": "python",
   "name": "python3"
  },
  "language_info": {
   "codemirror_mode": {
    "name": "ipython",
    "version": 3
   },
   "file_extension": ".py",
   "mimetype": "text/x-python",
   "name": "python",
   "nbconvert_exporter": "python",
   "pygments_lexer": "ipython3",
   "version": "3.10.12"
  },
  "orig_nbformat": 4
 },
 "nbformat": 4,
 "nbformat_minor": 2
}
