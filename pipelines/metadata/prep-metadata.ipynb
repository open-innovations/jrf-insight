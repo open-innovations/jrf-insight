{
 "cells": [
  {
   "cell_type": "code",
   "execution_count": 1,
   "id": "c713180c",
   "metadata": {
    "execution": {
     "iopub.execute_input": "2023-09-18T15:14:36.838536Z",
     "iopub.status.busy": "2023-09-18T15:14:36.838262Z",
     "iopub.status.idle": "2023-09-18T15:14:37.092753Z",
     "shell.execute_reply": "2023-09-18T15:14:37.092403Z"
    },
    "papermill": {
     "duration": 0.257584,
     "end_time": "2023-09-18T15:14:37.093848",
     "exception": false,
     "start_time": "2023-09-18T15:14:36.836264",
     "status": "completed"
    },
    "tags": []
   },
   "outputs": [],
   "source": [
    "import os\n",
    "import re\n",
    "import yaml\n",
    "\n",
    "import pandas as pd"
   ]
  },
  {
   "cell_type": "code",
   "execution_count": 2,
   "id": "e914ccdc",
   "metadata": {
    "execution": {
     "iopub.execute_input": "2023-09-18T15:14:37.096371Z",
     "iopub.status.busy": "2023-09-18T15:14:37.096139Z",
     "iopub.status.idle": "2023-09-18T15:14:37.104187Z",
     "shell.execute_reply": "2023-09-18T15:14:37.103843Z"
    },
    "papermill": {
     "duration": 0.010055,
     "end_time": "2023-09-18T15:14:37.104919",
     "exception": false,
     "start_time": "2023-09-18T15:14:37.094864",
     "status": "completed"
    },
    "tags": []
   },
   "outputs": [],
   "source": [
    "root_dir = '../../data'\n",
    "with open(f'{ root_dir }/catalogue.yaml') as f:\n",
    "    files = yaml.safe_load(f)"
   ]
  },
  {
   "cell_type": "code",
   "execution_count": 3,
   "id": "e8ee7708",
   "metadata": {
    "execution": {
     "iopub.execute_input": "2023-09-18T15:14:37.107182Z",
     "iopub.status.busy": "2023-09-18T15:14:37.107017Z",
     "iopub.status.idle": "2023-09-18T15:14:37.854292Z",
     "shell.execute_reply": "2023-09-18T15:14:37.853851Z"
    },
    "papermill": {
     "duration": 0.74991,
     "end_time": "2023-09-18T15:14:37.855648",
     "exception": false,
     "start_time": "2023-09-18T15:14:37.105738",
     "status": "completed"
    },
    "tags": []
   },
   "outputs": [],
   "source": [
    "def make_key(s: str, sep='-'):\n",
    "      return re.sub(r'\\W+', sep, s.lower()).strip(sep)\n",
    "\n",
    "class Dimension:\n",
    "    def __init__(self, series: pd.Series):\n",
    "        self.name = series.name\n",
    "        self.values = series.unique().tolist()\n",
    "\n",
    "    def __repr__(self):\n",
    "        return f'Dimension->{self.name}'\n",
    "    \n",
    "    def to_dict(self):\n",
    "        return self.__dict__\n",
    "\n",
    "class Fact:\n",
    "    def __init__(self, series: pd.Series):\n",
    "        self.name = series.name\n",
    "        self.type = str(series.dtype)\n",
    "        self.description = series.describe().to_dict()\n",
    "        self.na = series.isna().sum()\n",
    "\n",
    "    def __repr__(self):\n",
    "        return f'Fact->{self.name} ({self.type})'\n",
    "\n",
    "    def to_dict(self):\n",
    "        return self.__dict__\n",
    "\n",
    "class Metadata:\n",
    "    def load(self, dataset_path: pd.DataFrame, loader=pd.read_csv, variables=None, values=None, ignored=None, root_dir='', id=None, group=None):\n",
    "        if variables is None:\n",
    "              variables = ['variable_name']\n",
    "        if values is None:\n",
    "              values = ['value']\n",
    "        if ignored is None:\n",
    "              ignored = []\n",
    "\n",
    "        self.id = id or make_key(os.path.basename(dataset_path))\n",
    "        self.group = group or os.path.dirname(dataset_path).replace(os.sep, '.')\n",
    "\n",
    "        dataset: pd.DataFrame = loader(os.path.join(root_dir, dataset_path))\n",
    "\n",
    "        # Process variables\n",
    "        fact_columns = variables + values\n",
    "        dimension_columns = [c for c in dataset.columns.to_list() if c not in fact_columns + ignored]\n",
    "        try:\n",
    "              facts = dataset.pivot(index=dimension_columns, columns=variables, values=values).reset_index(drop=True)\n",
    "        except Exception:\n",
    "              return None\n",
    "        facts.columns = facts.columns.droplevel()\n",
    "        self.facts = [Fact(f) for _, f in facts.items()]\n",
    "\n",
    "        # Calculate dimension columns\n",
    "        self.dimensions = [Dimension(x[1]) for x in dataset.loc[:, dimension_columns].items()]\n",
    "\n",
    "        return self\n",
    "  \n",
    "    def __repr__(self):\n",
    "        return f'Metadata->{self.dimensions}->{self.facts}'\n",
    "\n",
    "    def to_dict(self):\n",
    "        result = {k: v for k, v in self.__dict__.items() if k not in ['facts', 'dimensions']}\n",
    "        result['facts'] = [f.to_dict() for f in self.facts]\n",
    "        result['dimensions'] = [d.to_dict() for d in self.dimensions]\n",
    "        return result\n",
    "\n",
    "\n",
    "catalogue = [\n",
    "  Metadata().load(f['file'], root_dir=root_dir, id=f['view'], group=f['dataset']) for f in files\n",
    "]"
   ]
  },
  {
   "cell_type": "code",
   "execution_count": 4,
   "id": "d8142c13",
   "metadata": {
    "execution": {
     "iopub.execute_input": "2023-09-18T15:14:37.858920Z",
     "iopub.status.busy": "2023-09-18T15:14:37.858777Z",
     "iopub.status.idle": "2023-09-18T15:14:37.872584Z",
     "shell.execute_reply": "2023-09-18T15:14:37.872254Z"
    },
    "papermill": {
     "duration": 0.016663,
     "end_time": "2023-09-18T15:14:37.873710",
     "exception": false,
     "start_time": "2023-09-18T15:14:37.857047",
     "status": "completed"
    },
    "tags": []
   },
   "outputs": [],
   "source": [
    "\n",
    "os.makedirs('../../src/_data/metadata/', exist_ok=True)\n",
    "\n",
    "pd.DataFrame([\n",
    "        entry.to_dict() for entry in catalogue if entry\n",
    "]).merge(\n",
    "    pd.DataFrame(files), left_on=['group', 'id'], right_on=['dataset', 'view']\n",
    ").set_index(\n",
    "    ['dataset', 'view']\n",
    ").drop(\n",
    "    columns=['group', 'id']\n",
    ").sort_values(\n",
    "    by=['dataset', 'view']\n",
    ").reset_index(\n",
    ").to_json(\n",
    "  '../../src/_data/metadata/catalogue.json',\n",
    "  orient='records',\n",
    "  indent=2,\n",
    ")"
   ]
  },
  {
   "cell_type": "code",
   "execution_count": null,
   "id": "6ac086ed",
   "metadata": {
    "papermill": {
     "duration": 0.001205,
     "end_time": "2023-09-18T15:14:37.876196",
     "exception": false,
     "start_time": "2023-09-18T15:14:37.874991",
     "status": "completed"
    },
    "tags": []
   },
   "outputs": [],
   "source": []
  }
 ],
 "metadata": {
  "kernelspec": {
   "display_name": "jrf-insight-VA15kXRI",
   "language": "python",
   "name": "python3"
  },
  "language_info": {
   "codemirror_mode": {
    "name": "ipython",
    "version": 3
   },
   "file_extension": ".py",
   "mimetype": "text/x-python",
   "name": "python",
   "nbconvert_exporter": "python",
   "pygments_lexer": "ipython3",
   "version": "3.10.12"
  },
  "papermill": {
   "default_parameters": {},
   "duration": 1.978961,
   "end_time": "2023-09-18T15:14:38.093026",
   "environment_variables": {},
   "exception": null,
   "input_path": "prepare.ipynb",
   "output_path": "output/prep-metadata.ipynb",
   "parameters": {},
   "start_time": "2023-09-18T15:14:36.114065",
   "version": "2.4.0"
  }
 },
 "nbformat": 4,
 "nbformat_minor": 5
}