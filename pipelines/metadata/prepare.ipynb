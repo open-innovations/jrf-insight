{
 "cells": [
  {
   "cell_type": "code",
   "execution_count": 12,
   "metadata": {},
   "outputs": [],
   "source": [
    "import glob\n",
    "import os\n",
    "import re\n",
    "\n",
    "import pandas as pd"
   ]
  },
  {
   "cell_type": "code",
   "execution_count": 13,
   "metadata": {},
   "outputs": [],
   "source": [
    "root_dir = '../../data'\n",
    "files = [f for f in glob.glob('*/*.csv', root_dir=root_dir, recursive=True) if not re.match(r'^(interim)', f) ]"
   ]
  },
  {
   "cell_type": "code",
   "execution_count": 45,
   "metadata": {},
   "outputs": [],
   "source": [
    "def make_key(s: str, sep='-'):\n",
    "      return re.sub(r'\\W+', sep, s.lower()).strip(sep)\n",
    "\n",
    "class Dimension:\n",
    "    def __init__(self, series: pd.Series):\n",
    "        self.name = series.name\n",
    "        self.values = series.unique().tolist()\n",
    "\n",
    "    def __repr__(self):\n",
    "        return f'Dimension->{self.name}'\n",
    "    \n",
    "    def to_dict(self):\n",
    "        return self.__dict__\n",
    "\n",
    "class Fact:\n",
    "    def __init__(self, series: pd.Series):\n",
    "        self.name = series.name\n",
    "        self.type = str(series.dtype)\n",
    "        self.description = series.describe().to_dict()\n",
    "        self.na = series.isna().sum()\n",
    "\n",
    "    def __repr__(self):\n",
    "        return f'Fact->{self.name} ({self.type})'\n",
    "\n",
    "    def to_dict(self):\n",
    "        return self.__dict__\n",
    "\n",
    "class Metadata:\n",
    "    def load(self, dataset_path: pd.DataFrame, loader=pd.read_csv, variables=['variable_name'], values=['value'], ignored=[], root_dir=''):\n",
    "        self.id = make_key(os.path.basename(dataset_path))\n",
    "        self.group = os.path.dirname(dataset_path).replace(os.sep, '.')\n",
    "\n",
    "        dataset: pd.DataFrame = loader(os.path.join(root_dir, dataset_path))\n",
    "\n",
    "        # Process variables\n",
    "        fact_columns = variables + values\n",
    "        dimension_columns = [c for c in dataset.columns.to_list() if c not in fact_columns + ignored]\n",
    "        try:\n",
    "            facts = dataset.pivot(index=dimension_columns, columns=variables, values=values).reset_index(drop=True)\n",
    "        except:\n",
    "            return None\n",
    "        facts.columns = facts.columns.droplevel()\n",
    "        self.facts = [Fact(f) for _, f in facts.items()]\n",
    "        \n",
    "        # Calculate dimension columns\n",
    "        self.dimensions = [Dimension(x[1]) for x in dataset.loc[:, dimension_columns].items()]\n",
    "\n",
    "        return self\n",
    "    \n",
    "    def __repr__(self):\n",
    "        return f'Metadata->{self.dimensions}->{self.facts}'\n",
    "\n",
    "    def to_dict(self):\n",
    "        result = {k: v for k, v in self.__dict__.items() if k not in ['facts', 'dimensions']}\n",
    "        result['facts'] = [f.to_dict() for f in self.facts]\n",
    "        result['dimensions'] = [d.to_dict() for d in self.dimensions]\n",
    "        return result\n",
    "\n",
    "\n",
    "catalogue = [\n",
    "  Metadata().load(f, root_dir=root_dir) for f in files\n",
    "]"
   ]
  },
  {
   "cell_type": "code",
   "execution_count": 46,
   "metadata": {},
   "outputs": [],
   "source": [
    "os.makedirs('../../src/_data/metadata/', exist_ok=True)\n",
    "\n",
    "pd.DataFrame([entry.to_dict() for entry in catalogue if entry]).to_json(\n",
    "  '../../src/_data/metadata/catalogue.json',\n",
    "  orient='records',\n",
    "  indent=2\n",
    ")\n"
   ]
  }
 ],
 "metadata": {
  "kernelspec": {
   "display_name": "jrf-insight-VA15kXRI",
   "language": "python",
   "name": "python3"
  },
  "language_info": {
   "codemirror_mode": {
    "name": "ipython",
    "version": 3
   },
   "file_extension": ".py",
   "mimetype": "text/x-python",
   "name": "python",
   "nbconvert_exporter": "python",
   "pygments_lexer": "ipython3",
   "version": "3.10.12"
  },
  "orig_nbformat": 4
 },
 "nbformat": 4,
 "nbformat_minor": 2
}
