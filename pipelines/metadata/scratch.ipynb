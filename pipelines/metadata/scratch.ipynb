{
 "cells": [
  {
   "cell_type": "code",
   "execution_count": 1,
   "metadata": {},
   "outputs": [],
   "source": [
    "import pandas as pd\n",
    "from metadata import Metadata"
   ]
  },
  {
   "cell_type": "code",
   "execution_count": 5,
   "metadata": {},
   "outputs": [
    {
     "data": {
      "text/plain": [
       "Metadata->[Dimension->DATE, Dimension->GEOGRAPHY_CODE, Dimension->GEOGRAPHY_NAME]->[Fact->All tenures (int64)]"
      ]
     },
     "execution_count": 5,
     "metadata": {},
     "output_type": "execute_result"
    }
   ],
   "source": [
    "Metadata().load(\n",
    "  dataset_path='../../data/housing-tenure/housing-tenure.csv',\n",
    "  values=['VALUE'],\n",
    "  variables=['TENURE']\n",
    ")"
   ]
  },
  {
   "cell_type": "code",
   "execution_count": 6,
   "metadata": {},
   "outputs": [
    {
     "data": {
      "text/html": [
       "<div>\n",
       "<style scoped>\n",
       "    .dataframe tbody tr th:only-of-type {\n",
       "        vertical-align: middle;\n",
       "    }\n",
       "\n",
       "    .dataframe tbody tr th {\n",
       "        vertical-align: top;\n",
       "    }\n",
       "\n",
       "    .dataframe thead th {\n",
       "        text-align: right;\n",
       "    }\n",
       "</style>\n",
       "<table border=\"1\" class=\"dataframe\">\n",
       "  <thead>\n",
       "    <tr style=\"text-align: right;\">\n",
       "      <th></th>\n",
       "      <th>DATE</th>\n",
       "      <th>GEOGRAPHY_CODE</th>\n",
       "      <th>GEOGRAPHY_NAME</th>\n",
       "      <th>TENURE</th>\n",
       "      <th>VALUE</th>\n",
       "    </tr>\n",
       "  </thead>\n",
       "  <tbody>\n",
       "    <tr>\n",
       "      <th>0</th>\n",
       "      <td>1981</td>\n",
       "      <td>E06000001</td>\n",
       "      <td>Hartlepool</td>\n",
       "      <td>All tenures</td>\n",
       "      <td>32971</td>\n",
       "    </tr>\n",
       "    <tr>\n",
       "      <th>1</th>\n",
       "      <td>1981</td>\n",
       "      <td>E06000001</td>\n",
       "      <td>Hartlepool</td>\n",
       "      <td>Other</td>\n",
       "      <td>1567</td>\n",
       "    </tr>\n",
       "    <tr>\n",
       "      <th>2</th>\n",
       "      <td>1981</td>\n",
       "      <td>E06000001</td>\n",
       "      <td>Hartlepool</td>\n",
       "      <td>Owner occupied</td>\n",
       "      <td>16761</td>\n",
       "    </tr>\n",
       "    <tr>\n",
       "      <th>3</th>\n",
       "      <td>1981</td>\n",
       "      <td>E06000001</td>\n",
       "      <td>Hartlepool</td>\n",
       "      <td>Private rented</td>\n",
       "      <td>287</td>\n",
       "    </tr>\n",
       "    <tr>\n",
       "      <th>4</th>\n",
       "      <td>1981</td>\n",
       "      <td>E06000001</td>\n",
       "      <td>Hartlepool</td>\n",
       "      <td>Social rented</td>\n",
       "      <td>14356</td>\n",
       "    </tr>\n",
       "    <tr>\n",
       "      <th>...</th>\n",
       "      <td>...</td>\n",
       "      <td>...</td>\n",
       "      <td>...</td>\n",
       "      <td>...</td>\n",
       "      <td>...</td>\n",
       "    </tr>\n",
       "    <tr>\n",
       "      <th>1673</th>\n",
       "      <td>2021</td>\n",
       "      <td>E08000037</td>\n",
       "      <td>Gateshead</td>\n",
       "      <td>All tenures</td>\n",
       "      <td>88999</td>\n",
       "    </tr>\n",
       "    <tr>\n",
       "      <th>1674</th>\n",
       "      <td>2021</td>\n",
       "      <td>E08000037</td>\n",
       "      <td>Gateshead</td>\n",
       "      <td>Other</td>\n",
       "      <td>472</td>\n",
       "    </tr>\n",
       "    <tr>\n",
       "      <th>1675</th>\n",
       "      <td>2021</td>\n",
       "      <td>E08000037</td>\n",
       "      <td>Gateshead</td>\n",
       "      <td>Owner occupied</td>\n",
       "      <td>51609</td>\n",
       "    </tr>\n",
       "    <tr>\n",
       "      <th>1676</th>\n",
       "      <td>2021</td>\n",
       "      <td>E08000037</td>\n",
       "      <td>Gateshead</td>\n",
       "      <td>Private rented</td>\n",
       "      <td>14584</td>\n",
       "    </tr>\n",
       "    <tr>\n",
       "      <th>1677</th>\n",
       "      <td>2021</td>\n",
       "      <td>E08000037</td>\n",
       "      <td>Gateshead</td>\n",
       "      <td>Social rented</td>\n",
       "      <td>22334</td>\n",
       "    </tr>\n",
       "  </tbody>\n",
       "</table>\n",
       "<p>1678 rows × 5 columns</p>\n",
       "</div>"
      ],
      "text/plain": [
       "      DATE GEOGRAPHY_CODE GEOGRAPHY_NAME          TENURE  VALUE\n",
       "0     1981      E06000001     Hartlepool     All tenures  32971\n",
       "1     1981      E06000001     Hartlepool           Other   1567\n",
       "2     1981      E06000001     Hartlepool  Owner occupied  16761\n",
       "3     1981      E06000001     Hartlepool  Private rented    287\n",
       "4     1981      E06000001     Hartlepool   Social rented  14356\n",
       "...    ...            ...            ...             ...    ...\n",
       "1673  2021      E08000037      Gateshead     All tenures  88999\n",
       "1674  2021      E08000037      Gateshead           Other    472\n",
       "1675  2021      E08000037      Gateshead  Owner occupied  51609\n",
       "1676  2021      E08000037      Gateshead  Private rented  14584\n",
       "1677  2021      E08000037      Gateshead   Social rented  22334\n",
       "\n",
       "[1678 rows x 5 columns]"
      ]
     },
     "execution_count": 6,
     "metadata": {},
     "output_type": "execute_result"
    }
   ],
   "source": [
    "\n",
    "pd.read_csv('../../data/housing-tenure/housing-tenure.csv')"
   ]
  },
  {
   "cell_type": "code",
   "execution_count": 7,
   "metadata": {},
   "outputs": [],
   "source": [
    "import yaml\n",
    "\n",
    "root_dir = '../../data'\n",
    "with open('catalogue.yaml') as f:\n",
    "    files = yaml.safe_load(f)"
   ]
  },
  {
   "cell_type": "code",
   "execution_count": 11,
   "metadata": {},
   "outputs": [
    {
     "data": {
      "text/plain": [
       "'hbai'"
      ]
     },
     "execution_count": 11,
     "metadata": {},
     "output_type": "execute_result"
    }
   ],
   "source": [
    "files[0].get('dataset', None)"
   ]
  },
  {
   "cell_type": "code",
   "execution_count": null,
   "metadata": {},
   "outputs": [],
   "source": []
  }
 ],
 "metadata": {
  "kernelspec": {
   "display_name": "jrf-insight-VA15kXRI",
   "language": "python",
   "name": "python3"
  },
  "language_info": {
   "codemirror_mode": {
    "name": "ipython",
    "version": 3
   },
   "file_extension": ".py",
   "mimetype": "text/x-python",
   "name": "python",
   "nbconvert_exporter": "python",
   "pygments_lexer": "ipython3",
   "version": "3.10.12"
  },
  "orig_nbformat": 4
 },
 "nbformat": 4,
 "nbformat_minor": 2
}
