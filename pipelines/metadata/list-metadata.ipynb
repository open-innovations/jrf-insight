{
 "cells": [
  {
   "cell_type": "code",
   "execution_count": 1,
   "id": "780c28a7",
   "metadata": {
    "execution": {
     "iopub.execute_input": "2023-09-18T15:14:35.037566Z",
     "iopub.status.busy": "2023-09-18T15:14:35.037398Z",
     "iopub.status.idle": "2023-09-18T15:14:35.252387Z",
     "shell.execute_reply": "2023-09-18T15:14:35.251952Z"
    },
    "papermill": {
     "duration": 0.217944,
     "end_time": "2023-09-18T15:14:35.253491",
     "exception": false,
     "start_time": "2023-09-18T15:14:35.035547",
     "status": "completed"
    },
    "tags": []
   },
   "outputs": [],
   "source": [
    "import glob\n",
    "import re\n",
    "import os\n",
    "import yaml\n",
    "\n",
    "import pandas as pd"
   ]
  },
  {
   "cell_type": "code",
   "execution_count": 2,
   "id": "474c3970",
   "metadata": {
    "execution": {
     "iopub.execute_input": "2023-09-18T15:14:35.256117Z",
     "iopub.status.busy": "2023-09-18T15:14:35.255931Z",
     "iopub.status.idle": "2023-09-18T15:14:35.261599Z",
     "shell.execute_reply": "2023-09-18T15:14:35.261249Z"
    },
    "papermill": {
     "duration": 0.007924,
     "end_time": "2023-09-18T15:14:35.262490",
     "exception": false,
     "start_time": "2023-09-18T15:14:35.254566",
     "status": "completed"
    },
    "tags": []
   },
   "outputs": [],
   "source": [
    "root_dir = \"../../data\"\n",
    "files = [\n",
    "    f\n",
    "    for f in glob.glob(\"**/*.csv\", root_dir=root_dir, recursive=True)\n",
    "    if not re.match(r\"^(interim|lookups|geo|raw)\", f)\n",
    "]"
   ]
  },
  {
   "cell_type": "code",
   "execution_count": 3,
   "id": "74be5160",
   "metadata": {
    "execution": {
     "iopub.execute_input": "2023-09-18T15:14:35.264867Z",
     "iopub.status.busy": "2023-09-18T15:14:35.264709Z",
     "iopub.status.idle": "2023-09-18T15:14:35.266706Z",
     "shell.execute_reply": "2023-09-18T15:14:35.266392Z"
    },
    "papermill": {
     "duration": 0.003889,
     "end_time": "2023-09-18T15:14:35.267345",
     "exception": false,
     "start_time": "2023-09-18T15:14:35.263456",
     "status": "completed"
    },
    "tags": []
   },
   "outputs": [],
   "source": [
    "CATALOGUE_FILE = '../../data/catalogue.yaml'"
   ]
  },
  {
   "cell_type": "code",
   "execution_count": 4,
   "id": "02e4b319",
   "metadata": {
    "execution": {
     "iopub.execute_input": "2023-09-18T15:14:35.269419Z",
     "iopub.status.busy": "2023-09-18T15:14:35.269304Z",
     "iopub.status.idle": "2023-09-18T15:14:35.277200Z",
     "shell.execute_reply": "2023-09-18T15:14:35.276845Z"
    },
    "papermill": {
     "duration": 0.009703,
     "end_time": "2023-09-18T15:14:35.277889",
     "exception": false,
     "start_time": "2023-09-18T15:14:35.268186",
     "status": "completed"
    },
    "tags": []
   },
   "outputs": [],
   "source": [
    "try:\n",
    "    with open(CATALOGUE_FILE) as f:\n",
    "        catalogue = yaml.safe_load(f)\n",
    "except FileNotFoundError:\n",
    "    catalogue = []"
   ]
  },
  {
   "cell_type": "code",
   "execution_count": 5,
   "id": "8cb8c877",
   "metadata": {
    "execution": {
     "iopub.execute_input": "2023-09-18T15:14:35.280091Z",
     "iopub.status.busy": "2023-09-18T15:14:35.279947Z",
     "iopub.status.idle": "2023-09-18T15:14:35.282449Z",
     "shell.execute_reply": "2023-09-18T15:14:35.282146Z"
    },
    "papermill": {
     "duration": 0.004307,
     "end_time": "2023-09-18T15:14:35.283089",
     "exception": false,
     "start_time": "2023-09-18T15:14:35.278782",
     "status": "completed"
    },
    "tags": []
   },
   "outputs": [],
   "source": [
    "for file in files:\n",
    "    if file not in [e['file'] for e in catalogue]:\n",
    "        dataset = os.path.dirname(file).replace(os.path.sep, '.')\n",
    "        view, type = os.path.splitext(os.path.basename(file))\n",
    "        catalogue.append({\n",
    "          'file': file,\n",
    "          'dataset': dataset,\n",
    "          'view': view,\n",
    "          'type': type,\n",
    "        })"
   ]
  },
  {
   "cell_type": "code",
   "execution_count": 13,
   "id": "c1b8ef3b",
   "metadata": {
    "execution": {
     "iopub.execute_input": "2023-09-18T15:14:35.285141Z",
     "iopub.status.busy": "2023-09-18T15:14:35.285003Z",
     "iopub.status.idle": "2023-09-18T15:14:35.286927Z",
     "shell.execute_reply": "2023-09-18T15:14:35.286651Z"
    },
    "papermill": {
     "duration": 0.003852,
     "end_time": "2023-09-18T15:14:35.287761",
     "exception": false,
     "start_time": "2023-09-18T15:14:35.283909",
     "status": "completed"
    },
    "tags": []
   },
   "outputs": [],
   "source": [
    "for entry in catalogue:\n",
    "    if entry[\"file\"] not in files:\n",
    "        catalogue.remove(entry)\n",
    "        print(f\"{entry['file']} no longer available\")"
   ]
  },
  {
   "cell_type": "code",
   "execution_count": 14,
   "id": "424a3bff",
   "metadata": {
    "execution": {
     "iopub.execute_input": "2023-09-18T15:14:35.289961Z",
     "iopub.status.busy": "2023-09-18T15:14:35.289812Z",
     "iopub.status.idle": "2023-09-18T15:14:35.294945Z",
     "shell.execute_reply": "2023-09-18T15:14:35.294673Z"
    },
    "papermill": {
     "duration": 0.006965,
     "end_time": "2023-09-18T15:14:35.295546",
     "exception": false,
     "start_time": "2023-09-18T15:14:35.288581",
     "status": "completed"
    },
    "tags": []
   },
   "outputs": [],
   "source": [
    "with open(CATALOGUE_FILE, \"w\") as f:\n",
    "    yaml.dump(catalogue, f)"
   ]
  },
  {
   "cell_type": "code",
   "execution_count": null,
   "id": "645d7578",
   "metadata": {},
   "outputs": [],
   "source": []
  }
 ],
 "metadata": {
  "kernelspec": {
   "display_name": "jrf-insight-VA15kXRI",
   "language": "python",
   "name": "python3"
  },
  "language_info": {
   "codemirror_mode": {
    "name": "ipython",
    "version": 3
   },
   "file_extension": ".py",
   "mimetype": "text/x-python",
   "name": "python",
   "nbconvert_exporter": "python",
   "pygments_lexer": "ipython3",
   "version": "3.10.12"
  },
  "papermill": {
   "default_parameters": {},
   "duration": 1.16794,
   "end_time": "2023-09-18T15:14:35.509961",
   "environment_variables": {},
   "exception": null,
   "input_path": "list-metadata.ipynb",
   "output_path": "output/list-metadata.ipynb",
   "parameters": {},
   "start_time": "2023-09-18T15:14:34.342021",
   "version": "2.4.0"
  }
 },
 "nbformat": 4,
 "nbformat_minor": 5
}
