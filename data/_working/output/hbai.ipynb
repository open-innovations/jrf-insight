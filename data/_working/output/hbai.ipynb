{
 "cells": [
  {
   "cell_type": "markdown",
   "id": "f5bb382c",
   "metadata": {
    "papermill": {
     "duration": 0.001154,
     "end_time": "2023-09-14T00:56:45.789977",
     "exception": false,
     "start_time": "2023-09-14T00:56:45.788823",
     "status": "completed"
    },
    "tags": []
   },
   "source": [
    "Pipeline to pull data from Households Below Average Income data from Stat-Xplore"
   ]
  },
  {
   "cell_type": "code",
   "execution_count": 1,
   "id": "39e5126a",
   "metadata": {
    "execution": {
     "iopub.execute_input": "2023-09-14T00:56:45.792738Z",
     "iopub.status.busy": "2023-09-14T00:56:45.792521Z",
     "iopub.status.idle": "2023-09-14T00:56:46.066486Z",
     "shell.execute_reply": "2023-09-14T00:56:46.065870Z"
    },
    "papermill": {
     "duration": 0.276689,
     "end_time": "2023-09-14T00:56:46.067662",
     "exception": false,
     "start_time": "2023-09-14T00:56:45.790973",
     "status": "completed"
    },
    "tags": []
   },
   "outputs": [],
   "source": [
    "import os\n",
    "import json\n",
    "\n",
    "from api import run_statxplore_query"
   ]
  },
  {
   "cell_type": "code",
   "execution_count": 2,
   "id": "e59a719d",
   "metadata": {
    "execution": {
     "iopub.execute_input": "2023-09-14T00:56:46.070369Z",
     "iopub.status.busy": "2023-09-14T00:56:46.070134Z",
     "iopub.status.idle": "2023-09-14T00:56:46.072305Z",
     "shell.execute_reply": "2023-09-14T00:56:46.072008Z"
    },
    "papermill": {
     "duration": 0.00416,
     "end_time": "2023-09-14T00:56:46.072942",
     "exception": false,
     "start_time": "2023-09-14T00:56:46.068782",
     "status": "completed"
    },
    "tags": []
   },
   "outputs": [],
   "source": [
    "OUTPUT_DIR=\"../../data/hbai\"\n",
    "os.makedirs(OUTPUT_DIR, exist_ok=True)"
   ]
  },
  {
   "cell_type": "code",
   "execution_count": 3,
   "id": "4401b1ad",
   "metadata": {
    "execution": {
     "iopub.execute_input": "2023-09-14T00:56:46.075085Z",
     "iopub.status.busy": "2023-09-14T00:56:46.074901Z",
     "iopub.status.idle": "2023-09-14T00:56:46.076781Z",
     "shell.execute_reply": "2023-09-14T00:56:46.076495Z"
    },
    "papermill": {
     "duration": 0.003682,
     "end_time": "2023-09-14T00:56:46.077438",
     "exception": false,
     "start_time": "2023-09-14T00:56:46.073756",
     "status": "completed"
    },
    "tags": []
   },
   "outputs": [],
   "source": [
    "HBAI_JSON = \"json/data/HBAI.json\""
   ]
  },
  {
   "cell_type": "code",
   "execution_count": 4,
   "id": "8bdceed6",
   "metadata": {
    "execution": {
     "iopub.execute_input": "2023-09-14T00:56:46.079536Z",
     "iopub.status.busy": "2023-09-14T00:56:46.079405Z",
     "iopub.status.idle": "2023-09-14T00:56:46.081492Z",
     "shell.execute_reply": "2023-09-14T00:56:46.081232Z"
    },
    "papermill": {
     "duration": 0.003868,
     "end_time": "2023-09-14T00:56:46.082123",
     "exception": false,
     "start_time": "2023-09-14T00:56:46.078255",
     "status": "completed"
    },
    "tags": []
   },
   "outputs": [],
   "source": [
    "dimensions = {\n",
    "    \"Type of Individual by Age Category\": [\"str:field:HBAI:V_F_HBAI:TYPE_AGECAT\"],\n",
    "    \"Number of Children in the Family of the Individual\": [\n",
    "        \"str:field:HBAI:V_F_HBAI:NUMBKIDS\"\n",
    "    ],\n",
    "    \"Age of the Youngest Child in the Family of the Individual\": [\n",
    "        \"str:field:HBAI:V_F_HBAI:YOUNGCH\"\n",
    "    ],\n",
    "    \"Tenure Type of the Household of the Individual\": [\n",
    "        \"str:field:HBAI:V_F_HBAI:TENHBAI\"\n",
    "    ],\n",
    "    \"Savings and Investments of Adults in the Family of the Individual\": [\n",
    "        \"str:field:HBAI:V_F_HBAI:CAPITAL\"\n",
    "    ],\n",
    "    \"Ethnic Group of the Head of the Household (please calculate three-year averages - click on i for the correct method)\": [\n",
    "        \"str:field:HBAI:V_F_HBAI:ETHGRPHHPUB\"\n",
    "    ],\n",
    "}"
   ]
  },
  {
   "cell_type": "code",
   "execution_count": 5,
   "id": "9c1635e4",
   "metadata": {
    "execution": {
     "iopub.execute_input": "2023-09-14T00:56:46.084251Z",
     "iopub.status.busy": "2023-09-14T00:56:46.084127Z",
     "iopub.status.idle": "2023-09-14T00:56:46.086400Z",
     "shell.execute_reply": "2023-09-14T00:56:46.086138Z"
    },
    "papermill": {
     "duration": 0.004048,
     "end_time": "2023-09-14T00:56:46.087002",
     "exception": false,
     "start_time": "2023-09-14T00:56:46.082954",
     "status": "completed"
    },
    "tags": []
   },
   "outputs": [],
   "source": [
    "location = \"Location in the United Kingdom of the Household of the Individual (please calculate three-year averages - click on i for the correct method)\"\n",
    "\n",
    "def split_location_code(data):\n",
    "    # Split location code\n",
    "    data[[\"geography_name\", \"geography_code\"]] = (\n",
    "        data[location].str.split(r\"[()]\", expand=True).iloc[:, [0, 1]]\n",
    "    )\n",
    "    data[\"geography_code\"] = data[\"geography_code\"].str.strip()\n",
    "    data[\"geography_name\"] = data[\"geography_name\"].str.strip()\n",
    "    data.drop(location, axis=1, inplace=True)"
   ]
  },
  {
   "cell_type": "code",
   "execution_count": 6,
   "id": "b2ae0253",
   "metadata": {
    "execution": {
     "iopub.execute_input": "2023-09-14T00:56:46.089244Z",
     "iopub.status.busy": "2023-09-14T00:56:46.089019Z",
     "iopub.status.idle": "2023-09-14T00:56:47.923586Z",
     "shell.execute_reply": "2023-09-14T00:56:47.923230Z"
    },
    "papermill": {
     "duration": 1.836701,
     "end_time": "2023-09-14T00:56:47.924549",
     "exception": false,
     "start_time": "2023-09-14T00:56:46.087848",
     "status": "completed"
    },
    "tags": []
   },
   "outputs": [],
   "source": [
    "for name, dim in dimensions.items():\n",
    "    with open(HBAI_JSON) as json_file:\n",
    "        query = json.load(json_file)\n",
    "\n",
    "    query[\"dimensions\"] += [dim]\n",
    "\n",
    "    HBAI = run_statxplore_query(query).reset_index()\n",
    "\n",
    "    # Split location code\n",
    "    HBAI.pipe(split_location_code)\n",
    "\n",
    "    HBAI = HBAI.melt(\n",
    "        id_vars=[\"Financial Year\", \"geography_name\", \"geography_code\", f\"{name}\"],\n",
    "        var_name=\"variable_name\",\n",
    "    )\n",
    "    HBAI.set_index(\"Financial Year\", inplace=True)\n",
    "    HBAI[\"variable_name\"] = HBAI[\"variable_name\"].str.replace(\n",
    "        \" (at or above threshold)\", \"\"\n",
    "    )\n",
    "    HBAI.to_csv(f\"{OUTPUT_DIR}/{name}.csv\")"
   ]
  },
  {
   "cell_type": "code",
   "execution_count": null,
   "id": "cfe4d253",
   "metadata": {
    "papermill": {
     "duration": 0.000958,
     "end_time": "2023-09-14T00:56:47.926657",
     "exception": false,
     "start_time": "2023-09-14T00:56:47.925699",
     "status": "completed"
    },
    "tags": []
   },
   "outputs": [],
   "source": []
  }
 ],
 "metadata": {
  "kernelspec": {
   "display_name": "jrf-insight-VA15kXRI",
   "language": "python",
   "name": "python3"
  },
  "language_info": {
   "codemirror_mode": {
    "name": "ipython",
    "version": 3
   },
   "file_extension": ".py",
   "mimetype": "text/x-python",
   "name": "python",
   "nbconvert_exporter": "python",
   "pygments_lexer": "ipython3",
   "version": "3.10.12"
  },
  "papermill": {
   "default_parameters": {},
   "duration": 3.187191,
   "end_time": "2023-09-14T00:56:48.141226",
   "environment_variables": {},
   "exception": null,
   "input_path": "hbai.ipynb",
   "output_path": "../../data/_working/output/hbai.ipynb",
   "parameters": {},
   "start_time": "2023-09-14T00:56:44.954035",
   "version": "2.4.0"
  }
 },
 "nbformat": 4,
 "nbformat_minor": 5
}