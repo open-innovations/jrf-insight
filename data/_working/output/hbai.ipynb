{
 "cells": [
  {
   "cell_type": "markdown",
   "id": "51dc7134",
   "metadata": {
    "papermill": {
     "duration": 0.00128,
     "end_time": "2023-09-18T09:21:56.416287",
     "exception": false,
     "start_time": "2023-09-18T09:21:56.415007",
     "status": "completed"
    },
    "tags": []
   },
   "source": [
    "Pipeline to pull data from Households Below Average Income data from Stat-Xplore"
   ]
  },
  {
   "cell_type": "code",
   "execution_count": 1,
   "id": "959852f9",
   "metadata": {
    "execution": {
     "iopub.execute_input": "2023-09-18T09:21:56.419895Z",
     "iopub.status.busy": "2023-09-18T09:21:56.419403Z",
     "iopub.status.idle": "2023-09-18T09:21:56.650830Z",
     "shell.execute_reply": "2023-09-18T09:21:56.650465Z"
    },
    "papermill": {
     "duration": 0.234379,
     "end_time": "2023-09-18T09:21:56.651874",
     "exception": false,
     "start_time": "2023-09-18T09:21:56.417495",
     "status": "completed"
    },
    "tags": []
   },
   "outputs": [],
   "source": [
    "import os\n",
    "import json\n",
    "\n",
    "from api import run_statxplore_query"
   ]
  },
  {
   "cell_type": "code",
   "execution_count": 2,
   "id": "e730326e",
   "metadata": {
    "execution": {
     "iopub.execute_input": "2023-09-18T09:21:56.654408Z",
     "iopub.status.busy": "2023-09-18T09:21:56.654188Z",
     "iopub.status.idle": "2023-09-18T09:21:56.656236Z",
     "shell.execute_reply": "2023-09-18T09:21:56.655947Z"
    },
    "papermill": {
     "duration": 0.004143,
     "end_time": "2023-09-18T09:21:56.657027",
     "exception": false,
     "start_time": "2023-09-18T09:21:56.652884",
     "status": "completed"
    },
    "tags": []
   },
   "outputs": [],
   "source": [
    "OUTPUT_DIR=\"../../data/hbai\"\n",
    "os.makedirs(OUTPUT_DIR, exist_ok=True)"
   ]
  },
  {
   "cell_type": "code",
   "execution_count": 3,
   "id": "992c46b2",
   "metadata": {
    "execution": {
     "iopub.execute_input": "2023-09-18T09:21:56.659145Z",
     "iopub.status.busy": "2023-09-18T09:21:56.659031Z",
     "iopub.status.idle": "2023-09-18T09:21:56.660908Z",
     "shell.execute_reply": "2023-09-18T09:21:56.660627Z"
    },
    "papermill": {
     "duration": 0.003704,
     "end_time": "2023-09-18T09:21:56.661561",
     "exception": false,
     "start_time": "2023-09-18T09:21:56.657857",
     "status": "completed"
    },
    "tags": []
   },
   "outputs": [],
   "source": [
    "HBAI_JSON = \"json/data/HBAI.json\""
   ]
  },
  {
   "cell_type": "code",
   "execution_count": 4,
   "id": "3a12646c",
   "metadata": {
    "execution": {
     "iopub.execute_input": "2023-09-18T09:21:56.663829Z",
     "iopub.status.busy": "2023-09-18T09:21:56.663676Z",
     "iopub.status.idle": "2023-09-18T09:21:56.665794Z",
     "shell.execute_reply": "2023-09-18T09:21:56.665509Z"
    },
    "papermill": {
     "duration": 0.004129,
     "end_time": "2023-09-18T09:21:56.666554",
     "exception": false,
     "start_time": "2023-09-18T09:21:56.662425",
     "status": "completed"
    },
    "tags": []
   },
   "outputs": [],
   "source": [
    "views = {\n",
    "    \"by_age_category\": [\"str:field:HBAI:V_F_HBAI:TYPE_AGECAT\"],\n",
    "    \"by_number_of_children\": [\n",
    "        \"str:field:HBAI:V_F_HBAI:NUMBKIDS\"\n",
    "    ],\n",
    "    \"by_age_of_youngest_child\": [\n",
    "        \"str:field:HBAI:V_F_HBAI:YOUNGCH\"\n",
    "    ],\n",
    "    \"by_tenure_type\": [\n",
    "        \"str:field:HBAI:V_F_HBAI:TENHBAI\"\n",
    "    ],\n",
    "    \"by_savings_and_investments\": [\n",
    "        \"str:field:HBAI:V_F_HBAI:CAPITAL\"\n",
    "    ],\n",
    "    \"by_ethnic_group\": [\n",
    "        \"str:field:HBAI:V_F_HBAI:ETHGRPHHPUB\"\n",
    "    ],\n",
    "}"
   ]
  },
  {
   "cell_type": "code",
   "execution_count": 5,
   "id": "a7e6618a",
   "metadata": {
    "execution": {
     "iopub.execute_input": "2023-09-18T09:21:56.668837Z",
     "iopub.status.busy": "2023-09-18T09:21:56.668688Z",
     "iopub.status.idle": "2023-09-18T09:21:56.670903Z",
     "shell.execute_reply": "2023-09-18T09:21:56.670629Z"
    },
    "papermill": {
     "duration": 0.004074,
     "end_time": "2023-09-18T09:21:56.671514",
     "exception": false,
     "start_time": "2023-09-18T09:21:56.667440",
     "status": "completed"
    },
    "tags": []
   },
   "outputs": [],
   "source": [
    "location = \"Location in the United Kingdom of the Household of the Individual (please calculate three-year averages - click on i for the correct method)\"\n",
    "\n",
    "def extract_location_code(data):\n",
    "    # Extract geography code from location\n",
    "    data[\"geography_code\"] = (\n",
    "        data[location].str.split(r\"[()]\", expand=True).iloc[:,1].str.strip()\n",
    "    )\n",
    "    data = data.drop(location, axis=1)\n",
    "    return data"
   ]
  },
  {
   "cell_type": "code",
   "execution_count": 6,
   "id": "789cfeb2",
   "metadata": {
    "execution": {
     "iopub.execute_input": "2023-09-18T09:21:56.673733Z",
     "iopub.status.busy": "2023-09-18T09:21:56.673595Z",
     "iopub.status.idle": "2023-09-18T09:21:59.159140Z",
     "shell.execute_reply": "2023-09-18T09:21:59.158725Z"
    },
    "papermill": {
     "duration": 2.487763,
     "end_time": "2023-09-18T09:21:59.160152",
     "exception": false,
     "start_time": "2023-09-18T09:21:56.672389",
     "status": "completed"
    },
    "tags": []
   },
   "outputs": [],
   "source": [
    "def run_query(dim):\n",
    "    with open(HBAI_JSON) as json_file:\n",
    "        query = json.load(json_file)\n",
    "    query[\"dimensions\"] += [dim]\n",
    "    return run_statxplore_query(query)\n",
    "\n",
    "\n",
    "def reshape_statxplore_result(data):\n",
    "    # Convert wide to long format\n",
    "    data = data.melt(ignore_index=False, var_name='income_status')\n",
    "    # Add in a variable name\n",
    "    data['variable_name'] = 'households_in_low_income'\n",
    "    # Split geo codes and remove bracketed statements from colum names\n",
    "    data.index = data.index.set_levels(\n",
    "            data.index.levels[1].str.strip(')').str.split('(').map(lambda l: l[1]).values, level=1\n",
    "        ).set_names(\n",
    "            'geography_code', level=1\n",
    "        ).set_names(\n",
    "            data.index.names[2].split('(')[0].strip(),\n",
    "            level=2\n",
    "        )\n",
    "    return data\n",
    "\n",
    "\n",
    "for name, dim in views.items():\n",
    "    data = run_query(dim).pipe(reshape_statxplore_result)\n",
    "    data.to_csv(f\"{OUTPUT_DIR}/{name}.csv\")"
   ]
  },
  {
   "cell_type": "code",
   "execution_count": null,
   "id": "2f76f60f",
   "metadata": {
    "papermill": {
     "duration": 0.000962,
     "end_time": "2023-09-18T09:21:59.162205",
     "exception": false,
     "start_time": "2023-09-18T09:21:59.161243",
     "status": "completed"
    },
    "tags": []
   },
   "outputs": [],
   "source": []
  }
 ],
 "metadata": {
  "kernelspec": {
   "display_name": "jrf-insight-VA15kXRI",
   "language": "python",
   "name": "python3"
  },
  "language_info": {
   "codemirror_mode": {
    "name": "ipython",
    "version": 3
   },
   "file_extension": ".py",
   "mimetype": "text/x-python",
   "name": "python",
   "nbconvert_exporter": "python",
   "pygments_lexer": "ipython3",
   "version": "3.10.12"
  },
  "papermill": {
   "default_parameters": {},
   "duration": 3.659557,
   "end_time": "2023-09-18T09:21:59.377252",
   "environment_variables": {},
   "exception": null,
   "input_path": "hbai.ipynb",
   "output_path": "../../data/_working/output/hbai.ipynb",
   "parameters": {},
   "start_time": "2023-09-18T09:21:55.717695",
   "version": "2.4.0"
  }
 },
 "nbformat": 4,
 "nbformat_minor": 5
}