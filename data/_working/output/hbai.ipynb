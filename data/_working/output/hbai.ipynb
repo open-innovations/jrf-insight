{
 "cells": [
  {
   "cell_type": "markdown",
   "id": "ec02ec9e",
   "metadata": {
    "papermill": {
     "duration": 0.001148,
     "end_time": "2023-09-14T00:16:53.583129",
     "exception": false,
     "start_time": "2023-09-14T00:16:53.581981",
     "status": "completed"
    },
    "tags": []
   },
   "source": [
    "Pipeline to pull data from Households Below Average Income data from Stat-Xplore"
   ]
  },
  {
   "cell_type": "code",
   "execution_count": 1,
   "id": "4fde16c6",
   "metadata": {
    "execution": {
     "iopub.execute_input": "2023-09-14T00:16:53.585720Z",
     "iopub.status.busy": "2023-09-14T00:16:53.585548Z",
     "iopub.status.idle": "2023-09-14T00:16:53.804007Z",
     "shell.execute_reply": "2023-09-14T00:16:53.803583Z"
    },
    "papermill": {
     "duration": 0.22093,
     "end_time": "2023-09-14T00:16:53.805057",
     "exception": false,
     "start_time": "2023-09-14T00:16:53.584127",
     "status": "completed"
    },
    "tags": []
   },
   "outputs": [],
   "source": [
    "import os\n",
    "import json\n",
    "\n",
    "from api import run_statxplore_query"
   ]
  },
  {
   "cell_type": "code",
   "execution_count": 2,
   "id": "7fdf2ce9",
   "metadata": {
    "execution": {
     "iopub.execute_input": "2023-09-14T00:16:53.807631Z",
     "iopub.status.busy": "2023-09-14T00:16:53.807375Z",
     "iopub.status.idle": "2023-09-14T00:16:53.809445Z",
     "shell.execute_reply": "2023-09-14T00:16:53.809158Z"
    },
    "papermill": {
     "duration": 0.004152,
     "end_time": "2023-09-14T00:16:53.810210",
     "exception": false,
     "start_time": "2023-09-14T00:16:53.806058",
     "status": "completed"
    },
    "tags": []
   },
   "outputs": [],
   "source": [
    "OUTPUT_DIR=\"../../data/hbai\"\n",
    "os.makedirs(OUTPUT_DIR, exist_ok=True)"
   ]
  },
  {
   "cell_type": "code",
   "execution_count": 3,
   "id": "6f21708e",
   "metadata": {
    "execution": {
     "iopub.execute_input": "2023-09-14T00:16:53.812471Z",
     "iopub.status.busy": "2023-09-14T00:16:53.812357Z",
     "iopub.status.idle": "2023-09-14T00:16:53.814200Z",
     "shell.execute_reply": "2023-09-14T00:16:53.813933Z"
    },
    "papermill": {
     "duration": 0.003783,
     "end_time": "2023-09-14T00:16:53.814845",
     "exception": false,
     "start_time": "2023-09-14T00:16:53.811062",
     "status": "completed"
    },
    "tags": []
   },
   "outputs": [],
   "source": [
    "HBAI_JSON = \"json/data/HBAI.json\""
   ]
  },
  {
   "cell_type": "code",
   "execution_count": 4,
   "id": "75d140e1",
   "metadata": {
    "execution": {
     "iopub.execute_input": "2023-09-14T00:16:53.817259Z",
     "iopub.status.busy": "2023-09-14T00:16:53.816996Z",
     "iopub.status.idle": "2023-09-14T00:16:53.819085Z",
     "shell.execute_reply": "2023-09-14T00:16:53.818818Z"
    },
    "papermill": {
     "duration": 0.003994,
     "end_time": "2023-09-14T00:16:53.819734",
     "exception": false,
     "start_time": "2023-09-14T00:16:53.815740",
     "status": "completed"
    },
    "tags": []
   },
   "outputs": [],
   "source": [
    "dimensions = {\n",
    "    \"Type of Individual by Age Category\": [\"str:field:HBAI:V_F_HBAI:TYPE_AGECAT\"],\n",
    "    \"Number of Children in the Family of the Individual\": [\n",
    "        \"str:field:HBAI:V_F_HBAI:NUMBKIDS\"\n",
    "    ],\n",
    "    \"Age of the Youngest Child in the Family of the Individual\": [\n",
    "        \"str:field:HBAI:V_F_HBAI:YOUNGCH\"\n",
    "    ],\n",
    "    \"Tenure Type of the Household of the Individual\": [\n",
    "        \"str:field:HBAI:V_F_HBAI:TENHBAI\"\n",
    "    ],\n",
    "    \"Savings and Investments of Adults in the Family of the Individual\": [\n",
    "        \"str:field:HBAI:V_F_HBAI:CAPITAL\"\n",
    "    ],\n",
    "    \"Ethnic Group of the Head of the Household (please calculate three-year averages - click on i for the correct method)\": [\n",
    "        \"str:field:HBAI:V_F_HBAI:ETHGRPHHPUB\"\n",
    "    ],\n",
    "}"
   ]
  },
  {
   "cell_type": "code",
   "execution_count": 5,
   "id": "e47927da",
   "metadata": {
    "execution": {
     "iopub.execute_input": "2023-09-14T00:16:53.822012Z",
     "iopub.status.busy": "2023-09-14T00:16:53.821870Z",
     "iopub.status.idle": "2023-09-14T00:16:53.824248Z",
     "shell.execute_reply": "2023-09-14T00:16:53.823973Z"
    },
    "papermill": {
     "duration": 0.004249,
     "end_time": "2023-09-14T00:16:53.824863",
     "exception": false,
     "start_time": "2023-09-14T00:16:53.820614",
     "status": "completed"
    },
    "tags": []
   },
   "outputs": [],
   "source": [
    "location = \"Location in the United Kingdom of the Household of the Individual (please calculate three-year averages - click on i for the correct method)\"\n",
    "\n",
    "def split_location_code(data):\n",
    "    # Split location code\n",
    "    data[[\"geography_name\", \"geography_code\"]] = (\n",
    "        data[location].str.split(r\"[()]\", expand=True).iloc[:, [0, 1]]\n",
    "    )\n",
    "    data[\"geography_code\"] = data[\"geography_code\"].str.strip()\n",
    "    data[\"geography_name\"] = data[\"geography_name\"].str.strip()\n",
    "    data.drop(location, axis=1, inplace=True)"
   ]
  },
  {
   "cell_type": "code",
   "execution_count": 6,
   "id": "a2d922aa",
   "metadata": {
    "execution": {
     "iopub.execute_input": "2023-09-14T00:16:53.827101Z",
     "iopub.status.busy": "2023-09-14T00:16:53.826964Z",
     "iopub.status.idle": "2023-09-14T00:16:55.660418Z",
     "shell.execute_reply": "2023-09-14T00:16:55.660079Z"
    },
    "papermill": {
     "duration": 1.835983,
     "end_time": "2023-09-14T00:16:55.661713",
     "exception": false,
     "start_time": "2023-09-14T00:16:53.825730",
     "status": "completed"
    },
    "tags": []
   },
   "outputs": [],
   "source": [
    "for name, dim in dimensions.items():\n",
    "    with open(HBAI_JSON) as json_file:\n",
    "        query = json.load(json_file)\n",
    "\n",
    "    query[\"dimensions\"] += [dim]\n",
    "\n",
    "    HBAI = run_statxplore_query(query).reset_index()\n",
    "\n",
    "    # Split location code\n",
    "    HBAI.pipe(split_location_code)\n",
    "\n",
    "    HBAI = HBAI.melt(\n",
    "        id_vars=[\"Financial Year\", \"geography_name\", \"geography_code\", f\"{name}\"],\n",
    "        var_name=\"variable_name\",\n",
    "    )\n",
    "    HBAI.set_index(\"Financial Year\", inplace=True)\n",
    "    HBAI[\"variable_name\"] = HBAI[\"variable_name\"].str.replace(\n",
    "        \" (at or above threshold)\", \"\"\n",
    "    )\n",
    "    HBAI.to_csv(f\"{OUTPUT_DIR}/{name}.csv\")"
   ]
  },
  {
   "cell_type": "code",
   "execution_count": null,
   "id": "d911c22d",
   "metadata": {
    "papermill": {
     "duration": 0.001556,
     "end_time": "2023-09-14T00:16:55.665099",
     "exception": false,
     "start_time": "2023-09-14T00:16:55.663543",
     "status": "completed"
    },
    "tags": []
   },
   "outputs": [],
   "source": []
  }
 ],
 "metadata": {
  "kernelspec": {
   "display_name": "jrf-insight-VA15kXRI",
   "language": "python",
   "name": "python3"
  },
  "language_info": {
   "codemirror_mode": {
    "name": "ipython",
    "version": 3
   },
   "file_extension": ".py",
   "mimetype": "text/x-python",
   "name": "python",
   "nbconvert_exporter": "python",
   "pygments_lexer": "ipython3",
   "version": "3.10.12"
  },
  "papermill": {
   "default_parameters": {},
   "duration": 2.995303,
   "end_time": "2023-09-14T00:16:55.881985",
   "environment_variables": {},
   "exception": null,
   "input_path": "hbai.ipynb",
   "output_path": "../../data/_working/output/hbai.ipynb",
   "parameters": {},
   "start_time": "2023-09-14T00:16:52.886682",
   "version": "2.4.0"
  }
 },
 "nbformat": 4,
 "nbformat_minor": 5
}