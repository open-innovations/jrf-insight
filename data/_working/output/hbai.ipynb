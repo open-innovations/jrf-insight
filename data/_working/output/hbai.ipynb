{
 "cells": [
  {
   "cell_type": "markdown",
   "id": "3e74dddd",
   "metadata": {
    "papermill": {
     "duration": 0.001175,
     "end_time": "2023-09-14T00:52:48.219704",
     "exception": false,
     "start_time": "2023-09-14T00:52:48.218529",
     "status": "completed"
    },
    "tags": []
   },
   "source": [
    "Pipeline to pull data from Households Below Average Income data from Stat-Xplore"
   ]
  },
  {
   "cell_type": "code",
   "execution_count": 1,
   "id": "4ab2b141",
   "metadata": {
    "execution": {
     "iopub.execute_input": "2023-09-14T00:52:48.222275Z",
     "iopub.status.busy": "2023-09-14T00:52:48.222106Z",
     "iopub.status.idle": "2023-09-14T00:52:48.452633Z",
     "shell.execute_reply": "2023-09-14T00:52:48.452193Z"
    },
    "papermill": {
     "duration": 0.233066,
     "end_time": "2023-09-14T00:52:48.453744",
     "exception": false,
     "start_time": "2023-09-14T00:52:48.220678",
     "status": "completed"
    },
    "tags": []
   },
   "outputs": [],
   "source": [
    "import os\n",
    "import json\n",
    "\n",
    "from api import run_statxplore_query"
   ]
  },
  {
   "cell_type": "code",
   "execution_count": 2,
   "id": "0c4fc398",
   "metadata": {
    "execution": {
     "iopub.execute_input": "2023-09-14T00:52:48.456252Z",
     "iopub.status.busy": "2023-09-14T00:52:48.456072Z",
     "iopub.status.idle": "2023-09-14T00:52:48.458254Z",
     "shell.execute_reply": "2023-09-14T00:52:48.457967Z"
    },
    "papermill": {
     "duration": 0.00411,
     "end_time": "2023-09-14T00:52:48.458857",
     "exception": false,
     "start_time": "2023-09-14T00:52:48.454747",
     "status": "completed"
    },
    "tags": []
   },
   "outputs": [],
   "source": [
    "OUTPUT_DIR=\"../../data/hbai\"\n",
    "os.makedirs(OUTPUT_DIR, exist_ok=True)"
   ]
  },
  {
   "cell_type": "code",
   "execution_count": 3,
   "id": "ec3373d1",
   "metadata": {
    "execution": {
     "iopub.execute_input": "2023-09-14T00:52:48.461146Z",
     "iopub.status.busy": "2023-09-14T00:52:48.460988Z",
     "iopub.status.idle": "2023-09-14T00:52:48.462819Z",
     "shell.execute_reply": "2023-09-14T00:52:48.462550Z"
    },
    "papermill": {
     "duration": 0.003713,
     "end_time": "2023-09-14T00:52:48.463431",
     "exception": false,
     "start_time": "2023-09-14T00:52:48.459718",
     "status": "completed"
    },
    "tags": []
   },
   "outputs": [],
   "source": [
    "HBAI_JSON = \"json/data/HBAI.json\""
   ]
  },
  {
   "cell_type": "code",
   "execution_count": 4,
   "id": "f4124a5a",
   "metadata": {
    "execution": {
     "iopub.execute_input": "2023-09-14T00:52:48.465568Z",
     "iopub.status.busy": "2023-09-14T00:52:48.465427Z",
     "iopub.status.idle": "2023-09-14T00:52:48.467489Z",
     "shell.execute_reply": "2023-09-14T00:52:48.467217Z"
    },
    "papermill": {
     "duration": 0.003812,
     "end_time": "2023-09-14T00:52:48.468081",
     "exception": false,
     "start_time": "2023-09-14T00:52:48.464269",
     "status": "completed"
    },
    "tags": []
   },
   "outputs": [],
   "source": [
    "dimensions = {\n",
    "    \"Type of Individual by Age Category\": [\"str:field:HBAI:V_F_HBAI:TYPE_AGECAT\"],\n",
    "    \"Number of Children in the Family of the Individual\": [\n",
    "        \"str:field:HBAI:V_F_HBAI:NUMBKIDS\"\n",
    "    ],\n",
    "    \"Age of the Youngest Child in the Family of the Individual\": [\n",
    "        \"str:field:HBAI:V_F_HBAI:YOUNGCH\"\n",
    "    ],\n",
    "    \"Tenure Type of the Household of the Individual\": [\n",
    "        \"str:field:HBAI:V_F_HBAI:TENHBAI\"\n",
    "    ],\n",
    "    \"Savings and Investments of Adults in the Family of the Individual\": [\n",
    "        \"str:field:HBAI:V_F_HBAI:CAPITAL\"\n",
    "    ],\n",
    "    \"Ethnic Group of the Head of the Household (please calculate three-year averages - click on i for the correct method)\": [\n",
    "        \"str:field:HBAI:V_F_HBAI:ETHGRPHHPUB\"\n",
    "    ],\n",
    "}"
   ]
  },
  {
   "cell_type": "code",
   "execution_count": 5,
   "id": "6507dd58",
   "metadata": {
    "execution": {
     "iopub.execute_input": "2023-09-14T00:52:48.470224Z",
     "iopub.status.busy": "2023-09-14T00:52:48.470094Z",
     "iopub.status.idle": "2023-09-14T00:52:48.472418Z",
     "shell.execute_reply": "2023-09-14T00:52:48.472149Z"
    },
    "papermill": {
     "duration": 0.0041,
     "end_time": "2023-09-14T00:52:48.473020",
     "exception": false,
     "start_time": "2023-09-14T00:52:48.468920",
     "status": "completed"
    },
    "tags": []
   },
   "outputs": [],
   "source": [
    "location = \"Location in the United Kingdom of the Household of the Individual (please calculate three-year averages - click on i for the correct method)\"\n",
    "\n",
    "def split_location_code(data):\n",
    "    # Split location code\n",
    "    data[[\"geography_name\", \"geography_code\"]] = (\n",
    "        data[location].str.split(r\"[()]\", expand=True).iloc[:, [0, 1]]\n",
    "    )\n",
    "    data[\"geography_code\"] = data[\"geography_code\"].str.strip()\n",
    "    data[\"geography_name\"] = data[\"geography_name\"].str.strip()\n",
    "    data.drop(location, axis=1, inplace=True)"
   ]
  },
  {
   "cell_type": "code",
   "execution_count": 6,
   "id": "09bb67ff",
   "metadata": {
    "execution": {
     "iopub.execute_input": "2023-09-14T00:52:48.475191Z",
     "iopub.status.busy": "2023-09-14T00:52:48.475056Z",
     "iopub.status.idle": "2023-09-14T00:52:50.362890Z",
     "shell.execute_reply": "2023-09-14T00:52:50.362301Z"
    },
    "papermill": {
     "duration": 1.890123,
     "end_time": "2023-09-14T00:52:50.363991",
     "exception": false,
     "start_time": "2023-09-14T00:52:48.473868",
     "status": "completed"
    },
    "tags": []
   },
   "outputs": [],
   "source": [
    "for name, dim in dimensions.items():\n",
    "    with open(HBAI_JSON) as json_file:\n",
    "        query = json.load(json_file)\n",
    "\n",
    "    query[\"dimensions\"] += [dim]\n",
    "\n",
    "    HBAI = run_statxplore_query(query).reset_index()\n",
    "\n",
    "    # Split location code\n",
    "    HBAI.pipe(split_location_code)\n",
    "\n",
    "    HBAI = HBAI.melt(\n",
    "        id_vars=[\"Financial Year\", \"geography_name\", \"geography_code\", f\"{name}\"],\n",
    "        var_name=\"variable_name\",\n",
    "    )\n",
    "    HBAI.set_index(\"Financial Year\", inplace=True)\n",
    "    HBAI[\"variable_name\"] = HBAI[\"variable_name\"].str.replace(\n",
    "        \" (at or above threshold)\", \"\"\n",
    "    )\n",
    "    HBAI.to_csv(f\"{OUTPUT_DIR}/{name}.csv\")"
   ]
  },
  {
   "cell_type": "code",
   "execution_count": null,
   "id": "b34960dd",
   "metadata": {
    "papermill": {
     "duration": 0.000972,
     "end_time": "2023-09-14T00:52:50.366159",
     "exception": false,
     "start_time": "2023-09-14T00:52:50.365187",
     "status": "completed"
    },
    "tags": []
   },
   "outputs": [],
   "source": []
  }
 ],
 "metadata": {
  "kernelspec": {
   "display_name": "jrf-insight-VA15kXRI",
   "language": "python",
   "name": "python3"
  },
  "language_info": {
   "codemirror_mode": {
    "name": "ipython",
    "version": 3
   },
   "file_extension": ".py",
   "mimetype": "text/x-python",
   "name": "python",
   "nbconvert_exporter": "python",
   "pygments_lexer": "ipython3",
   "version": "3.10.12"
  },
  "papermill": {
   "default_parameters": {},
   "duration": 3.060962,
   "end_time": "2023-09-14T00:52:50.581252",
   "environment_variables": {},
   "exception": null,
   "input_path": "hbai.ipynb",
   "output_path": "../../data/_working/output/hbai.ipynb",
   "parameters": {},
   "start_time": "2023-09-14T00:52:47.520290",
   "version": "2.4.0"
  }
 },
 "nbformat": 4,
 "nbformat_minor": 5
}