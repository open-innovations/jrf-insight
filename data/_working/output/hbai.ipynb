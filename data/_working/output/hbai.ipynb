{
 "cells": [
  {
   "cell_type": "markdown",
   "id": "9f92f923",
   "metadata": {
    "papermill": {
     "duration": 0.004963,
     "end_time": "2023-09-15T08:28:34.299029",
     "exception": false,
     "start_time": "2023-09-15T08:28:34.294066",
     "status": "completed"
    },
    "tags": []
   },
   "source": [
    "Pipeline to pull data from Households Below Average Income data from Stat-Xplore"
   ]
  },
  {
   "cell_type": "code",
   "execution_count": 1,
   "id": "455e4a60",
   "metadata": {
    "execution": {
     "iopub.execute_input": "2023-09-15T08:28:34.303393Z",
     "iopub.status.busy": "2023-09-15T08:28:34.302281Z",
     "iopub.status.idle": "2023-09-15T08:28:34.513739Z",
     "shell.execute_reply": "2023-09-15T08:28:34.513284Z"
    },
    "papermill": {
     "duration": 0.214609,
     "end_time": "2023-09-15T08:28:34.514821",
     "exception": false,
     "start_time": "2023-09-15T08:28:34.300212",
     "status": "completed"
    },
    "tags": []
   },
   "outputs": [],
   "source": [
    "import os\n",
    "import json\n",
    "\n",
    "from api import run_statxplore_query"
   ]
  },
  {
   "cell_type": "code",
   "execution_count": 2,
   "id": "84b10506",
   "metadata": {
    "execution": {
     "iopub.execute_input": "2023-09-15T08:28:34.517358Z",
     "iopub.status.busy": "2023-09-15T08:28:34.517157Z",
     "iopub.status.idle": "2023-09-15T08:28:34.519159Z",
     "shell.execute_reply": "2023-09-15T08:28:34.518873Z"
    },
    "papermill": {
     "duration": 0.004008,
     "end_time": "2023-09-15T08:28:34.519868",
     "exception": false,
     "start_time": "2023-09-15T08:28:34.515860",
     "status": "completed"
    },
    "tags": []
   },
   "outputs": [],
   "source": [
    "OUTPUT_DIR=\"../../data/hbai\"\n",
    "os.makedirs(OUTPUT_DIR, exist_ok=True)"
   ]
  },
  {
   "cell_type": "code",
   "execution_count": 3,
   "id": "78c20bbc",
   "metadata": {
    "execution": {
     "iopub.execute_input": "2023-09-15T08:28:34.521944Z",
     "iopub.status.busy": "2023-09-15T08:28:34.521807Z",
     "iopub.status.idle": "2023-09-15T08:28:34.523631Z",
     "shell.execute_reply": "2023-09-15T08:28:34.523345Z"
    },
    "papermill": {
     "duration": 0.003601,
     "end_time": "2023-09-15T08:28:34.524262",
     "exception": false,
     "start_time": "2023-09-15T08:28:34.520661",
     "status": "completed"
    },
    "tags": []
   },
   "outputs": [],
   "source": [
    "HBAI_JSON = \"json/data/HBAI.json\""
   ]
  },
  {
   "cell_type": "code",
   "execution_count": 4,
   "id": "c684df2c",
   "metadata": {
    "execution": {
     "iopub.execute_input": "2023-09-15T08:28:34.526326Z",
     "iopub.status.busy": "2023-09-15T08:28:34.526211Z",
     "iopub.status.idle": "2023-09-15T08:28:34.528245Z",
     "shell.execute_reply": "2023-09-15T08:28:34.527972Z"
    },
    "papermill": {
     "duration": 0.003838,
     "end_time": "2023-09-15T08:28:34.528899",
     "exception": false,
     "start_time": "2023-09-15T08:28:34.525061",
     "status": "completed"
    },
    "tags": []
   },
   "outputs": [],
   "source": [
    "dimensions = {\n",
    "    \"Type of Individual by Age Category\": [\"str:field:HBAI:V_F_HBAI:TYPE_AGECAT\"],\n",
    "    \"Number of Children in the Family of the Individual\": [\n",
    "        \"str:field:HBAI:V_F_HBAI:NUMBKIDS\"\n",
    "    ],\n",
    "    \"Age of the Youngest Child in the Family of the Individual\": [\n",
    "        \"str:field:HBAI:V_F_HBAI:YOUNGCH\"\n",
    "    ],\n",
    "    \"Tenure Type of the Household of the Individual\": [\n",
    "        \"str:field:HBAI:V_F_HBAI:TENHBAI\"\n",
    "    ],\n",
    "    \"Savings and Investments of Adults in the Family of the Individual\": [\n",
    "        \"str:field:HBAI:V_F_HBAI:CAPITAL\"\n",
    "    ],\n",
    "    \"Ethnic Group of the Head of the Household (please calculate three-year averages - click on i for the correct method)\": [\n",
    "        \"str:field:HBAI:V_F_HBAI:ETHGRPHHPUB\"\n",
    "    ],\n",
    "}"
   ]
  },
  {
   "cell_type": "code",
   "execution_count": 5,
   "id": "85bd1fc5",
   "metadata": {
    "execution": {
     "iopub.execute_input": "2023-09-15T08:28:34.531040Z",
     "iopub.status.busy": "2023-09-15T08:28:34.530843Z",
     "iopub.status.idle": "2023-09-15T08:28:34.533173Z",
     "shell.execute_reply": "2023-09-15T08:28:34.532873Z"
    },
    "papermill": {
     "duration": 0.00416,
     "end_time": "2023-09-15T08:28:34.533869",
     "exception": false,
     "start_time": "2023-09-15T08:28:34.529709",
     "status": "completed"
    },
    "tags": []
   },
   "outputs": [],
   "source": [
    "location = \"Location in the United Kingdom of the Household of the Individual (please calculate three-year averages - click on i for the correct method)\"\n",
    "\n",
    "def split_location_code(data):\n",
    "    # Split location code\n",
    "    data[[\"geography_name\", \"geography_code\"]] = (\n",
    "        data[location].str.split(r\"[()]\", expand=True).iloc[:, [0, 1]]\n",
    "    )\n",
    "    data[\"geography_code\"] = data[\"geography_code\"].str.strip()\n",
    "    data[\"geography_name\"] = data[\"geography_name\"].str.strip()\n",
    "    data.drop(location, axis=1, inplace=True)"
   ]
  },
  {
   "cell_type": "code",
   "execution_count": 6,
   "id": "896fe316",
   "metadata": {
    "execution": {
     "iopub.execute_input": "2023-09-15T08:28:34.536438Z",
     "iopub.status.busy": "2023-09-15T08:28:34.536216Z",
     "iopub.status.idle": "2023-09-15T08:28:40.475271Z",
     "shell.execute_reply": "2023-09-15T08:28:40.474906Z"
    },
    "papermill": {
     "duration": 5.941484,
     "end_time": "2023-09-15T08:28:40.476333",
     "exception": false,
     "start_time": "2023-09-15T08:28:34.534849",
     "status": "completed"
    },
    "tags": []
   },
   "outputs": [],
   "source": [
    "for name, dim in dimensions.items():\n",
    "    with open(HBAI_JSON) as json_file:\n",
    "        query = json.load(json_file)\n",
    "\n",
    "    query[\"dimensions\"] += [dim]\n",
    "\n",
    "    HBAI = run_statxplore_query(query).reset_index()\n",
    "\n",
    "    # Split location code\n",
    "    HBAI.pipe(split_location_code)\n",
    "\n",
    "    HBAI = HBAI.melt(\n",
    "        id_vars=[\"Financial Year\", \"geography_name\", \"geography_code\", f\"{name}\"],\n",
    "        var_name=\"variable_name\",\n",
    "    )\n",
    "    HBAI.set_index(\"Financial Year\", inplace=True)\n",
    "    HBAI[\"variable_name\"] = HBAI[\"variable_name\"].str.replace(\n",
    "        \" (at or above threshold)\", \"\"\n",
    "    )\n",
    "    HBAI.to_csv(f\"{OUTPUT_DIR}/{name}.csv\")"
   ]
  },
  {
   "cell_type": "code",
   "execution_count": null,
   "id": "8698c428",
   "metadata": {
    "papermill": {
     "duration": 0.001321,
     "end_time": "2023-09-15T08:28:40.478756",
     "exception": false,
     "start_time": "2023-09-15T08:28:40.477435",
     "status": "completed"
    },
    "tags": []
   },
   "outputs": [],
   "source": []
  }
 ],
 "metadata": {
  "kernelspec": {
   "display_name": "jrf-insight-VA15kXRI",
   "language": "python",
   "name": "python3"
  },
  "language_info": {
   "codemirror_mode": {
    "name": "ipython",
    "version": 3
   },
   "file_extension": ".py",
   "mimetype": "text/x-python",
   "name": "python",
   "nbconvert_exporter": "python",
   "pygments_lexer": "ipython3",
   "version": "3.10.12"
  },
  "papermill": {
   "default_parameters": {},
   "duration": 7.106408,
   "end_time": "2023-09-15T08:28:40.699145",
   "environment_variables": {},
   "exception": null,
   "input_path": "hbai.ipynb",
   "output_path": "../../data/_working/output/hbai.ipynb",
   "parameters": {},
   "start_time": "2023-09-15T08:28:33.592737",
   "version": "2.4.0"
  }
 },
 "nbformat": 4,
 "nbformat_minor": 5
}