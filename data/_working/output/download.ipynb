{
 "cells": [
  {
   "cell_type": "code",
   "execution_count": 1,
   "id": "57fd8fbc",
   "metadata": {
    "execution": {
     "iopub.execute_input": "2023-11-08T13:26:52.526692Z",
     "iopub.status.busy": "2023-11-08T13:26:52.526512Z",
     "iopub.status.idle": "2023-11-08T13:26:52.797276Z",
     "shell.execute_reply": "2023-11-08T13:26:52.796801Z"
    },
    "papermill": {
     "duration": 0.273537,
     "end_time": "2023-11-08T13:26:52.798400",
     "exception": false,
     "start_time": "2023-11-08T13:26:52.524863",
     "status": "completed"
    },
    "tags": []
   },
   "outputs": [],
   "source": [
    "import io\n",
    "import os\n",
    "\n",
    "import pandas as pd\n",
    "import requests"
   ]
  },
  {
   "cell_type": "code",
   "execution_count": 2,
   "id": "d0a10800",
   "metadata": {
    "execution": {
     "iopub.execute_input": "2023-11-08T13:26:52.800834Z",
     "iopub.status.busy": "2023-11-08T13:26:52.800582Z",
     "iopub.status.idle": "2023-11-08T13:26:54.243689Z",
     "shell.execute_reply": "2023-11-08T13:26:54.243221Z"
    },
    "papermill": {
     "duration": 1.445417,
     "end_time": "2023-11-08T13:26:54.244731",
     "exception": false,
     "start_time": "2023-11-08T13:26:52.799314",
     "status": "completed"
    },
    "tags": []
   },
   "outputs": [],
   "source": [
    "r = requests.get('https://download.ons.gov.uk/downloads/datasets/wellbeing-local-authority/editions/time-series/versions/3.csv')\n",
    "CSV_FILE='../../data/personal-wellbeing/wellbeing-local-authority.csv'\n",
    "\n",
    "with open(CSV_FILE, 'wb') as f:\n",
    "    f.write(r.content)\n",
    "r.close()\n",
    "\n",
    "data = pd.read_csv(CSV_FILE)"
   ]
  },
  {
   "cell_type": "code",
   "execution_count": 3,
   "id": "66ffbb79",
   "metadata": {
    "execution": {
     "iopub.execute_input": "2023-11-08T13:26:54.246930Z",
     "iopub.status.busy": "2023-11-08T13:26:54.246745Z",
     "iopub.status.idle": "2023-11-08T13:26:54.357207Z",
     "shell.execute_reply": "2023-11-08T13:26:54.356815Z"
    },
    "papermill": {
     "duration": 0.112637,
     "end_time": "2023-11-08T13:26:54.358212",
     "exception": false,
     "start_time": "2023-11-08T13:26:54.245575",
     "status": "completed"
    },
    "tags": []
   },
   "outputs": [],
   "source": [
    "PARQUET_FILE='../../data-mart/personal-wellbeing/wellbeing-local-authority.parquet'\n",
    "os.makedirs(os.path.dirname(PARQUET_FILE), exist_ok=True)\n",
    "data.set_index(['administrative-geography', 'Time']).to_parquet(PARQUET_FILE)"
   ]
  },
  {
   "cell_type": "code",
   "execution_count": null,
   "id": "ca23becd",
   "metadata": {
    "papermill": {
     "duration": 0.000774,
     "end_time": "2023-11-08T13:26:54.359802",
     "exception": false,
     "start_time": "2023-11-08T13:26:54.359028",
     "status": "completed"
    },
    "tags": []
   },
   "outputs": [],
   "source": []
  }
 ],
 "metadata": {
  "kernelspec": {
   "display_name": "jrf-insight-VA15kXRI",
   "language": "python",
   "name": "python3"
  },
  "language_info": {
   "codemirror_mode": {
    "name": "ipython",
    "version": 3
   },
   "file_extension": ".py",
   "mimetype": "text/x-python",
   "name": "python",
   "nbconvert_exporter": "python",
   "pygments_lexer": "ipython3",
   "version": "3.10.12"
  },
  "papermill": {
   "default_parameters": {},
   "duration": 2.749462,
   "end_time": "2023-11-08T13:26:54.574407",
   "environment_variables": {},
   "exception": null,
   "input_path": "download.ipynb",
   "output_path": "../../data/_working/output/download.ipynb",
   "parameters": {},
   "start_time": "2023-11-08T13:26:51.824945",
   "version": "2.4.0"
  }
 },
 "nbformat": 4,
 "nbformat_minor": 5
}