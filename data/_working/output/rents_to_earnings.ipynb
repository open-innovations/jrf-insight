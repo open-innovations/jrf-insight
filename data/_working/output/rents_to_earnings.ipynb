{
 "cells": [
  {
   "cell_type": "code",
   "execution_count": 1,
   "id": "de6066d7",
   "metadata": {
    "execution": {
     "iopub.execute_input": "2023-11-20T10:02:06.408168Z",
     "iopub.status.busy": "2023-11-20T10:02:06.408001Z",
     "iopub.status.idle": "2023-11-20T10:02:06.645358Z",
     "shell.execute_reply": "2023-11-20T10:02:06.644902Z"
    },
    "papermill": {
     "duration": 0.241171,
     "end_time": "2023-11-20T10:02:06.646610",
     "exception": false,
     "start_time": "2023-11-20T10:02:06.405439",
     "status": "completed"
    },
    "tags": []
   },
   "outputs": [],
   "source": [
    "import os \n",
    "import pandas as pd\n",
    "from params import *"
   ]
  },
  {
   "cell_type": "code",
   "execution_count": 2,
   "id": "9a135545",
   "metadata": {
    "execution": {
     "iopub.execute_input": "2023-11-20T10:02:06.649625Z",
     "iopub.status.busy": "2023-11-20T10:02:06.649300Z",
     "iopub.status.idle": "2023-11-20T10:02:06.662825Z",
     "shell.execute_reply": "2023-11-20T10:02:06.662415Z"
    },
    "papermill": {
     "duration": 0.016329,
     "end_time": "2023-11-20T10:02:06.664061",
     "exception": false,
     "start_time": "2023-11-20T10:02:06.647732",
     "status": "completed"
    },
    "tags": []
   },
   "outputs": [],
   "source": [
    "rental_prices = pd.read_csv(f'{DATA_DIR}/rental-prices/rental-prices.csv')\n",
    "wages = pd.read_csv(f'{DATA_DIR}/ashe/weekly-earnings.csv')"
   ]
  },
  {
   "cell_type": "code",
   "execution_count": 3,
   "id": "264de47a",
   "metadata": {
    "execution": {
     "iopub.execute_input": "2023-11-20T10:02:06.667791Z",
     "iopub.status.busy": "2023-11-20T10:02:06.667599Z",
     "iopub.status.idle": "2023-11-20T10:02:06.678039Z",
     "shell.execute_reply": "2023-11-20T10:02:06.677674Z"
    },
    "papermill": {
     "duration": 0.013541,
     "end_time": "2023-11-20T10:02:06.679167",
     "exception": false,
     "start_time": "2023-11-20T10:02:06.665626",
     "status": "completed"
    },
    "tags": []
   },
   "outputs": [
    {
     "data": {
      "text/html": [
       "<div>\n",
       "<style scoped>\n",
       "    .dataframe tbody tr th:only-of-type {\n",
       "        vertical-align: middle;\n",
       "    }\n",
       "\n",
       "    .dataframe tbody tr th {\n",
       "        vertical-align: top;\n",
       "    }\n",
       "\n",
       "    .dataframe thead th {\n",
       "        text-align: right;\n",
       "    }\n",
       "</style>\n",
       "<table border=\"1\" class=\"dataframe\">\n",
       "  <thead>\n",
       "    <tr style=\"text-align: right;\">\n",
       "      <th></th>\n",
       "      <th>lower_quartile_rent</th>\n",
       "    </tr>\n",
       "    <tr>\n",
       "      <th>geography_code</th>\n",
       "      <th></th>\n",
       "    </tr>\n",
       "  </thead>\n",
       "  <tbody>\n",
       "    <tr>\n",
       "      <th>E92000001</th>\n",
       "      <td>625</td>\n",
       "    </tr>\n",
       "    <tr>\n",
       "      <th>E12000001</th>\n",
       "      <td>450</td>\n",
       "    </tr>\n",
       "    <tr>\n",
       "      <th>E06000047</th>\n",
       "      <td>400</td>\n",
       "    </tr>\n",
       "    <tr>\n",
       "      <th>E06000005</th>\n",
       "      <td>438</td>\n",
       "    </tr>\n",
       "    <tr>\n",
       "      <th>E06000001</th>\n",
       "      <td>400</td>\n",
       "    </tr>\n",
       "    <tr>\n",
       "      <th>...</th>\n",
       "      <td>...</td>\n",
       "    </tr>\n",
       "    <tr>\n",
       "      <th>E10000027</th>\n",
       "      <td>650</td>\n",
       "    </tr>\n",
       "    <tr>\n",
       "      <th>E07000187</th>\n",
       "      <td>700</td>\n",
       "    </tr>\n",
       "    <tr>\n",
       "      <th>E07000188</th>\n",
       "      <td>650</td>\n",
       "    </tr>\n",
       "    <tr>\n",
       "      <th>E07000246</th>\n",
       "      <td>670</td>\n",
       "    </tr>\n",
       "    <tr>\n",
       "      <th>E07000189</th>\n",
       "      <td>650</td>\n",
       "    </tr>\n",
       "  </tbody>\n",
       "</table>\n",
       "<p>356 rows × 1 columns</p>\n",
       "</div>"
      ],
      "text/plain": [
       "                lower_quartile_rent\n",
       "geography_code                     \n",
       "E92000001                       625\n",
       "E12000001                       450\n",
       "E06000047                       400\n",
       "E06000005                       438\n",
       "E06000001                       400\n",
       "...                             ...\n",
       "E10000027                       650\n",
       "E07000187                       700\n",
       "E07000188                       650\n",
       "E07000246                       670\n",
       "E07000189                       650\n",
       "\n",
       "[356 rows x 1 columns]"
      ]
     },
     "execution_count": 3,
     "metadata": {},
     "output_type": "execute_result"
    }
   ],
   "source": [
    "rental_prices = rental_prices[(rental_prices.date == max(rental_prices.date)) \n",
    "                              &(rental_prices.variable_code == 'Lower quartile')\n",
    "                              &(rental_prices.property_name == 'bed2')]\n",
    "rental_prices = rental_prices[['geography_code', 'value']].set_index('geography_code')\n",
    "rental_prices.rename(columns={'value': 'lower_quartile_rent'}, inplace=True)\n",
    "rental_prices"
   ]
  },
  {
   "cell_type": "code",
   "execution_count": 4,
   "id": "1d33d970",
   "metadata": {
    "execution": {
     "iopub.execute_input": "2023-11-20T10:02:06.682353Z",
     "iopub.status.busy": "2023-11-20T10:02:06.682139Z",
     "iopub.status.idle": "2023-11-20T10:02:06.689370Z",
     "shell.execute_reply": "2023-11-20T10:02:06.689048Z"
    },
    "papermill": {
     "duration": 0.009958,
     "end_time": "2023-11-20T10:02:06.690538",
     "exception": false,
     "start_time": "2023-11-20T10:02:06.680580",
     "status": "completed"
    },
    "tags": []
   },
   "outputs": [
    {
     "data": {
      "text/html": [
       "<div>\n",
       "<style scoped>\n",
       "    .dataframe tbody tr th:only-of-type {\n",
       "        vertical-align: middle;\n",
       "    }\n",
       "\n",
       "    .dataframe tbody tr th {\n",
       "        vertical-align: top;\n",
       "    }\n",
       "\n",
       "    .dataframe thead th {\n",
       "        text-align: right;\n",
       "    }\n",
       "</style>\n",
       "<table border=\"1\" class=\"dataframe\">\n",
       "  <thead>\n",
       "    <tr style=\"text-align: right;\">\n",
       "      <th></th>\n",
       "      <th>geography_name</th>\n",
       "      <th>lq_monthly_wage</th>\n",
       "    </tr>\n",
       "    <tr>\n",
       "      <th>geography_code</th>\n",
       "      <th></th>\n",
       "      <th></th>\n",
       "    </tr>\n",
       "  </thead>\n",
       "  <tbody>\n",
       "    <tr>\n",
       "      <th>E12000001</th>\n",
       "      <td>North East</td>\n",
       "      <td>1539.0</td>\n",
       "    </tr>\n",
       "    <tr>\n",
       "      <th>E06000005</th>\n",
       "      <td>Darlington UA</td>\n",
       "      <td>1564.0</td>\n",
       "    </tr>\n",
       "    <tr>\n",
       "      <th>E06000001</th>\n",
       "      <td>Hartlepool UA</td>\n",
       "      <td>1344.0</td>\n",
       "    </tr>\n",
       "    <tr>\n",
       "      <th>E06000002</th>\n",
       "      <td>Middlesbrough UA</td>\n",
       "      <td>1387.0</td>\n",
       "    </tr>\n",
       "    <tr>\n",
       "      <th>E06000003</th>\n",
       "      <td>Redcar and Cleveland UA</td>\n",
       "      <td>1278.0</td>\n",
       "    </tr>\n",
       "    <tr>\n",
       "      <th>...</th>\n",
       "      <td>...</td>\n",
       "      <td>...</td>\n",
       "    </tr>\n",
       "    <tr>\n",
       "      <th>E08000032</th>\n",
       "      <td>Bradford</td>\n",
       "      <td>1472.0</td>\n",
       "    </tr>\n",
       "    <tr>\n",
       "      <th>E08000033</th>\n",
       "      <td>Calderdale</td>\n",
       "      <td>1540.0</td>\n",
       "    </tr>\n",
       "    <tr>\n",
       "      <th>E08000034</th>\n",
       "      <td>Kirklees</td>\n",
       "      <td>1513.0</td>\n",
       "    </tr>\n",
       "    <tr>\n",
       "      <th>E08000035</th>\n",
       "      <td>Leeds</td>\n",
       "      <td>1696.0</td>\n",
       "    </tr>\n",
       "    <tr>\n",
       "      <th>E08000036</th>\n",
       "      <td>Wakefield</td>\n",
       "      <td>1471.0</td>\n",
       "    </tr>\n",
       "  </tbody>\n",
       "</table>\n",
       "<p>68 rows × 2 columns</p>\n",
       "</div>"
      ],
      "text/plain": [
       "                         geography_name  lq_monthly_wage\n",
       "geography_code                                          \n",
       "E12000001                    North East           1539.0\n",
       "E06000005                 Darlington UA           1564.0\n",
       "E06000001                 Hartlepool UA           1344.0\n",
       "E06000002              Middlesbrough UA           1387.0\n",
       "E06000003       Redcar and Cleveland UA           1278.0\n",
       "...                                 ...              ...\n",
       "E08000032                      Bradford           1472.0\n",
       "E08000033                    Calderdale           1540.0\n",
       "E08000034                      Kirklees           1513.0\n",
       "E08000035                         Leeds           1696.0\n",
       "E08000036                     Wakefield           1471.0\n",
       "\n",
       "[68 rows x 2 columns]"
      ]
     },
     "execution_count": 4,
     "metadata": {},
     "output_type": "execute_result"
    }
   ],
   "source": [
    "wages = wages[\n",
    "    (wages.date == max(wages.date)) \n",
    "    &(wages.variable_name == 'lq_monthly_wage')]\n",
    "wages = wages[['geography_code', 'geography_name', 'value']].set_index('geography_code')\n",
    "wages.rename(columns={'value': 'lq_monthly_wage'}, inplace=True)\n",
    "wages"
   ]
  },
  {
   "cell_type": "code",
   "execution_count": 5,
   "id": "18579496",
   "metadata": {
    "execution": {
     "iopub.execute_input": "2023-11-20T10:02:06.694919Z",
     "iopub.status.busy": "2023-11-20T10:02:06.694759Z",
     "iopub.status.idle": "2023-11-20T10:02:06.702310Z",
     "shell.execute_reply": "2023-11-20T10:02:06.702006Z"
    },
    "papermill": {
     "duration": 0.0109,
     "end_time": "2023-11-20T10:02:06.703313",
     "exception": false,
     "start_time": "2023-11-20T10:02:06.692413",
     "status": "completed"
    },
    "tags": []
   },
   "outputs": [
    {
     "name": "stdout",
     "output_type": "stream",
     "text": [
      "['geography_name', 'lq_monthly_wage', 'lower_quartile_rent']\n"
     ]
    },
    {
     "data": {
      "text/html": [
       "<div>\n",
       "<style scoped>\n",
       "    .dataframe tbody tr th:only-of-type {\n",
       "        vertical-align: middle;\n",
       "    }\n",
       "\n",
       "    .dataframe tbody tr th {\n",
       "        vertical-align: top;\n",
       "    }\n",
       "\n",
       "    .dataframe thead th {\n",
       "        text-align: right;\n",
       "    }\n",
       "</style>\n",
       "<table border=\"1\" class=\"dataframe\">\n",
       "  <thead>\n",
       "    <tr style=\"text-align: right;\">\n",
       "      <th></th>\n",
       "      <th>geography_name</th>\n",
       "      <th>lq_monthly_wage</th>\n",
       "      <th>lower_quartile_rent</th>\n",
       "      <th>lq_rent_to_lq_earnings</th>\n",
       "    </tr>\n",
       "    <tr>\n",
       "      <th>geography_code</th>\n",
       "      <th></th>\n",
       "      <th></th>\n",
       "      <th></th>\n",
       "      <th></th>\n",
       "    </tr>\n",
       "  </thead>\n",
       "  <tbody>\n",
       "    <tr>\n",
       "      <th>E12000001</th>\n",
       "      <td>North East</td>\n",
       "      <td>1539.0</td>\n",
       "      <td>450</td>\n",
       "      <td>0.292398</td>\n",
       "    </tr>\n",
       "    <tr>\n",
       "      <th>E06000005</th>\n",
       "      <td>Darlington UA</td>\n",
       "      <td>1564.0</td>\n",
       "      <td>438</td>\n",
       "      <td>0.280051</td>\n",
       "    </tr>\n",
       "    <tr>\n",
       "      <th>E06000001</th>\n",
       "      <td>Hartlepool UA</td>\n",
       "      <td>1344.0</td>\n",
       "      <td>400</td>\n",
       "      <td>0.297619</td>\n",
       "    </tr>\n",
       "    <tr>\n",
       "      <th>E06000002</th>\n",
       "      <td>Middlesbrough UA</td>\n",
       "      <td>1387.0</td>\n",
       "      <td>450</td>\n",
       "      <td>0.324441</td>\n",
       "    </tr>\n",
       "    <tr>\n",
       "      <th>E06000003</th>\n",
       "      <td>Redcar and Cleveland UA</td>\n",
       "      <td>1278.0</td>\n",
       "      <td>448</td>\n",
       "      <td>0.350548</td>\n",
       "    </tr>\n",
       "    <tr>\n",
       "      <th>...</th>\n",
       "      <td>...</td>\n",
       "      <td>...</td>\n",
       "      <td>...</td>\n",
       "      <td>...</td>\n",
       "    </tr>\n",
       "    <tr>\n",
       "      <th>E08000032</th>\n",
       "      <td>Bradford</td>\n",
       "      <td>1472.0</td>\n",
       "      <td>475</td>\n",
       "      <td>0.322690</td>\n",
       "    </tr>\n",
       "    <tr>\n",
       "      <th>E08000033</th>\n",
       "      <td>Calderdale</td>\n",
       "      <td>1540.0</td>\n",
       "      <td>475</td>\n",
       "      <td>0.308442</td>\n",
       "    </tr>\n",
       "    <tr>\n",
       "      <th>E08000034</th>\n",
       "      <td>Kirklees</td>\n",
       "      <td>1513.0</td>\n",
       "      <td>475</td>\n",
       "      <td>0.313946</td>\n",
       "    </tr>\n",
       "    <tr>\n",
       "      <th>E08000035</th>\n",
       "      <td>Leeds</td>\n",
       "      <td>1696.0</td>\n",
       "      <td>725</td>\n",
       "      <td>0.427476</td>\n",
       "    </tr>\n",
       "    <tr>\n",
       "      <th>E08000036</th>\n",
       "      <td>Wakefield</td>\n",
       "      <td>1471.0</td>\n",
       "      <td>530</td>\n",
       "      <td>0.360299</td>\n",
       "    </tr>\n",
       "  </tbody>\n",
       "</table>\n",
       "<p>68 rows × 4 columns</p>\n",
       "</div>"
      ],
      "text/plain": [
       "                         geography_name  lq_monthly_wage  lower_quartile_rent  \\\n",
       "geography_code                                                                  \n",
       "E12000001                    North East           1539.0                  450   \n",
       "E06000005                 Darlington UA           1564.0                  438   \n",
       "E06000001                 Hartlepool UA           1344.0                  400   \n",
       "E06000002              Middlesbrough UA           1387.0                  450   \n",
       "E06000003       Redcar and Cleveland UA           1278.0                  448   \n",
       "...                                 ...              ...                  ...   \n",
       "E08000032                      Bradford           1472.0                  475   \n",
       "E08000033                    Calderdale           1540.0                  475   \n",
       "E08000034                      Kirklees           1513.0                  475   \n",
       "E08000035                         Leeds           1696.0                  725   \n",
       "E08000036                     Wakefield           1471.0                  530   \n",
       "\n",
       "                lq_rent_to_lq_earnings  \n",
       "geography_code                          \n",
       "E12000001                     0.292398  \n",
       "E06000005                     0.280051  \n",
       "E06000001                     0.297619  \n",
       "E06000002                     0.324441  \n",
       "E06000003                     0.350548  \n",
       "...                                ...  \n",
       "E08000032                     0.322690  \n",
       "E08000033                     0.308442  \n",
       "E08000034                     0.313946  \n",
       "E08000035                     0.427476  \n",
       "E08000036                     0.360299  \n",
       "\n",
       "[68 rows x 4 columns]"
      ]
     },
     "execution_count": 5,
     "metadata": {},
     "output_type": "execute_result"
    }
   ],
   "source": [
    "merged = wages.merge(rental_prices, left_index=True, right_index=True)\n",
    "print(merged.columns.to_list())\n",
    "merged['lq_rent_to_lq_earnings'] = merged['lower_quartile_rent'] / merged['lq_monthly_wage']\n",
    "merged"
   ]
  },
  {
   "cell_type": "code",
   "execution_count": 6,
   "id": "a64c7ef2",
   "metadata": {
    "execution": {
     "iopub.execute_input": "2023-11-20T10:02:06.708081Z",
     "iopub.status.busy": "2023-11-20T10:02:06.707893Z",
     "iopub.status.idle": "2023-11-20T10:02:06.711701Z",
     "shell.execute_reply": "2023-11-20T10:02:06.711308Z"
    },
    "papermill": {
     "duration": 0.007317,
     "end_time": "2023-11-20T10:02:06.712725",
     "exception": false,
     "start_time": "2023-11-20T10:02:06.705408",
     "status": "completed"
    },
    "tags": []
   },
   "outputs": [],
   "source": [
    "merged = merged.melt(value_vars='lq_rent_to_lq_earnings', \n",
    "                    id_vars='geography_name', \n",
    "                    ignore_index=False, \n",
    "                    var_name='variable_name'\n",
    "                    )\n",
    "merged = merged.dropna()\n",
    "# merged.to_csv(f'{DATA_DIR}/ashe/rent-earning-ratio.csv')"
   ]
  },
  {
   "cell_type": "code",
   "execution_count": 7,
   "id": "786732ed",
   "metadata": {
    "execution": {
     "iopub.execute_input": "2023-11-20T10:02:06.717910Z",
     "iopub.status.busy": "2023-11-20T10:02:06.717568Z",
     "iopub.status.idle": "2023-11-20T10:02:06.734583Z",
     "shell.execute_reply": "2023-11-20T10:02:06.734118Z"
    },
    "papermill": {
     "duration": 0.021195,
     "end_time": "2023-11-20T10:02:06.736012",
     "exception": false,
     "start_time": "2023-11-20T10:02:06.714817",
     "status": "completed"
    },
    "tags": []
   },
   "outputs": [],
   "source": [
    "PARQUET_FILE = '../../../data-mart/ashe/rent-earning-ratio.parquet'\n",
    "os.makedirs(os.path.dirname(PARQUET_FILE), exist_ok=True)\n",
    "merged.to_parquet(PARQUET_FILE)"
   ]
  },
  {
   "cell_type": "code",
   "execution_count": null,
   "id": "a890b592",
   "metadata": {
    "papermill": {
     "duration": 0.001797,
     "end_time": "2023-11-20T10:02:06.739736",
     "exception": false,
     "start_time": "2023-11-20T10:02:06.737939",
     "status": "completed"
    },
    "tags": []
   },
   "outputs": [],
   "source": []
  }
 ],
 "metadata": {
  "kernelspec": {
   "display_name": "jrf-insight-o_Bkqbd_",
   "language": "python",
   "name": "python3"
  },
  "language_info": {
   "codemirror_mode": {
    "name": "ipython",
    "version": 3
   },
   "file_extension": ".py",
   "mimetype": "text/x-python",
   "name": "python",
   "nbconvert_exporter": "python",
   "pygments_lexer": "ipython3",
   "version": "3.10.12"
  },
  "papermill": {
   "default_parameters": {},
   "duration": 1.279869,
   "end_time": "2023-11-20T10:02:06.956462",
   "environment_variables": {},
   "exception": null,
   "input_path": "rents_to_earnings.ipynb",
   "output_path": "../../../data/_working/output/rents_to_earnings.ipynb",
   "parameters": {},
   "start_time": "2023-11-20T10:02:05.676593",
   "version": "2.4.0"
  }
 },
 "nbformat": 4,
 "nbformat_minor": 5
}