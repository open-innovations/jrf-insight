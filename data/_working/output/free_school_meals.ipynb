{
 "cells": [
  {
   "cell_type": "code",
   "execution_count": 1,
   "id": "f4369d05",
   "metadata": {
    "execution": {
     "iopub.execute_input": "2023-09-22T13:43:00.993611Z",
     "iopub.status.busy": "2023-09-22T13:43:00.993366Z",
     "iopub.status.idle": "2023-09-22T13:43:01.419731Z",
     "shell.execute_reply": "2023-09-22T13:43:01.418937Z"
    },
    "papermill": {
     "duration": 0.430605,
     "end_time": "2023-09-22T13:43:01.421207",
     "exception": false,
     "start_time": "2023-09-22T13:43:00.990602",
     "status": "completed"
    },
    "tags": []
   },
   "outputs": [],
   "source": [
    "import os\n",
    "import pandas as pd\n",
    "TOP_DIR = '../../..'\n",
    "RAW_DATA_DIR = f'{TOP_DIR}/data-raw'\n",
    "DATA_DIR = f'{TOP_DIR}/data'"
   ]
  },
  {
   "cell_type": "code",
   "execution_count": 2,
   "id": "0b0375d9",
   "metadata": {
    "execution": {
     "iopub.execute_input": "2023-09-22T13:43:01.431458Z",
     "iopub.status.busy": "2023-09-22T13:43:01.431171Z",
     "iopub.status.idle": "2023-09-22T13:43:01.523493Z",
     "shell.execute_reply": "2023-09-22T13:43:01.522609Z"
    },
    "papermill": {
     "duration": 0.102762,
     "end_time": "2023-09-22T13:43:01.525662",
     "exception": false,
     "start_time": "2023-09-22T13:43:01.422900",
     "status": "completed"
    },
    "tags": []
   },
   "outputs": [],
   "source": [
    "data = pd.read_csv(\n",
    "    f'{RAW_DATA_DIR}/school-pupils-characteristics/data/spc_pupils_fsm.csv', \n",
    "    usecols=['time_period','region_code', 'new_la_code', 'phase_type_grouping','fsm', 'percent_of_pupils']\n",
    "    )"
   ]
  },
  {
   "cell_type": "code",
   "execution_count": 3,
   "id": "18bb70f0",
   "metadata": {
    "execution": {
     "iopub.execute_input": "2023-09-22T13:43:01.538929Z",
     "iopub.status.busy": "2023-09-22T13:43:01.538014Z",
     "iopub.status.idle": "2023-09-22T13:43:01.558183Z",
     "shell.execute_reply": "2023-09-22T13:43:01.557418Z"
    },
    "papermill": {
     "duration": 0.031733,
     "end_time": "2023-09-22T13:43:01.559713",
     "exception": false,
     "start_time": "2023-09-22T13:43:01.527980",
     "status": "completed"
    },
    "tags": []
   },
   "outputs": [],
   "source": [
    "# only getting data for the 3 northern regions\n",
    "fsm = data.loc[data.region_code.isin(['E12000001', 'E12000002', 'E12000003'])].copy()\n",
    "\n",
    "# renaming columns\n",
    "fsm.rename(columns={'time_period': 'date', 'new_la_code': 'la_code'}, inplace=True)\n",
    "\n",
    "# the geo codes are split into two columns, so reshaping to merge these into one long column.\n",
    "fsm_regions = fsm[(~fsm.region_code.isna()) & (fsm.la_code.isna())].copy()\n",
    "fsm_la = fsm[(~fsm.region_code.isna()) & (~fsm.la_code.isna())].copy()\n",
    "fsm_regions.drop(columns='la_code', inplace=True)\n",
    "fsm_regions.rename(columns={'region_code': 'geography_code'}, inplace=True)\n",
    "fsm_la.drop(columns='region_code', inplace=True)\n",
    "fsm_la.rename(columns={'la_code': 'geography_code'}, inplace=True)\n",
    "fsm = pd.concat([fsm_regions, fsm_la]).set_index('date')\n",
    "fsm = fsm.round(1)\n",
    "\n",
    "# filtering by thismeasure according to gov.uk https://explore-education-statistics.service.gov.uk/methodology/schools-pupils-and-their-characteristics-methodology\n",
    "fsm = fsm.loc[fsm['fsm']=='known to be eligible for free school meals (used for FSM in Performance Tables)']\n",
    "fsm['variable_name'] = 'percent_of_pupils'\n",
    "fsm.rename(columns={'percent_of_pupils': 'value'}, inplace=True)"
   ]
  },
  {
   "cell_type": "code",
   "execution_count": 4,
   "id": "67a8c3ed",
   "metadata": {
    "execution": {
     "iopub.execute_input": "2023-09-22T13:43:01.570575Z",
     "iopub.status.busy": "2023-09-22T13:43:01.569923Z",
     "iopub.status.idle": "2023-09-22T13:43:01.583393Z",
     "shell.execute_reply": "2023-09-22T13:43:01.582775Z"
    },
    "papermill": {
     "duration": 0.023966,
     "end_time": "2023-09-22T13:43:01.585112",
     "exception": false,
     "start_time": "2023-09-22T13:43:01.561146",
     "status": "completed"
    },
    "tags": []
   },
   "outputs": [],
   "source": [
    "# write to file\n",
    "fsm.to_csv(os.path.join(DATA_DIR, 'school-pupils-characteristics/free_school_meals.csv'))"
   ]
  }
 ],
 "metadata": {
  "kernelspec": {
   "display_name": "jrf-insight-o_Bkqbd_",
   "language": "python",
   "name": "python3"
  },
  "language_info": {
   "codemirror_mode": {
    "name": "ipython",
    "version": 3
   },
   "file_extension": ".py",
   "mimetype": "text/x-python",
   "name": "python",
   "nbconvert_exporter": "python",
   "pygments_lexer": "ipython3",
   "version": "3.10.6"
  },
  "papermill": {
   "default_parameters": {},
   "duration": 2.479397,
   "end_time": "2023-09-22T13:43:01.806849",
   "environment_variables": {},
   "exception": null,
   "input_path": "free_school_meals.ipynb",
   "output_path": "../../../data/_working/output/free_school_meals.ipynb",
   "parameters": {},
   "start_time": "2023-09-22T13:42:59.327452",
   "version": "2.4.0"
  }
 },
 "nbformat": 4,
 "nbformat_minor": 5
}