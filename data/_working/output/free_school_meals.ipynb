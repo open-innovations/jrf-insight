{
 "cells": [
  {
   "cell_type": "code",
   "execution_count": 1,
   "id": "86ae93ff",
   "metadata": {
    "execution": {
     "iopub.execute_input": "2023-09-22T09:24:25.676144Z",
     "iopub.status.busy": "2023-09-22T09:24:25.675956Z",
     "iopub.status.idle": "2023-09-22T09:24:27.672450Z",
     "shell.execute_reply": "2023-09-22T09:24:27.671621Z"
    },
    "papermill": {
     "duration": 2.001034,
     "end_time": "2023-09-22T09:24:27.674234",
     "exception": false,
     "start_time": "2023-09-22T09:24:25.673200",
     "status": "completed"
    },
    "tags": []
   },
   "outputs": [],
   "source": [
    "import os\n",
    "import pandas as pd\n",
    "TOP_DIR = '../../..'\n",
    "RAW_DATA_DIR = f'{TOP_DIR}/data-raw'\n",
    "DATA_DIR = f'{TOP_DIR}/data'"
   ]
  },
  {
   "cell_type": "code",
   "execution_count": 2,
   "id": "1de6f41c",
   "metadata": {
    "execution": {
     "iopub.execute_input": "2023-09-22T09:24:27.682642Z",
     "iopub.status.busy": "2023-09-22T09:24:27.682356Z",
     "iopub.status.idle": "2023-09-22T09:24:27.701015Z",
     "shell.execute_reply": "2023-09-22T09:24:27.700229Z"
    },
    "papermill": {
     "duration": 0.02671,
     "end_time": "2023-09-22T09:24:27.702612",
     "exception": false,
     "start_time": "2023-09-22T09:24:27.675902",
     "status": "completed"
    },
    "tags": []
   },
   "outputs": [],
   "source": [
    "data = pd.read_csv(f'{RAW_DATA_DIR}/free-school-meals/data/fsm_time_series.csv', usecols=['time_period','region_code','new_la_code', 'phase','fsm_eligible_percent'])"
   ]
  },
  {
   "cell_type": "code",
   "execution_count": 3,
   "id": "8d3b719c",
   "metadata": {
    "execution": {
     "iopub.execute_input": "2023-09-22T09:24:27.710857Z",
     "iopub.status.busy": "2023-09-22T09:24:27.710395Z",
     "iopub.status.idle": "2023-09-22T09:24:27.728749Z",
     "shell.execute_reply": "2023-09-22T09:24:27.727802Z"
    },
    "papermill": {
     "duration": 0.026579,
     "end_time": "2023-09-22T09:24:27.730447",
     "exception": false,
     "start_time": "2023-09-22T09:24:27.703868",
     "status": "completed"
    },
    "tags": []
   },
   "outputs": [],
   "source": [
    "# only getting data for the 3 northern regions\n",
    "fsm = data.loc[data.region_code.isin(['E12000001', 'E12000002', 'E12000003'])].copy()\n",
    "\n",
    "# renaming columns\n",
    "fsm.rename(columns={'time_period': 'date', 'new_la_code': 'la_code'}, inplace=True)\n",
    "\n",
    "# the geo codes are split into two columns, so reshaping to merge these into one long column.\n",
    "fsm_regions = fsm[(~fsm.region_code.isna()) & (fsm.la_code.isna())].copy()\n",
    "fsm_la = fsm[(~fsm.region_code.isna()) & (~fsm.la_code.isna())].copy()\n",
    "fsm_regions.drop(columns='la_code', inplace=True)\n",
    "fsm_regions.rename(columns={'region_code': 'geography_code'}, inplace=True)\n",
    "fsm_la.drop(columns='region_code', inplace=True)\n",
    "fsm_la.rename(columns={'la_code': 'geography_code'}, inplace=True)\n",
    "fsm = pd.concat([fsm_regions, fsm_la]).set_index('date')\n",
    "fsm = fsm.round(1)\n",
    "#fsm.drop(fsm[(~fsm.date == 202021) & (fsm.phase == 'Special school')].index, inplace=True)"
   ]
  },
  {
   "cell_type": "code",
   "execution_count": 4,
   "id": "8b369238",
   "metadata": {
    "execution": {
     "iopub.execute_input": "2023-09-22T09:24:27.738706Z",
     "iopub.status.busy": "2023-09-22T09:24:27.738509Z",
     "iopub.status.idle": "2023-09-22T09:24:27.752017Z",
     "shell.execute_reply": "2023-09-22T09:24:27.751279Z"
    },
    "papermill": {
     "duration": 0.021793,
     "end_time": "2023-09-22T09:24:27.753580",
     "exception": false,
     "start_time": "2023-09-22T09:24:27.731787",
     "status": "completed"
    },
    "tags": []
   },
   "outputs": [],
   "source": [
    "# write to file\n",
    "fsm.to_csv(os.path.join(DATA_DIR, 'fsm/free_school_meals.csv'))"
   ]
  }
 ],
 "metadata": {
  "kernelspec": {
   "display_name": "jrf-insight-o_Bkqbd_",
   "language": "python",
   "name": "python3"
  },
  "language_info": {
   "codemirror_mode": {
    "name": "ipython",
    "version": 3
   },
   "file_extension": ".py",
   "mimetype": "text/x-python",
   "name": "python",
   "nbconvert_exporter": "python",
   "pygments_lexer": "ipython3",
   "version": "3.10.6"
  },
  "papermill": {
   "default_parameters": {},
   "duration": 6.462145,
   "end_time": "2023-09-22T09:24:27.974241",
   "environment_variables": {},
   "exception": null,
   "input_path": "free_school_meals.ipynb",
   "output_path": "../../../data/_working/output/free_school_meals.ipynb",
   "parameters": {},
   "start_time": "2023-09-22T09:24:21.512096",
   "version": "2.4.0"
  }
 },
 "nbformat": 4,
 "nbformat_minor": 5
}