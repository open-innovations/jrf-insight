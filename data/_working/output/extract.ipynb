{
 "cells": [
  {
   "cell_type": "code",
   "execution_count": 1,
   "id": "2ef5bd5f",
   "metadata": {
    "execution": {
     "iopub.execute_input": "2023-10-23T11:34:57.203274Z",
     "iopub.status.busy": "2023-10-23T11:34:57.203078Z",
     "iopub.status.idle": "2023-10-23T11:34:57.258388Z",
     "shell.execute_reply": "2023-10-23T11:34:57.258023Z"
    },
    "papermill": {
     "duration": 0.058018,
     "end_time": "2023-10-23T11:34:57.259458",
     "exception": false,
     "start_time": "2023-10-23T11:34:57.201440",
     "status": "completed"
    },
    "tags": []
   },
   "outputs": [],
   "source": [
    "import re\n",
    "import requests\n",
    "from bs4 import BeautifulSoup"
   ]
  },
  {
   "cell_type": "code",
   "execution_count": 2,
   "id": "36616e7a",
   "metadata": {
    "execution": {
     "iopub.execute_input": "2023-10-23T11:34:57.261951Z",
     "iopub.status.busy": "2023-10-23T11:34:57.261762Z",
     "iopub.status.idle": "2023-10-23T11:35:06.139821Z",
     "shell.execute_reply": "2023-10-23T11:35:06.138418Z"
    },
    "papermill": {
     "duration": 8.883205,
     "end_time": "2023-10-23T11:35:06.143606",
     "exception": false,
     "start_time": "2023-10-23T11:34:57.260401",
     "status": "completed"
    },
    "tags": []
   },
   "outputs": [],
   "source": [
    "r = requests.get(\"https://explore-education-statistics.service.gov.uk/find-statistics/school-pupils-and-their-characteristics\")"
   ]
  },
  {
   "cell_type": "code",
   "execution_count": 3,
   "id": "54e0b369",
   "metadata": {
    "execution": {
     "iopub.execute_input": "2023-10-23T11:35:06.152756Z",
     "iopub.status.busy": "2023-10-23T11:35:06.152214Z",
     "iopub.status.idle": "2023-10-23T11:35:06.186800Z",
     "shell.execute_reply": "2023-10-23T11:35:06.186328Z"
    },
    "papermill": {
     "duration": 0.040599,
     "end_time": "2023-10-23T11:35:06.187863",
     "exception": false,
     "start_time": "2023-10-23T11:35:06.147264",
     "status": "completed"
    },
    "tags": []
   },
   "outputs": [],
   "source": [
    "soup = BeautifulSoup(r.text)"
   ]
  },
  {
   "cell_type": "code",
   "execution_count": 4,
   "id": "8edf46eb",
   "metadata": {
    "execution": {
     "iopub.execute_input": "2023-10-23T11:35:06.191267Z",
     "iopub.status.busy": "2023-10-23T11:35:06.191014Z",
     "iopub.status.idle": "2023-10-23T11:35:06.199445Z",
     "shell.execute_reply": "2023-10-23T11:35:06.198604Z"
    },
    "papermill": {
     "duration": 0.012687,
     "end_time": "2023-10-23T11:35:06.201632",
     "exception": false,
     "start_time": "2023-10-23T11:35:06.188945",
     "status": "completed"
    },
    "tags": []
   },
   "outputs": [
    {
     "data": {
      "text/plain": [
       "'https://content.explore-education-statistics.service.gov.uk/api/releases/4e902dd4-cbd2-4b3f-b798-4b4f163f5ac8/files'"
      ]
     },
     "execution_count": 4,
     "metadata": {},
     "output_type": "execute_result"
    }
   ],
   "source": [
    "link = soup.find('a', string=re.compile(r'^Download all data'))['href']\n",
    "link"
   ]
  },
  {
   "cell_type": "code",
   "execution_count": 5,
   "id": "c4368b89",
   "metadata": {
    "execution": {
     "iopub.execute_input": "2023-10-23T11:35:06.205785Z",
     "iopub.status.busy": "2023-10-23T11:35:06.205611Z",
     "iopub.status.idle": "2023-10-23T11:35:14.216816Z",
     "shell.execute_reply": "2023-10-23T11:35:14.216323Z"
    },
    "papermill": {
     "duration": 8.014369,
     "end_time": "2023-10-23T11:35:14.217812",
     "exception": false,
     "start_time": "2023-10-23T11:35:06.203443",
     "status": "completed"
    },
    "tags": []
   },
   "outputs": [],
   "source": [
    "r = requests.get(link)\n",
    "with open('../../data-raw/school-pupils-characteristics/school-pupils-and-their-characteristics.zip', 'wb') as f:\n",
    "    f.write(r.content)"
   ]
  }
 ],
 "metadata": {
  "kernelspec": {
   "display_name": "jrf-insight-VA15kXRI",
   "language": "python",
   "name": "python3"
  },
  "language_info": {
   "codemirror_mode": {
    "name": "ipython",
    "version": 3
   },
   "file_extension": ".py",
   "mimetype": "text/x-python",
   "name": "python",
   "nbconvert_exporter": "python",
   "pygments_lexer": "ipython3",
   "version": "3.10.12"
  },
  "papermill": {
   "default_parameters": {},
   "duration": 17.841385,
   "end_time": "2023-10-23T11:35:14.333640",
   "environment_variables": {},
   "exception": null,
   "input_path": "extract.ipynb",
   "output_path": "../../data/_working/output/extract.ipynb",
   "parameters": {},
   "start_time": "2023-10-23T11:34:56.492255",
   "version": "2.4.0"
  }
 },
 "nbformat": 4,
 "nbformat_minor": 5
}