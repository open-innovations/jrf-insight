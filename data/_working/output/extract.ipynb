{
 "cells": [
  {
   "cell_type": "code",
   "execution_count": 1,
   "id": "c46aa5d1",
   "metadata": {
    "execution": {
     "iopub.execute_input": "2023-10-23T11:45:57.789900Z",
     "iopub.status.busy": "2023-10-23T11:45:57.788953Z",
     "iopub.status.idle": "2023-10-23T11:45:57.934369Z",
     "shell.execute_reply": "2023-10-23T11:45:57.933428Z"
    },
    "papermill": {
     "duration": 0.152397,
     "end_time": "2023-10-23T11:45:57.937357",
     "exception": false,
     "start_time": "2023-10-23T11:45:57.784960",
     "status": "completed"
    },
    "tags": []
   },
   "outputs": [],
   "source": [
    "import re\n",
    "import requests\n",
    "from bs4 import BeautifulSoup"
   ]
  },
  {
   "cell_type": "code",
   "execution_count": 2,
   "id": "b82f76fb",
   "metadata": {
    "execution": {
     "iopub.execute_input": "2023-10-23T11:45:57.942981Z",
     "iopub.status.busy": "2023-10-23T11:45:57.942202Z",
     "iopub.status.idle": "2023-10-23T11:45:58.647494Z",
     "shell.execute_reply": "2023-10-23T11:45:58.646394Z"
    },
    "papermill": {
     "duration": 0.710293,
     "end_time": "2023-10-23T11:45:58.649714",
     "exception": false,
     "start_time": "2023-10-23T11:45:57.939421",
     "status": "completed"
    },
    "tags": []
   },
   "outputs": [],
   "source": [
    "r = requests.get(\"https://explore-education-statistics.service.gov.uk/find-statistics/school-pupils-and-their-characteristics\")"
   ]
  },
  {
   "cell_type": "code",
   "execution_count": 3,
   "id": "f82e2c58",
   "metadata": {
    "execution": {
     "iopub.execute_input": "2023-10-23T11:45:58.655922Z",
     "iopub.status.busy": "2023-10-23T11:45:58.655170Z",
     "iopub.status.idle": "2023-10-23T11:45:58.689459Z",
     "shell.execute_reply": "2023-10-23T11:45:58.688560Z"
    },
    "papermill": {
     "duration": 0.040489,
     "end_time": "2023-10-23T11:45:58.692208",
     "exception": false,
     "start_time": "2023-10-23T11:45:58.651719",
     "status": "completed"
    },
    "tags": []
   },
   "outputs": [],
   "source": [
    "soup = BeautifulSoup(r.text)"
   ]
  },
  {
   "cell_type": "code",
   "execution_count": 4,
   "id": "12d34742",
   "metadata": {
    "execution": {
     "iopub.execute_input": "2023-10-23T11:45:58.697833Z",
     "iopub.status.busy": "2023-10-23T11:45:58.697030Z",
     "iopub.status.idle": "2023-10-23T11:45:58.706055Z",
     "shell.execute_reply": "2023-10-23T11:45:58.705392Z"
    },
    "papermill": {
     "duration": 0.014088,
     "end_time": "2023-10-23T11:45:58.708183",
     "exception": false,
     "start_time": "2023-10-23T11:45:58.694095",
     "status": "completed"
    },
    "tags": []
   },
   "outputs": [
    {
     "data": {
      "text/plain": [
       "'https://content.explore-education-statistics.service.gov.uk/api/releases/4e902dd4-cbd2-4b3f-b798-4b4f163f5ac8/files'"
      ]
     },
     "execution_count": 4,
     "metadata": {},
     "output_type": "execute_result"
    }
   ],
   "source": [
    "link = soup.find('a', string=re.compile(r'^Download all data'))['href']\n",
    "link"
   ]
  },
  {
   "cell_type": "code",
   "execution_count": 5,
   "id": "9461c148",
   "metadata": {
    "execution": {
     "iopub.execute_input": "2023-10-23T11:45:58.713660Z",
     "iopub.status.busy": "2023-10-23T11:45:58.713036Z",
     "iopub.status.idle": "2023-10-23T11:46:01.446321Z",
     "shell.execute_reply": "2023-10-23T11:46:01.445344Z"
    },
    "papermill": {
     "duration": 2.738503,
     "end_time": "2023-10-23T11:46:01.448619",
     "exception": false,
     "start_time": "2023-10-23T11:45:58.710116",
     "status": "completed"
    },
    "tags": []
   },
   "outputs": [],
   "source": [
    "r = requests.get(link)\n",
    "with open('../../data-raw/school-pupils-characteristics/school-pupils-and-their-characteristics.zip', 'wb') as f:\n",
    "    f.write(r.content)"
   ]
  }
 ],
 "metadata": {
  "kernelspec": {
   "display_name": "jrf-insight-VA15kXRI",
   "language": "python",
   "name": "python3"
  },
  "language_info": {
   "codemirror_mode": {
    "name": "ipython",
    "version": 3
   },
   "file_extension": ".py",
   "mimetype": "text/x-python",
   "name": "python",
   "nbconvert_exporter": "python",
   "pygments_lexer": "ipython3",
   "version": "3.10.13"
  },
  "papermill": {
   "default_parameters": {},
   "duration": 5.471255,
   "end_time": "2023-10-23T11:46:01.669299",
   "environment_variables": {},
   "exception": null,
   "input_path": "extract.ipynb",
   "output_path": "../../data/_working/output/extract.ipynb",
   "parameters": {},
   "start_time": "2023-10-23T11:45:56.198044",
   "version": "2.4.0"
  }
 },
 "nbformat": 4,
 "nbformat_minor": 5
}