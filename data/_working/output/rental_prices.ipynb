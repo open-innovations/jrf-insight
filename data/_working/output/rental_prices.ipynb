{
 "cells": [
  {
   "cell_type": "code",
   "execution_count": 1,
   "id": "4634e9c7",
   "metadata": {
    "execution": {
     "iopub.execute_input": "2023-11-20T10:01:58.715638Z",
     "iopub.status.busy": "2023-11-20T10:01:58.715460Z",
     "iopub.status.idle": "2023-11-20T10:01:58.934705Z",
     "shell.execute_reply": "2023-11-20T10:01:58.934231Z"
    },
    "papermill": {
     "duration": 0.223144,
     "end_time": "2023-11-20T10:01:58.935777",
     "exception": false,
     "start_time": "2023-11-20T10:01:58.712633",
     "status": "completed"
    },
    "tags": []
   },
   "outputs": [],
   "source": [
    "import os\n",
    "import pandas as pd\n",
    "\n",
    "from params import *"
   ]
  },
  {
   "cell_type": "code",
   "execution_count": 2,
   "id": "309e8366",
   "metadata": {
    "execution": {
     "iopub.execute_input": "2023-11-20T10:01:58.939599Z",
     "iopub.status.busy": "2023-11-20T10:01:58.939338Z",
     "iopub.status.idle": "2023-11-20T10:01:59.019866Z",
     "shell.execute_reply": "2023-11-20T10:01:59.019464Z"
    },
    "papermill": {
     "duration": 0.084145,
     "end_time": "2023-11-20T10:01:59.020906",
     "exception": false,
     "start_time": "2023-11-20T10:01:58.936761",
     "status": "completed"
    },
    "tags": []
   },
   "outputs": [],
   "source": [
    "rental_prices = pd.read_csv(f'{DATA_DIR}/rental-prices/rental-prices.csv')\n",
    "rental_prices['date'] = rental_prices.date.str[:4].pipe(pd.to_datetime)\n",
    "rental_prices = rental_prices[rental_prices.variable_code == 'Mean']\n",
    "rental_prices = rental_prices.loc[rental_prices.groupby(['geography_code', 'property_name'])['date'].idxmax()]\n",
    "\n",
    "# rental_prices_pivot = rental_prices.pivot(index='property_code', columns='geography_code', values='value')\n",
    "# # TODO fix missing data Ticket #67\n",
    "# rental_prices_pivot.fillna(0).to_csv(os.path.join(DATA_DIR, 'rental-prices/most_recent_rental_prices.csv'))"
   ]
  },
  {
   "cell_type": "code",
   "execution_count": null,
   "id": "90ad1238",
   "metadata": {
    "papermill": {
     "duration": 0.022435,
     "end_time": "2023-11-20T10:01:59.044144",
     "exception": false,
     "start_time": "2023-11-20T10:01:59.021709",
     "status": "completed"
    },
    "tags": []
   },
   "outputs": [],
   "source": []
  },
  {
   "cell_type": "code",
   "execution_count": 3,
   "id": "261b8f44",
   "metadata": {
    "execution": {
     "iopub.execute_input": "2023-11-20T10:01:59.063335Z",
     "iopub.status.busy": "2023-11-20T10:01:59.063128Z",
     "iopub.status.idle": "2023-11-20T10:01:59.065581Z",
     "shell.execute_reply": "2023-11-20T10:01:59.065201Z"
    },
    "papermill": {
     "duration": 0.005455,
     "end_time": "2023-11-20T10:01:59.066354",
     "exception": false,
     "start_time": "2023-11-20T10:01:59.060899",
     "status": "completed"
    },
    "tags": []
   },
   "outputs": [],
   "source": [
    "PARQUET_FILE = '../../../data-mart/rental-prices/most_recent_rental_prices.parquet'\n",
    "os.makedirs(os.path.dirname(PARQUET_FILE), exist_ok=True)"
   ]
  },
  {
   "cell_type": "code",
   "execution_count": 4,
   "id": "b5fd2097",
   "metadata": {
    "execution": {
     "iopub.execute_input": "2023-11-20T10:01:59.079709Z",
     "iopub.status.busy": "2023-11-20T10:01:59.079545Z",
     "iopub.status.idle": "2023-11-20T10:01:59.093812Z",
     "shell.execute_reply": "2023-11-20T10:01:59.093479Z"
    },
    "papermill": {
     "duration": 0.027932,
     "end_time": "2023-11-20T10:01:59.095088",
     "exception": false,
     "start_time": "2023-11-20T10:01:59.067156",
     "status": "completed"
    },
    "tags": []
   },
   "outputs": [],
   "source": [
    "rental_prices.loc[:, ['geography_code', 'property_code', 'value']].set_index(['geography_code', 'property_code']).to_parquet(PARQUET_FILE)"
   ]
  },
  {
   "cell_type": "code",
   "execution_count": null,
   "id": "dfe4ee0e",
   "metadata": {
    "papermill": {
     "duration": 0.039371,
     "end_time": "2023-11-20T10:01:59.135729",
     "exception": false,
     "start_time": "2023-11-20T10:01:59.096358",
     "status": "completed"
    },
    "tags": []
   },
   "outputs": [],
   "source": []
  }
 ],
 "metadata": {
  "kernelspec": {
   "display_name": "Python 3",
   "language": "python",
   "name": "python3"
  },
  "language_info": {
   "codemirror_mode": {
    "name": "ipython",
    "version": 3
   },
   "file_extension": ".py",
   "mimetype": "text/x-python",
   "name": "python",
   "nbconvert_exporter": "python",
   "pygments_lexer": "ipython3",
   "version": "3.10.12"
  },
  "papermill": {
   "default_parameters": {},
   "duration": 1.386865,
   "end_time": "2023-11-20T10:01:59.367379",
   "environment_variables": {},
   "exception": null,
   "input_path": "rental_prices.ipynb",
   "output_path": "../../../data/_working/output/rental_prices.ipynb",
   "parameters": {},
   "start_time": "2023-11-20T10:01:57.980514",
   "version": "2.4.0"
  }
 },
 "nbformat": 4,
 "nbformat_minor": 5
}