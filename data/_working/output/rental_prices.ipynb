{
 "cells": [
  {
   "cell_type": "code",
   "execution_count": 1,
   "id": "b6428bc4",
   "metadata": {
    "execution": {
     "iopub.execute_input": "2023-09-25T14:09:51.767153Z",
     "iopub.status.busy": "2023-09-25T14:09:51.766823Z",
     "iopub.status.idle": "2023-09-25T14:09:54.308492Z",
     "shell.execute_reply": "2023-09-25T14:09:54.307240Z"
    },
    "papermill": {
     "duration": 2.54793,
     "end_time": "2023-09-25T14:09:54.310514",
     "exception": false,
     "start_time": "2023-09-25T14:09:51.762584",
     "status": "completed"
    },
    "tags": []
   },
   "outputs": [],
   "source": [
    "import os\n",
    "import pandas as pd\n",
    "TOP_DIR = '../../..'\n",
    "RAW_DATA_DIR = f'{TOP_DIR}/data-raw'\n",
    "DATA_DIR = f'{TOP_DIR}/data'"
   ]
  },
  {
   "cell_type": "code",
   "execution_count": 2,
   "id": "92e09005",
   "metadata": {
    "execution": {
     "iopub.execute_input": "2023-09-25T14:09:54.321088Z",
     "iopub.status.busy": "2023-09-25T14:09:54.320721Z",
     "iopub.status.idle": "2023-09-25T14:09:54.494919Z",
     "shell.execute_reply": "2023-09-25T14:09:54.494248Z"
    },
    "papermill": {
     "duration": 0.184298,
     "end_time": "2023-09-25T14:09:54.497090",
     "exception": false,
     "start_time": "2023-09-25T14:09:54.312792",
     "status": "completed"
    },
    "tags": []
   },
   "outputs": [],
   "source": [
    "rental_prices = pd.read_csv(f'{DATA_DIR}/rental-prices/rental-prices.csv')\n",
    "rental_prices['date'] = pd.to_numeric(rental_prices['date'].str[:4])\n",
    "rental_prices = rental_prices[rental_prices.variable_code == 'Mean']\n",
    "rental_prices = rental_prices.loc[rental_prices.groupby(['geography_code', 'property_name'])['date'].idxmax()]\n",
    "\n",
    "rental_prices_pivot = rental_prices.pivot(index='property_code', columns='geography_code', values='value')\n",
    "# TODO fix missing data Ticket #67\n",
    "rental_prices_pivot.fillna(0).to_csv(os.path.join(DATA_DIR, 'rental-prices/most_recent_rental_prices.csv'))"
   ]
  },
  {
   "cell_type": "code",
   "execution_count": null,
   "id": "52a59fa8",
   "metadata": {
    "papermill": {
     "duration": 0.006979,
     "end_time": "2023-09-25T14:09:54.505889",
     "exception": false,
     "start_time": "2023-09-25T14:09:54.498910",
     "status": "completed"
    },
    "tags": []
   },
   "outputs": [],
   "source": []
  }
 ],
 "metadata": {
  "kernelspec": {
   "display_name": "Python 3",
   "language": "python",
   "name": "python3"
  },
  "language_info": {
   "codemirror_mode": {
    "name": "ipython",
    "version": 3
   },
   "file_extension": ".py",
   "mimetype": "text/x-python",
   "name": "python",
   "nbconvert_exporter": "python",
   "pygments_lexer": "ipython3",
   "version": "3.10.6"
  },
  "papermill": {
   "default_parameters": {},
   "duration": 8.053325,
   "end_time": "2023-09-25T14:09:54.734333",
   "environment_variables": {},
   "exception": null,
   "input_path": "rental_prices.ipynb",
   "output_path": "../../../data/_working/output/rental_prices.ipynb",
   "parameters": {},
   "start_time": "2023-09-25T14:09:46.681008",
   "version": "2.4.0"
  }
 },
 "nbformat": 4,
 "nbformat_minor": 5
}