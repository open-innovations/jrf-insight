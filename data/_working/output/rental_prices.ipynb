{
 "cells": [
  {
   "cell_type": "code",
   "execution_count": 1,
   "id": "399a8b65",
   "metadata": {
    "execution": {
     "iopub.execute_input": "2023-10-03T10:42:31.677831Z",
     "iopub.status.busy": "2023-10-03T10:42:31.676436Z",
     "iopub.status.idle": "2023-10-03T10:42:32.060832Z",
     "shell.execute_reply": "2023-10-03T10:42:32.060080Z"
    },
    "papermill": {
     "duration": 0.395461,
     "end_time": "2023-10-03T10:42:32.062399",
     "exception": false,
     "start_time": "2023-10-03T10:42:31.666938",
     "status": "completed"
    },
    "tags": []
   },
   "outputs": [],
   "source": [
    "import os\n",
    "import pandas as pd\n",
    "TOP_DIR = '../../..'\n",
    "RAW_DATA_DIR = f'{TOP_DIR}/data-raw'\n",
    "DATA_DIR = f'{TOP_DIR}/data'"
   ]
  },
  {
   "cell_type": "code",
   "execution_count": 2,
   "id": "8a2b2657",
   "metadata": {
    "execution": {
     "iopub.execute_input": "2023-10-03T10:42:32.070133Z",
     "iopub.status.busy": "2023-10-03T10:42:32.069884Z",
     "iopub.status.idle": "2023-10-03T10:42:32.220124Z",
     "shell.execute_reply": "2023-10-03T10:42:32.219464Z"
    },
    "papermill": {
     "duration": 0.157936,
     "end_time": "2023-10-03T10:42:32.221740",
     "exception": false,
     "start_time": "2023-10-03T10:42:32.063804",
     "status": "completed"
    },
    "tags": []
   },
   "outputs": [],
   "source": [
    "rental_prices = pd.read_csv(f'{DATA_DIR}/rental-prices/rental-prices.csv')\n",
    "rental_prices['date'] = pd.to_numeric(rental_prices['date'].str[:4])\n",
    "rental_prices = rental_prices[rental_prices.variable_code == 'Mean']\n",
    "rental_prices = rental_prices.loc[rental_prices.groupby(['geography_code', 'property_name'])['date'].idxmax()]\n",
    "\n",
    "rental_prices_pivot = rental_prices.pivot(index='property_code', columns='geography_code', values='value')\n",
    "# TODO fix missing data Ticket #67\n",
    "rental_prices_pivot.fillna(0).to_csv(os.path.join(DATA_DIR, 'rental-prices/most_recent_rental_prices.csv'))"
   ]
  },
  {
   "cell_type": "code",
   "execution_count": null,
   "id": "e9803077",
   "metadata": {
    "papermill": {
     "duration": 0.006306,
     "end_time": "2023-10-03T10:42:32.229427",
     "exception": false,
     "start_time": "2023-10-03T10:42:32.223121",
     "status": "completed"
    },
    "tags": []
   },
   "outputs": [],
   "source": []
  }
 ],
 "metadata": {
  "kernelspec": {
   "display_name": "Python 3",
   "language": "python",
   "name": "python3"
  },
  "language_info": {
   "codemirror_mode": {
    "name": "ipython",
    "version": 3
   },
   "file_extension": ".py",
   "mimetype": "text/x-python",
   "name": "python",
   "nbconvert_exporter": "python",
   "pygments_lexer": "ipython3",
   "version": "3.10.12"
  },
  "papermill": {
   "default_parameters": {},
   "duration": 2.370857,
   "end_time": "2023-10-03T10:42:32.456308",
   "environment_variables": {},
   "exception": null,
   "input_path": "rental_prices.ipynb",
   "output_path": "../../../data/_working/output/rental_prices.ipynb",
   "parameters": {},
   "start_time": "2023-10-03T10:42:30.085451",
   "version": "2.4.0"
  }
 },
 "nbformat": 4,
 "nbformat_minor": 5
}