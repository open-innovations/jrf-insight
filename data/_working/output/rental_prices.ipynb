{
 "cells": [
  {
   "cell_type": "code",
   "execution_count": 1,
   "id": "1d29b703",
   "metadata": {
    "execution": {
     "iopub.execute_input": "2023-10-03T15:41:38.966850Z",
     "iopub.status.busy": "2023-10-03T15:41:38.966627Z",
     "iopub.status.idle": "2023-10-03T15:41:39.327312Z",
     "shell.execute_reply": "2023-10-03T15:41:39.326392Z"
    },
    "papermill": {
     "duration": 0.36501,
     "end_time": "2023-10-03T15:41:39.329019",
     "exception": false,
     "start_time": "2023-10-03T15:41:38.964009",
     "status": "completed"
    },
    "tags": []
   },
   "outputs": [],
   "source": [
    "from params import *"
   ]
  },
  {
   "cell_type": "code",
   "execution_count": 2,
   "id": "84b138ff",
   "metadata": {
    "execution": {
     "iopub.execute_input": "2023-10-03T15:41:39.337239Z",
     "iopub.status.busy": "2023-10-03T15:41:39.336907Z",
     "iopub.status.idle": "2023-10-03T15:41:39.450456Z",
     "shell.execute_reply": "2023-10-03T15:41:39.449797Z"
    },
    "papermill": {
     "duration": 0.121648,
     "end_time": "2023-10-03T15:41:39.452048",
     "exception": false,
     "start_time": "2023-10-03T15:41:39.330400",
     "status": "completed"
    },
    "tags": []
   },
   "outputs": [],
   "source": [
    "rental_prices = pd.read_csv(f'{DATA_DIR}/rental-prices/rental-prices.csv')\n",
    "rental_prices['date'] = pd.to_numeric(rental_prices['date'].str[:4])\n",
    "rental_prices = rental_prices[rental_prices.variable_code == 'Mean']\n",
    "rental_prices = rental_prices.loc[rental_prices.groupby(['geography_code', 'property_name'])['date'].idxmax()]\n",
    "\n",
    "rental_prices_pivot = rental_prices.pivot(index='property_code', columns='geography_code', values='value')\n",
    "# TODO fix missing data Ticket #67\n",
    "rental_prices_pivot.fillna(0).to_csv(os.path.join(DATA_DIR, 'rental-prices/most_recent_rental_prices.csv'))"
   ]
  },
  {
   "cell_type": "code",
   "execution_count": null,
   "id": "fa05d14b",
   "metadata": {
    "papermill": {
     "duration": 0.00503,
     "end_time": "2023-10-03T15:41:39.458467",
     "exception": false,
     "start_time": "2023-10-03T15:41:39.453437",
     "status": "completed"
    },
    "tags": []
   },
   "outputs": [],
   "source": []
  }
 ],
 "metadata": {
  "kernelspec": {
   "display_name": "Python 3",
   "language": "python",
   "name": "python3"
  },
  "language_info": {
   "codemirror_mode": {
    "name": "ipython",
    "version": 3
   },
   "file_extension": ".py",
   "mimetype": "text/x-python",
   "name": "python",
   "nbconvert_exporter": "python",
   "pygments_lexer": "ipython3",
   "version": "3.10.12"
  },
  "papermill": {
   "default_parameters": {},
   "duration": 1.985473,
   "end_time": "2023-10-03T15:41:39.683238",
   "environment_variables": {},
   "exception": null,
   "input_path": "rental_prices.ipynb",
   "output_path": "../../../data/_working/output/rental_prices.ipynb",
   "parameters": {},
   "start_time": "2023-10-03T15:41:37.697765",
   "version": "2.4.0"
  }
 },
 "nbformat": 4,
 "nbformat_minor": 5
}