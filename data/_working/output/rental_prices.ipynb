{
 "cells": [
  {
   "cell_type": "code",
   "execution_count": 1,
   "id": "59c586cf",
   "metadata": {
    "execution": {
     "iopub.execute_input": "2023-11-07T17:02:43.802920Z",
     "iopub.status.busy": "2023-11-07T17:02:43.802732Z",
     "iopub.status.idle": "2023-11-07T17:02:44.034813Z",
     "shell.execute_reply": "2023-11-07T17:02:44.034401Z"
    },
    "papermill": {
     "duration": 0.235235,
     "end_time": "2023-11-07T17:02:44.036119",
     "exception": false,
     "start_time": "2023-11-07T17:02:43.800884",
     "status": "completed"
    },
    "tags": []
   },
   "outputs": [],
   "source": [
    "import os\n",
    "import pandas as pd\n",
    "\n",
    "from params import *"
   ]
  },
  {
   "cell_type": "code",
   "execution_count": 2,
   "id": "f34dce8d",
   "metadata": {
    "execution": {
     "iopub.execute_input": "2023-11-07T17:02:44.038856Z",
     "iopub.status.busy": "2023-11-07T17:02:44.038534Z",
     "iopub.status.idle": "2023-11-07T17:02:44.089988Z",
     "shell.execute_reply": "2023-11-07T17:02:44.089632Z"
    },
    "papermill": {
     "duration": 0.053917,
     "end_time": "2023-11-07T17:02:44.090971",
     "exception": false,
     "start_time": "2023-11-07T17:02:44.037054",
     "status": "completed"
    },
    "tags": []
   },
   "outputs": [],
   "source": [
    "rental_prices = pd.read_csv(f'{DATA_DIR}/rental-prices/rental-prices.csv')\n",
    "rental_prices['date'] = pd.to_numeric(rental_prices['date'].str[:4])\n",
    "rental_prices = rental_prices[rental_prices.variable_code == 'Mean']\n",
    "rental_prices = rental_prices.loc[rental_prices.groupby(['geography_code', 'property_name'])['date'].idxmax()]\n",
    "\n",
    "# rental_prices_pivot = rental_prices.pivot(index='property_code', columns='geography_code', values='value')\n",
    "# # TODO fix missing data Ticket #67\n",
    "# rental_prices_pivot.fillna(0).to_csv(os.path.join(DATA_DIR, 'rental-prices/most_recent_rental_prices.csv'))"
   ]
  },
  {
   "cell_type": "code",
   "execution_count": 3,
   "id": "6a644842",
   "metadata": {
    "execution": {
     "iopub.execute_input": "2023-11-07T17:02:44.092939Z",
     "iopub.status.busy": "2023-11-07T17:02:44.092769Z",
     "iopub.status.idle": "2023-11-07T17:02:44.094818Z",
     "shell.execute_reply": "2023-11-07T17:02:44.094495Z"
    },
    "papermill": {
     "duration": 0.003915,
     "end_time": "2023-11-07T17:02:44.095573",
     "exception": false,
     "start_time": "2023-11-07T17:02:44.091658",
     "status": "completed"
    },
    "tags": []
   },
   "outputs": [],
   "source": [
    "PARQUET_FILE = '../../../data-mart/rental-prices/most_recent_rental_prices.parquet'\n",
    "os.makedirs(os.path.dirname(PARQUET_FILE), exist_ok=True)"
   ]
  },
  {
   "cell_type": "code",
   "execution_count": 4,
   "id": "ae94ee1f",
   "metadata": {
    "execution": {
     "iopub.execute_input": "2023-11-07T17:02:44.097612Z",
     "iopub.status.busy": "2023-11-07T17:02:44.097413Z",
     "iopub.status.idle": "2023-11-07T17:02:44.112456Z",
     "shell.execute_reply": "2023-11-07T17:02:44.112089Z"
    },
    "papermill": {
     "duration": 0.01721,
     "end_time": "2023-11-07T17:02:44.113469",
     "exception": false,
     "start_time": "2023-11-07T17:02:44.096259",
     "status": "completed"
    },
    "tags": []
   },
   "outputs": [],
   "source": [
    "rental_prices.loc[:, ['geography_code', 'property_code', 'value']].set_index(['geography_code', 'property_code']).to_parquet(PARQUET_FILE)"
   ]
  }
 ],
 "metadata": {
  "kernelspec": {
   "display_name": "Python 3",
   "language": "python",
   "name": "python3"
  },
  "language_info": {
   "codemirror_mode": {
    "name": "ipython",
    "version": 3
   },
   "file_extension": ".py",
   "mimetype": "text/x-python",
   "name": "python",
   "nbconvert_exporter": "python",
   "pygments_lexer": "ipython3",
   "version": "3.10.12"
  },
  "papermill": {
   "default_parameters": {},
   "duration": 1.238198,
   "end_time": "2023-11-07T17:02:44.328957",
   "environment_variables": {},
   "exception": null,
   "input_path": "rental_prices.ipynb",
   "output_path": "../../../data/_working/output/rental_prices.ipynb",
   "parameters": {},
   "start_time": "2023-11-07T17:02:43.090759",
   "version": "2.4.0"
  }
 },
 "nbformat": 4,
 "nbformat_minor": 5
}