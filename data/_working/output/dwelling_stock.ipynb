{
 "cells": [
  {
   "cell_type": "code",
   "execution_count": 1,
   "id": "8bb5f235",
   "metadata": {
    "execution": {
     "iopub.execute_input": "2023-11-20T10:02:36.097753Z",
     "iopub.status.busy": "2023-11-20T10:02:36.097397Z",
     "iopub.status.idle": "2023-11-20T10:02:36.311148Z",
     "shell.execute_reply": "2023-11-20T10:02:36.310773Z"
    },
    "papermill": {
     "duration": 0.216686,
     "end_time": "2023-11-20T10:02:36.312205",
     "exception": false,
     "start_time": "2023-11-20T10:02:36.095519",
     "status": "completed"
    },
    "tags": []
   },
   "outputs": [],
   "source": [
    "import os\n",
    "import pandas as pd\n",
    "from params import *"
   ]
  },
  {
   "cell_type": "code",
   "execution_count": 2,
   "id": "425b2f07",
   "metadata": {
    "execution": {
     "iopub.execute_input": "2023-11-20T10:02:36.314964Z",
     "iopub.status.busy": "2023-11-20T10:02:36.314727Z",
     "iopub.status.idle": "2023-11-20T10:02:36.510507Z",
     "shell.execute_reply": "2023-11-20T10:02:36.510149Z"
    },
    "papermill": {
     "duration": 0.198224,
     "end_time": "2023-11-20T10:02:36.511489",
     "exception": false,
     "start_time": "2023-11-20T10:02:36.313265",
     "status": "completed"
    },
    "tags": []
   },
   "outputs": [],
   "source": [
    "data = pd.read_excel(\n",
    "    f'{RAW_DATA_DIR}/dwelling-stock/subnationaldwellingstockbytenure2021.xlsx',\n",
    "    sheet_name='1b',\n",
    "    header=3,\n",
    ")\n",
    "data.columns = pd.Index(data.columns.to_series().str.strip())\n",
    "data.set_index(data.columns.to_list()[2:4], drop=True, inplace=True)\n",
    "data = data.rename_axis(index={\n",
    "    'Local authority code': 'geography_code', \n",
    "    'Local authority name': 'geography_name'\n",
    "    })"
   ]
  },
  {
   "cell_type": "code",
   "execution_count": 3,
   "id": "91a40de0",
   "metadata": {
    "execution": {
     "iopub.execute_input": "2023-11-20T10:02:36.514061Z",
     "iopub.status.busy": "2023-11-20T10:02:36.513869Z",
     "iopub.status.idle": "2023-11-20T10:02:36.520077Z",
     "shell.execute_reply": "2023-11-20T10:02:36.519716Z"
    },
    "papermill": {
     "duration": 0.008469,
     "end_time": "2023-11-20T10:02:36.520945",
     "exception": false,
     "start_time": "2023-11-20T10:02:36.512476",
     "status": "completed"
    },
    "tags": []
   },
   "outputs": [],
   "source": [
    "data = data.drop(columns=['Region code', 'Region name']).melt(ignore_index=False)"
   ]
  },
  {
   "cell_type": "code",
   "execution_count": 4,
   "id": "f66d4d3a",
   "metadata": {
    "execution": {
     "iopub.execute_input": "2023-11-20T10:02:36.523354Z",
     "iopub.status.busy": "2023-11-20T10:02:36.523171Z",
     "iopub.status.idle": "2023-11-20T10:02:36.543644Z",
     "shell.execute_reply": "2023-11-20T10:02:36.543308Z"
    },
    "papermill": {
     "duration": 0.022677,
     "end_time": "2023-11-20T10:02:36.544497",
     "exception": false,
     "start_time": "2023-11-20T10:02:36.521820",
     "status": "completed"
    },
    "tags": []
   },
   "outputs": [],
   "source": [
    "data.loc[:, ['date', 'type_of_tenure']] = data.variable.str.split('\\s+', n=1).to_list()\n",
    "data = data.drop(columns='variable')"
   ]
  },
  {
   "cell_type": "code",
   "execution_count": 5,
   "id": "162ae259",
   "metadata": {
    "execution": {
     "iopub.execute_input": "2023-11-20T10:02:36.546949Z",
     "iopub.status.busy": "2023-11-20T10:02:36.546795Z",
     "iopub.status.idle": "2023-11-20T10:02:36.549121Z",
     "shell.execute_reply": "2023-11-20T10:02:36.548809Z"
    },
    "papermill": {
     "duration": 0.004378,
     "end_time": "2023-11-20T10:02:36.549794",
     "exception": false,
     "start_time": "2023-11-20T10:02:36.545416",
     "status": "completed"
    },
    "tags": []
   },
   "outputs": [],
   "source": [
    "data['variable_name'] = 'Number of dwellings'"
   ]
  },
  {
   "cell_type": "code",
   "execution_count": 6,
   "id": "e83147f5",
   "metadata": {
    "execution": {
     "iopub.execute_input": "2023-11-20T10:02:36.552065Z",
     "iopub.status.busy": "2023-11-20T10:02:36.551916Z",
     "iopub.status.idle": "2023-11-20T10:02:36.559319Z",
     "shell.execute_reply": "2023-11-20T10:02:36.558973Z"
    },
    "papermill": {
     "duration": 0.0094,
     "end_time": "2023-11-20T10:02:36.560080",
     "exception": false,
     "start_time": "2023-11-20T10:02:36.550680",
     "status": "completed"
    },
    "tags": []
   },
   "outputs": [],
   "source": [
    "data = data.set_index(['date', 'type_of_tenure', 'variable_name'], append=True)"
   ]
  },
  {
   "cell_type": "code",
   "execution_count": 7,
   "id": "579d9899",
   "metadata": {
    "execution": {
     "iopub.execute_input": "2023-11-20T10:02:36.562500Z",
     "iopub.status.busy": "2023-11-20T10:02:36.562321Z",
     "iopub.status.idle": "2023-11-20T10:02:36.579084Z",
     "shell.execute_reply": "2023-11-20T10:02:36.578732Z"
    },
    "papermill": {
     "duration": 0.018979,
     "end_time": "2023-11-20T10:02:36.580007",
     "exception": false,
     "start_time": "2023-11-20T10:02:36.561028",
     "status": "completed"
    },
    "tags": []
   },
   "outputs": [],
   "source": [
    "PARQUET_FILE = f'../../../data-mart/dwelling-stock/dwelling-stock.parquet'\n",
    "os.makedirs(os.path.dirname(PARQUET_FILE), exist_ok=True)\n",
    "data.to_parquet(PARQUET_FILE)"
   ]
  },
  {
   "cell_type": "code",
   "execution_count": 8,
   "id": "699a9474",
   "metadata": {
    "execution": {
     "iopub.execute_input": "2023-11-20T10:02:36.582596Z",
     "iopub.status.busy": "2023-11-20T10:02:36.582334Z",
     "iopub.status.idle": "2023-11-20T10:02:36.590431Z",
     "shell.execute_reply": "2023-11-20T10:02:36.590110Z"
    },
    "papermill": {
     "duration": 0.010084,
     "end_time": "2023-11-20T10:02:36.591130",
     "exception": false,
     "start_time": "2023-11-20T10:02:36.581046",
     "status": "completed"
    },
    "tags": []
   },
   "outputs": [],
   "source": [
    "CSV_FILE = f'../../../data/dwelling-stock/dwelling-stock.csv'\n",
    "os.makedirs(os.path.dirname(CSV_FILE), exist_ok=True)\n",
    "data.to_parquet(CSV_FILE)"
   ]
  }
 ],
 "metadata": {
  "kernelspec": {
   "display_name": "jrf-insight-o_Bkqbd_",
   "language": "python",
   "name": "python3"
  },
  "language_info": {
   "codemirror_mode": {
    "name": "ipython",
    "version": 3
   },
   "file_extension": ".py",
   "mimetype": "text/x-python",
   "name": "python",
   "nbconvert_exporter": "python",
   "pygments_lexer": "ipython3",
   "version": "3.10.12"
  },
  "papermill": {
   "default_parameters": {},
   "duration": 1.631576,
   "end_time": "2023-11-20T10:02:36.806415",
   "environment_variables": {},
   "exception": null,
   "input_path": "dwelling_stock.ipynb",
   "output_path": "../../../data/_working/output/dwelling_stock.ipynb",
   "parameters": {},
   "start_time": "2023-11-20T10:02:35.174839",
   "version": "2.4.0"
  }
 },
 "nbformat": 4,
 "nbformat_minor": 5
}