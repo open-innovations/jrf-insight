{
 "cells": [
  {
   "cell_type": "code",
   "execution_count": 1,
   "id": "35bc051d",
   "metadata": {
    "execution": {
     "iopub.execute_input": "2023-11-20T10:23:18.601095Z",
     "iopub.status.busy": "2023-11-20T10:23:18.600914Z",
     "iopub.status.idle": "2023-11-20T10:23:18.799928Z",
     "shell.execute_reply": "2023-11-20T10:23:18.799468Z"
    },
    "papermill": {
     "duration": 0.202255,
     "end_time": "2023-11-20T10:23:18.801094",
     "exception": false,
     "start_time": "2023-11-20T10:23:18.598839",
     "status": "completed"
    },
    "tags": []
   },
   "outputs": [],
   "source": [
    "import os\n",
    "import pandas as pd\n",
    "from params import *"
   ]
  },
  {
   "cell_type": "code",
   "execution_count": 2,
   "id": "014be41b",
   "metadata": {
    "execution": {
     "iopub.execute_input": "2023-11-20T10:23:18.804083Z",
     "iopub.status.busy": "2023-11-20T10:23:18.803811Z",
     "iopub.status.idle": "2023-11-20T10:23:18.997460Z",
     "shell.execute_reply": "2023-11-20T10:23:18.997038Z"
    },
    "papermill": {
     "duration": 0.19658,
     "end_time": "2023-11-20T10:23:18.998838",
     "exception": false,
     "start_time": "2023-11-20T10:23:18.802258",
     "status": "completed"
    },
    "tags": []
   },
   "outputs": [],
   "source": [
    "data = pd.read_excel(\n",
    "    f'{RAW_DATA_DIR}/dwelling-stock/subnationaldwellingstockbytenure2021.xlsx',\n",
    "    sheet_name='1b',\n",
    "    header=3,\n",
    ")\n",
    "data.columns = pd.Index(data.columns.to_series().str.strip())\n",
    "data.set_index(data.columns.to_list()[2:4], drop=True, inplace=True)\n",
    "data = data.rename_axis(index={\n",
    "    'Local authority code': 'geography_code', \n",
    "    'Local authority name': 'geography_name'\n",
    "    })"
   ]
  },
  {
   "cell_type": "code",
   "execution_count": 3,
   "id": "23c5440d",
   "metadata": {
    "execution": {
     "iopub.execute_input": "2023-11-20T10:23:19.002564Z",
     "iopub.status.busy": "2023-11-20T10:23:19.002358Z",
     "iopub.status.idle": "2023-11-20T10:23:19.008730Z",
     "shell.execute_reply": "2023-11-20T10:23:19.008309Z"
    },
    "papermill": {
     "duration": 0.009233,
     "end_time": "2023-11-20T10:23:19.009666",
     "exception": false,
     "start_time": "2023-11-20T10:23:19.000433",
     "status": "completed"
    },
    "tags": []
   },
   "outputs": [],
   "source": [
    "data = data.drop(columns=['Region code', 'Region name']).melt(ignore_index=False)"
   ]
  },
  {
   "cell_type": "code",
   "execution_count": 4,
   "id": "53e1111f",
   "metadata": {
    "execution": {
     "iopub.execute_input": "2023-11-20T10:23:19.012196Z",
     "iopub.status.busy": "2023-11-20T10:23:19.011999Z",
     "iopub.status.idle": "2023-11-20T10:23:19.032711Z",
     "shell.execute_reply": "2023-11-20T10:23:19.032287Z"
    },
    "papermill": {
     "duration": 0.02313,
     "end_time": "2023-11-20T10:23:19.033711",
     "exception": false,
     "start_time": "2023-11-20T10:23:19.010581",
     "status": "completed"
    },
    "tags": []
   },
   "outputs": [],
   "source": [
    "data.loc[:, ['date', 'type_of_tenure']] = data.variable.str.split('\\s+', n=1).to_list()\n",
    "data = data.drop(columns='variable')"
   ]
  },
  {
   "cell_type": "code",
   "execution_count": 5,
   "id": "11c5a381",
   "metadata": {
    "execution": {
     "iopub.execute_input": "2023-11-20T10:23:19.036217Z",
     "iopub.status.busy": "2023-11-20T10:23:19.036018Z",
     "iopub.status.idle": "2023-11-20T10:23:19.038650Z",
     "shell.execute_reply": "2023-11-20T10:23:19.038260Z"
    },
    "papermill": {
     "duration": 0.004849,
     "end_time": "2023-11-20T10:23:19.039482",
     "exception": false,
     "start_time": "2023-11-20T10:23:19.034633",
     "status": "completed"
    },
    "tags": []
   },
   "outputs": [],
   "source": [
    "data['variable_name'] = 'Number of dwellings'"
   ]
  },
  {
   "cell_type": "code",
   "execution_count": 6,
   "id": "b5ff2cd3",
   "metadata": {
    "execution": {
     "iopub.execute_input": "2023-11-20T10:23:19.042276Z",
     "iopub.status.busy": "2023-11-20T10:23:19.042052Z",
     "iopub.status.idle": "2023-11-20T10:23:19.050399Z",
     "shell.execute_reply": "2023-11-20T10:23:19.049993Z"
    },
    "papermill": {
     "duration": 0.010936,
     "end_time": "2023-11-20T10:23:19.051388",
     "exception": false,
     "start_time": "2023-11-20T10:23:19.040452",
     "status": "completed"
    },
    "tags": []
   },
   "outputs": [],
   "source": [
    "data = data.set_index(['date', 'type_of_tenure', 'variable_name'], append=True)"
   ]
  },
  {
   "cell_type": "code",
   "execution_count": 7,
   "id": "e5b4c873",
   "metadata": {
    "execution": {
     "iopub.execute_input": "2023-11-20T10:23:19.053923Z",
     "iopub.status.busy": "2023-11-20T10:23:19.053727Z",
     "iopub.status.idle": "2023-11-20T10:23:19.071511Z",
     "shell.execute_reply": "2023-11-20T10:23:19.071086Z"
    },
    "papermill": {
     "duration": 0.020172,
     "end_time": "2023-11-20T10:23:19.072523",
     "exception": false,
     "start_time": "2023-11-20T10:23:19.052351",
     "status": "completed"
    },
    "tags": []
   },
   "outputs": [],
   "source": [
    "PARQUET_FILE = f'../../../data-mart/dwelling-stock/dwelling-stock.parquet'\n",
    "os.makedirs(os.path.dirname(PARQUET_FILE), exist_ok=True)\n",
    "data.to_parquet(PARQUET_FILE)"
   ]
  },
  {
   "cell_type": "code",
   "execution_count": 8,
   "id": "82401703",
   "metadata": {
    "execution": {
     "iopub.execute_input": "2023-11-20T10:23:19.075215Z",
     "iopub.status.busy": "2023-11-20T10:23:19.075023Z",
     "iopub.status.idle": "2023-11-20T10:23:19.093953Z",
     "shell.execute_reply": "2023-11-20T10:23:19.093512Z"
    },
    "papermill": {
     "duration": 0.021526,
     "end_time": "2023-11-20T10:23:19.095052",
     "exception": false,
     "start_time": "2023-11-20T10:23:19.073526",
     "status": "completed"
    },
    "tags": []
   },
   "outputs": [],
   "source": [
    "CSV_FILE = f'../../../data/dwelling-stock/dwelling-stock.csv'\n",
    "os.makedirs(os.path.dirname(CSV_FILE), exist_ok=True)\n",
    "data.to_csv(CSV_FILE)"
   ]
  }
 ],
 "metadata": {
  "kernelspec": {
   "display_name": "jrf-insight-o_Bkqbd_",
   "language": "python",
   "name": "python3"
  },
  "language_info": {
   "codemirror_mode": {
    "name": "ipython",
    "version": 3
   },
   "file_extension": ".py",
   "mimetype": "text/x-python",
   "name": "python",
   "nbconvert_exporter": "python",
   "pygments_lexer": "ipython3",
   "version": "3.10.12"
  },
  "papermill": {
   "default_parameters": {},
   "duration": 1.546444,
   "end_time": "2023-11-20T10:23:19.311283",
   "environment_variables": {},
   "exception": null,
   "input_path": "dwelling_stock.ipynb",
   "output_path": "../../../data/_working/output/dwelling_stock.ipynb",
   "parameters": {},
   "start_time": "2023-11-20T10:23:17.764839",
   "version": "2.4.0"
  }
 },
 "nbformat": 4,
 "nbformat_minor": 5
}