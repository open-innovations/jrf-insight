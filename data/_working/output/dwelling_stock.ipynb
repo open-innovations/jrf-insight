{
 "cells": [
  {
   "cell_type": "code",
   "execution_count": 1,
   "id": "2e69fec8",
   "metadata": {
    "execution": {
     "iopub.execute_input": "2023-11-07T17:02:41.853614Z",
     "iopub.status.busy": "2023-11-07T17:02:41.853309Z",
     "iopub.status.idle": "2023-11-07T17:02:42.084668Z",
     "shell.execute_reply": "2023-11-07T17:02:42.084157Z"
    },
    "papermill": {
     "duration": 0.235576,
     "end_time": "2023-11-07T17:02:42.086111",
     "exception": false,
     "start_time": "2023-11-07T17:02:41.850535",
     "status": "completed"
    },
    "tags": []
   },
   "outputs": [],
   "source": [
    "import os\n",
    "import pandas as pd\n",
    "from params import *"
   ]
  },
  {
   "cell_type": "code",
   "execution_count": 2,
   "id": "ac91a6d7",
   "metadata": {
    "execution": {
     "iopub.execute_input": "2023-11-07T17:02:42.090045Z",
     "iopub.status.busy": "2023-11-07T17:02:42.089789Z",
     "iopub.status.idle": "2023-11-07T17:02:42.317472Z",
     "shell.execute_reply": "2023-11-07T17:02:42.317056Z"
    },
    "papermill": {
     "duration": 0.230654,
     "end_time": "2023-11-07T17:02:42.318446",
     "exception": false,
     "start_time": "2023-11-07T17:02:42.087792",
     "status": "completed"
    },
    "tags": []
   },
   "outputs": [],
   "source": [
    "data = pd.read_excel(\n",
    "    f'{RAW_DATA_DIR}/dwelling-stock/subnationaldwellingstockbytenure2021.xlsx',\n",
    "    sheet_name='1b',\n",
    "    header=3,\n",
    ")\n",
    "data.columns = pd.Index(data.columns.to_series().str.strip())\n",
    "data.set_index(data.columns.to_list()[2:4], drop=True, inplace=True)\n",
    "data = data.rename_axis(index={\n",
    "    'Local authority code': 'geography_code', \n",
    "    'Local authority name': 'geography_name'\n",
    "    })"
   ]
  },
  {
   "cell_type": "code",
   "execution_count": 3,
   "id": "79c9eb9b",
   "metadata": {
    "execution": {
     "iopub.execute_input": "2023-11-07T17:02:42.320976Z",
     "iopub.status.busy": "2023-11-07T17:02:42.320775Z",
     "iopub.status.idle": "2023-11-07T17:02:42.326757Z",
     "shell.execute_reply": "2023-11-07T17:02:42.326326Z"
    },
    "papermill": {
     "duration": 0.008042,
     "end_time": "2023-11-07T17:02:42.327498",
     "exception": false,
     "start_time": "2023-11-07T17:02:42.319456",
     "status": "completed"
    },
    "tags": []
   },
   "outputs": [],
   "source": [
    "data = data.drop(columns=['Region code', 'Region name']).melt(ignore_index=False)"
   ]
  },
  {
   "cell_type": "code",
   "execution_count": 4,
   "id": "6e83ddd2",
   "metadata": {
    "execution": {
     "iopub.execute_input": "2023-11-07T17:02:42.329776Z",
     "iopub.status.busy": "2023-11-07T17:02:42.329640Z",
     "iopub.status.idle": "2023-11-07T17:02:42.349897Z",
     "shell.execute_reply": "2023-11-07T17:02:42.349424Z"
    },
    "papermill": {
     "duration": 0.022922,
     "end_time": "2023-11-07T17:02:42.351272",
     "exception": false,
     "start_time": "2023-11-07T17:02:42.328350",
     "status": "completed"
    },
    "tags": []
   },
   "outputs": [],
   "source": [
    "data.loc[:, ['date', 'type_of_tenure']] = data.variable.str.split('\\s+', n=1).to_list()\n",
    "data = data.drop(columns='variable')"
   ]
  },
  {
   "cell_type": "code",
   "execution_count": 5,
   "id": "7e424851",
   "metadata": {
    "execution": {
     "iopub.execute_input": "2023-11-07T17:02:42.390257Z",
     "iopub.status.busy": "2023-11-07T17:02:42.390018Z",
     "iopub.status.idle": "2023-11-07T17:02:42.393074Z",
     "shell.execute_reply": "2023-11-07T17:02:42.392692Z"
    },
    "papermill": {
     "duration": 0.040875,
     "end_time": "2023-11-07T17:02:42.394224",
     "exception": false,
     "start_time": "2023-11-07T17:02:42.353349",
     "status": "completed"
    },
    "tags": []
   },
   "outputs": [],
   "source": [
    "data['variable_name'] = 'Number of dwellings'"
   ]
  },
  {
   "cell_type": "code",
   "execution_count": 6,
   "id": "3887bf55",
   "metadata": {
    "execution": {
     "iopub.execute_input": "2023-11-07T17:02:42.408202Z",
     "iopub.status.busy": "2023-11-07T17:02:42.407994Z",
     "iopub.status.idle": "2023-11-07T17:02:42.415920Z",
     "shell.execute_reply": "2023-11-07T17:02:42.415524Z"
    },
    "papermill": {
     "duration": 0.01128,
     "end_time": "2023-11-07T17:02:42.416915",
     "exception": false,
     "start_time": "2023-11-07T17:02:42.405635",
     "status": "completed"
    },
    "tags": []
   },
   "outputs": [],
   "source": [
    "data = data.set_index(['date', 'type_of_tenure', 'variable_name'], append=True)"
   ]
  },
  {
   "cell_type": "code",
   "execution_count": 7,
   "id": "9bb59f7e",
   "metadata": {
    "execution": {
     "iopub.execute_input": "2023-11-07T17:02:42.419350Z",
     "iopub.status.busy": "2023-11-07T17:02:42.419162Z",
     "iopub.status.idle": "2023-11-07T17:02:42.437854Z",
     "shell.execute_reply": "2023-11-07T17:02:42.437488Z"
    },
    "papermill": {
     "duration": 0.021282,
     "end_time": "2023-11-07T17:02:42.439124",
     "exception": false,
     "start_time": "2023-11-07T17:02:42.417842",
     "status": "completed"
    },
    "tags": []
   },
   "outputs": [],
   "source": [
    "DWELLING_STOCK_FILE=f'{DATA_DIR}/dwelling-stock/dwelling-stock.csv'\n",
    "os.makedirs(os.path.dirname(DWELLING_STOCK_FILE), exist_ok=True)\n",
    "data.to_csv(DWELLING_STOCK_FILE)"
   ]
  }
 ],
 "metadata": {
  "kernelspec": {
   "display_name": "jrf-insight-o_Bkqbd_",
   "language": "python",
   "name": "python3"
  },
  "language_info": {
   "codemirror_mode": {
    "name": "ipython",
    "version": 3
   },
   "file_extension": ".py",
   "mimetype": "text/x-python",
   "name": "python",
   "nbconvert_exporter": "python",
   "pygments_lexer": "ipython3",
   "version": "3.10.12"
  },
  "papermill": {
   "default_parameters": {},
   "duration": 1.512609,
   "end_time": "2023-11-07T17:02:42.655602",
   "environment_variables": {},
   "exception": null,
   "input_path": "dwelling_stock.ipynb",
   "output_path": "../../../data/_working/output/dwelling_stock.ipynb",
   "parameters": {},
   "start_time": "2023-11-07T17:02:41.142993",
   "version": "2.4.0"
  }
 },
 "nbformat": 4,
 "nbformat_minor": 5
}