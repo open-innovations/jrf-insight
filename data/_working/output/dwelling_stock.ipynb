{
 "cells": [
  {
   "cell_type": "code",
   "execution_count": 1,
   "id": "4f96d969",
   "metadata": {
    "execution": {
     "iopub.execute_input": "2023-10-10T12:29:07.709173Z",
     "iopub.status.busy": "2023-10-10T12:29:07.708916Z",
     "iopub.status.idle": "2023-10-10T12:29:08.078495Z",
     "shell.execute_reply": "2023-10-10T12:29:08.077683Z"
    },
    "papermill": {
     "duration": 0.377469,
     "end_time": "2023-10-10T12:29:08.080142",
     "exception": false,
     "start_time": "2023-10-10T12:29:07.702673",
     "status": "completed"
    },
    "tags": []
   },
   "outputs": [],
   "source": [
    "import os\n",
    "from params import *"
   ]
  },
  {
   "cell_type": "code",
   "execution_count": 2,
   "id": "d76ab5bb",
   "metadata": {
    "execution": {
     "iopub.execute_input": "2023-10-10T12:29:08.089225Z",
     "iopub.status.busy": "2023-10-10T12:29:08.088384Z",
     "iopub.status.idle": "2023-10-10T12:29:09.421157Z",
     "shell.execute_reply": "2023-10-10T12:29:09.420227Z"
    },
    "papermill": {
     "duration": 1.340954,
     "end_time": "2023-10-10T12:29:09.422781",
     "exception": false,
     "start_time": "2023-10-10T12:29:08.081827",
     "status": "completed"
    },
    "tags": []
   },
   "outputs": [],
   "source": [
    "data = pd.read_excel(\n",
    "    f'{RAW_DATA_DIR}/dwelling-stock/subnationaldwellingstockbytenure2021.xlsx',\n",
    "    sheet_name='1b',\n",
    "    header=3,\n",
    ")\n",
    "data.columns = pd.Index(data.columns.to_series().str.strip())\n",
    "data.set_index(data.columns.to_list()[2:4], drop=True, inplace=True)\n",
    "data = data.rename_axis(index={\n",
    "    'Local authority code': 'geography_code', \n",
    "    'Local authority name': 'geography_name'\n",
    "    })"
   ]
  },
  {
   "cell_type": "code",
   "execution_count": 3,
   "id": "ed33b7a1",
   "metadata": {
    "execution": {
     "iopub.execute_input": "2023-10-10T12:29:09.431337Z",
     "iopub.status.busy": "2023-10-10T12:29:09.431069Z",
     "iopub.status.idle": "2023-10-10T12:29:09.440724Z",
     "shell.execute_reply": "2023-10-10T12:29:09.439686Z"
    },
    "papermill": {
     "duration": 0.01792,
     "end_time": "2023-10-10T12:29:09.442490",
     "exception": false,
     "start_time": "2023-10-10T12:29:09.424570",
     "status": "completed"
    },
    "tags": []
   },
   "outputs": [],
   "source": [
    "data = data.drop(columns=['Region code', 'Region name']).melt(ignore_index=False)"
   ]
  },
  {
   "cell_type": "code",
   "execution_count": 4,
   "id": "6e4e4073",
   "metadata": {
    "execution": {
     "iopub.execute_input": "2023-10-10T12:29:09.451185Z",
     "iopub.status.busy": "2023-10-10T12:29:09.450928Z",
     "iopub.status.idle": "2023-10-10T12:29:09.486915Z",
     "shell.execute_reply": "2023-10-10T12:29:09.485891Z"
    },
    "papermill": {
     "duration": 0.044657,
     "end_time": "2023-10-10T12:29:09.488607",
     "exception": false,
     "start_time": "2023-10-10T12:29:09.443950",
     "status": "completed"
    },
    "tags": []
   },
   "outputs": [],
   "source": [
    "data.loc[:, ['date', 'type_of_tenure']] = data.variable.str.split('\\s+', n=1).to_list()\n",
    "data = data.drop(columns='variable')"
   ]
  },
  {
   "cell_type": "code",
   "execution_count": 5,
   "id": "c89824c4",
   "metadata": {
    "execution": {
     "iopub.execute_input": "2023-10-10T12:29:09.496647Z",
     "iopub.status.busy": "2023-10-10T12:29:09.496406Z",
     "iopub.status.idle": "2023-10-10T12:29:09.500139Z",
     "shell.execute_reply": "2023-10-10T12:29:09.499493Z"
    },
    "papermill": {
     "duration": 0.011836,
     "end_time": "2023-10-10T12:29:09.501890",
     "exception": false,
     "start_time": "2023-10-10T12:29:09.490054",
     "status": "completed"
    },
    "tags": []
   },
   "outputs": [],
   "source": [
    "data['variable_name'] = 'Number of dwellings'"
   ]
  },
  {
   "cell_type": "code",
   "execution_count": 6,
   "id": "df7bf9d2",
   "metadata": {
    "execution": {
     "iopub.execute_input": "2023-10-10T12:29:09.510886Z",
     "iopub.status.busy": "2023-10-10T12:29:09.510678Z",
     "iopub.status.idle": "2023-10-10T12:29:09.521372Z",
     "shell.execute_reply": "2023-10-10T12:29:09.520573Z"
    },
    "papermill": {
     "duration": 0.019272,
     "end_time": "2023-10-10T12:29:09.522952",
     "exception": false,
     "start_time": "2023-10-10T12:29:09.503680",
     "status": "completed"
    },
    "tags": []
   },
   "outputs": [],
   "source": [
    "data = data.set_index(['date', 'type_of_tenure', 'variable_name'], append=True)"
   ]
  },
  {
   "cell_type": "code",
   "execution_count": 7,
   "id": "9f8a6b2d",
   "metadata": {
    "execution": {
     "iopub.execute_input": "2023-10-10T12:29:09.531254Z",
     "iopub.status.busy": "2023-10-10T12:29:09.531062Z",
     "iopub.status.idle": "2023-10-10T12:29:09.555488Z",
     "shell.execute_reply": "2023-10-10T12:29:09.554452Z"
    },
    "papermill": {
     "duration": 0.032802,
     "end_time": "2023-10-10T12:29:09.557488",
     "exception": false,
     "start_time": "2023-10-10T12:29:09.524686",
     "status": "completed"
    },
    "tags": []
   },
   "outputs": [],
   "source": [
    "DWELLING_STOCK_FILE=f'{DATA_DIR}/dwelling-stock/dwelling-stock.csv'\n",
    "os.makedirs(os.path.dirname(DWELLING_STOCK_FILE), exist_ok=True)\n",
    "data.to_csv(DWELLING_STOCK_FILE)"
   ]
  }
 ],
 "metadata": {
  "kernelspec": {
   "display_name": "jrf-insight-o_Bkqbd_",
   "language": "python",
   "name": "python3"
  },
  "language_info": {
   "codemirror_mode": {
    "name": "ipython",
    "version": 3
   },
   "file_extension": ".py",
   "mimetype": "text/x-python",
   "name": "python",
   "nbconvert_exporter": "python",
   "pygments_lexer": "ipython3",
   "version": "3.10.12"
  },
  "papermill": {
   "default_parameters": {},
   "duration": 3.360235,
   "end_time": "2023-10-10T12:29:09.777884",
   "environment_variables": {},
   "exception": null,
   "input_path": "dwelling_stock.ipynb",
   "output_path": "../../../data/_working/output/dwelling_stock.ipynb",
   "parameters": {},
   "start_time": "2023-10-10T12:29:06.417649",
   "version": "2.4.0"
  }
 },
 "nbformat": 4,
 "nbformat_minor": 5
}