{
 "cells": [
  {
   "cell_type": "code",
   "execution_count": 1,
   "id": "b37e1375",
   "metadata": {
    "execution": {
     "iopub.execute_input": "2023-10-06T15:08:07.731991Z",
     "iopub.status.busy": "2023-10-06T15:08:07.731554Z",
     "iopub.status.idle": "2023-10-06T15:08:07.985992Z",
     "shell.execute_reply": "2023-10-06T15:08:07.985548Z"
    },
    "papermill": {
     "duration": 0.257415,
     "end_time": "2023-10-06T15:08:07.987051",
     "exception": false,
     "start_time": "2023-10-06T15:08:07.729636",
     "status": "completed"
    },
    "tags": []
   },
   "outputs": [],
   "source": [
    "import os\n",
    "from params import *"
   ]
  },
  {
   "cell_type": "code",
   "execution_count": 2,
   "id": "0b8daed1",
   "metadata": {
    "execution": {
     "iopub.execute_input": "2023-10-06T15:08:07.989815Z",
     "iopub.status.busy": "2023-10-06T15:08:07.989564Z",
     "iopub.status.idle": "2023-10-06T15:08:08.171079Z",
     "shell.execute_reply": "2023-10-06T15:08:08.170637Z"
    },
    "papermill": {
     "duration": 0.183985,
     "end_time": "2023-10-06T15:08:08.172121",
     "exception": false,
     "start_time": "2023-10-06T15:08:07.988136",
     "status": "completed"
    },
    "tags": []
   },
   "outputs": [],
   "source": [
    "data = pd.read_excel(\n",
    "    f'{RAW_DATA_DIR}/dwelling-stock/subnationaldwellingstockbytenure2021.xlsx',\n",
    "    sheet_name='1b',\n",
    "    header=3,\n",
    "    index_col=[2,3]\n",
    ")\n",
    "data.columns = pd.Index(data.columns.to_series().str.strip())"
   ]
  },
  {
   "cell_type": "code",
   "execution_count": 3,
   "id": "96eb1625",
   "metadata": {
    "execution": {
     "iopub.execute_input": "2023-10-06T15:08:08.174706Z",
     "iopub.status.busy": "2023-10-06T15:08:08.174558Z",
     "iopub.status.idle": "2023-10-06T15:08:08.180184Z",
     "shell.execute_reply": "2023-10-06T15:08:08.179865Z"
    },
    "papermill": {
     "duration": 0.00772,
     "end_time": "2023-10-06T15:08:08.180895",
     "exception": false,
     "start_time": "2023-10-06T15:08:08.173175",
     "status": "completed"
    },
    "tags": []
   },
   "outputs": [],
   "source": [
    "data = data.drop(columns=['Region code', 'Region name']).melt(ignore_index=False)"
   ]
  },
  {
   "cell_type": "code",
   "execution_count": 4,
   "id": "57733fb4",
   "metadata": {
    "execution": {
     "iopub.execute_input": "2023-10-06T15:08:08.183061Z",
     "iopub.status.busy": "2023-10-06T15:08:08.182915Z",
     "iopub.status.idle": "2023-10-06T15:08:08.202694Z",
     "shell.execute_reply": "2023-10-06T15:08:08.202304Z"
    },
    "papermill": {
     "duration": 0.021789,
     "end_time": "2023-10-06T15:08:08.203526",
     "exception": false,
     "start_time": "2023-10-06T15:08:08.181737",
     "status": "completed"
    },
    "tags": []
   },
   "outputs": [],
   "source": [
    "data.loc[:, ['date', 'type_of_tenure']] = data.variable.str.split('\\s+', n=1).to_list()\n",
    "data = data.drop(columns='variable')"
   ]
  },
  {
   "cell_type": "code",
   "execution_count": 5,
   "id": "cb498608",
   "metadata": {
    "execution": {
     "iopub.execute_input": "2023-10-06T15:08:08.205830Z",
     "iopub.status.busy": "2023-10-06T15:08:08.205672Z",
     "iopub.status.idle": "2023-10-06T15:08:08.207964Z",
     "shell.execute_reply": "2023-10-06T15:08:08.207644Z"
    },
    "papermill": {
     "duration": 0.004218,
     "end_time": "2023-10-06T15:08:08.208628",
     "exception": false,
     "start_time": "2023-10-06T15:08:08.204410",
     "status": "completed"
    },
    "tags": []
   },
   "outputs": [],
   "source": [
    "data['variable_name'] = 'Number of dwellings'"
   ]
  },
  {
   "cell_type": "code",
   "execution_count": 6,
   "id": "6a4de6cf",
   "metadata": {
    "execution": {
     "iopub.execute_input": "2023-10-06T15:08:08.210939Z",
     "iopub.status.busy": "2023-10-06T15:08:08.210710Z",
     "iopub.status.idle": "2023-10-06T15:08:08.218129Z",
     "shell.execute_reply": "2023-10-06T15:08:08.217748Z"
    },
    "papermill": {
     "duration": 0.009492,
     "end_time": "2023-10-06T15:08:08.219008",
     "exception": false,
     "start_time": "2023-10-06T15:08:08.209516",
     "status": "completed"
    },
    "tags": []
   },
   "outputs": [],
   "source": [
    "data = data.set_index(['date', 'type_of_tenure', 'variable_name'], append=True)"
   ]
  },
  {
   "cell_type": "code",
   "execution_count": 7,
   "id": "626a9855",
   "metadata": {
    "execution": {
     "iopub.execute_input": "2023-10-06T15:08:08.221508Z",
     "iopub.status.busy": "2023-10-06T15:08:08.221312Z",
     "iopub.status.idle": "2023-10-06T15:08:08.237897Z",
     "shell.execute_reply": "2023-10-06T15:08:08.237556Z"
    },
    "papermill": {
     "duration": 0.018781,
     "end_time": "2023-10-06T15:08:08.238751",
     "exception": false,
     "start_time": "2023-10-06T15:08:08.219970",
     "status": "completed"
    },
    "tags": []
   },
   "outputs": [],
   "source": [
    "DWELLING_STOCK_FILE=f'{DATA_DIR}/dwelling-stock/dwelling-stock.csv'\n",
    "os.makedirs(os.path.dirname(DWELLING_STOCK_FILE), exist_ok=True)\n",
    "data.to_csv(DWELLING_STOCK_FILE)"
   ]
  }
 ],
 "metadata": {
  "kernelspec": {
   "display_name": "jrf-insight-o_Bkqbd_",
   "language": "python",
   "name": "python3"
  },
  "language_info": {
   "codemirror_mode": {
    "name": "ipython",
    "version": 3
   },
   "file_extension": ".py",
   "mimetype": "text/x-python",
   "name": "python",
   "nbconvert_exporter": "python",
   "pygments_lexer": "ipython3",
   "version": "3.10.12"
  },
  "papermill": {
   "default_parameters": {},
   "duration": 1.43604,
   "end_time": "2023-10-06T15:08:08.454395",
   "environment_variables": {},
   "exception": null,
   "input_path": "dwelling_stock.ipynb",
   "output_path": "../../../data/_working/output/dwelling_stock.ipynb",
   "parameters": {},
   "start_time": "2023-10-06T15:08:07.018355",
   "version": "2.4.0"
  }
 },
 "nbformat": 4,
 "nbformat_minor": 5
}