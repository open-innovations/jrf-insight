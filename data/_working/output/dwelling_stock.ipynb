{
 "cells": [
  {
   "cell_type": "code",
   "execution_count": 1,
   "id": "4f531851",
   "metadata": {
    "execution": {
     "iopub.execute_input": "2023-11-07T17:40:02.752779Z",
     "iopub.status.busy": "2023-11-07T17:40:02.752600Z",
     "iopub.status.idle": "2023-11-07T17:40:02.968896Z",
     "shell.execute_reply": "2023-11-07T17:40:02.968515Z"
    },
    "papermill": {
     "duration": 0.219669,
     "end_time": "2023-11-07T17:40:02.970233",
     "exception": false,
     "start_time": "2023-11-07T17:40:02.750564",
     "status": "completed"
    },
    "tags": []
   },
   "outputs": [],
   "source": [
    "import os\n",
    "import pandas as pd\n",
    "from params import *"
   ]
  },
  {
   "cell_type": "code",
   "execution_count": 2,
   "id": "9ce11a58",
   "metadata": {
    "execution": {
     "iopub.execute_input": "2023-11-07T17:40:02.973351Z",
     "iopub.status.busy": "2023-11-07T17:40:02.973101Z",
     "iopub.status.idle": "2023-11-07T17:40:03.160111Z",
     "shell.execute_reply": "2023-11-07T17:40:03.159767Z"
    },
    "papermill": {
     "duration": 0.189619,
     "end_time": "2023-11-07T17:40:03.161215",
     "exception": false,
     "start_time": "2023-11-07T17:40:02.971596",
     "status": "completed"
    },
    "tags": []
   },
   "outputs": [],
   "source": [
    "data = pd.read_excel(\n",
    "    f'{RAW_DATA_DIR}/dwelling-stock/subnationaldwellingstockbytenure2021.xlsx',\n",
    "    sheet_name='1b',\n",
    "    header=3,\n",
    ")\n",
    "data.columns = pd.Index(data.columns.to_series().str.strip())\n",
    "data.set_index(data.columns.to_list()[2:4], drop=True, inplace=True)\n",
    "data = data.rename_axis(index={\n",
    "    'Local authority code': 'geography_code', \n",
    "    'Local authority name': 'geography_name'\n",
    "    })"
   ]
  },
  {
   "cell_type": "code",
   "execution_count": 3,
   "id": "e3461497",
   "metadata": {
    "execution": {
     "iopub.execute_input": "2023-11-07T17:40:03.163741Z",
     "iopub.status.busy": "2023-11-07T17:40:03.163576Z",
     "iopub.status.idle": "2023-11-07T17:40:03.169427Z",
     "shell.execute_reply": "2023-11-07T17:40:03.169085Z"
    },
    "papermill": {
     "duration": 0.008071,
     "end_time": "2023-11-07T17:40:03.170242",
     "exception": false,
     "start_time": "2023-11-07T17:40:03.162171",
     "status": "completed"
    },
    "tags": []
   },
   "outputs": [],
   "source": [
    "data = data.drop(columns=['Region code', 'Region name']).melt(ignore_index=False)"
   ]
  },
  {
   "cell_type": "code",
   "execution_count": 4,
   "id": "692c83c2",
   "metadata": {
    "execution": {
     "iopub.execute_input": "2023-11-07T17:40:03.172562Z",
     "iopub.status.busy": "2023-11-07T17:40:03.172321Z",
     "iopub.status.idle": "2023-11-07T17:40:03.202128Z",
     "shell.execute_reply": "2023-11-07T17:40:03.201715Z"
    },
    "papermill": {
     "duration": 0.032068,
     "end_time": "2023-11-07T17:40:03.203141",
     "exception": false,
     "start_time": "2023-11-07T17:40:03.171073",
     "status": "completed"
    },
    "tags": []
   },
   "outputs": [],
   "source": [
    "data.loc[:, ['date', 'type_of_tenure']] = data.variable.str.split('\\s+', n=1).to_list()\n",
    "data = data.drop(columns='variable')"
   ]
  },
  {
   "cell_type": "code",
   "execution_count": 5,
   "id": "23f1a100",
   "metadata": {
    "execution": {
     "iopub.execute_input": "2023-11-07T17:40:03.205552Z",
     "iopub.status.busy": "2023-11-07T17:40:03.205354Z",
     "iopub.status.idle": "2023-11-07T17:40:03.208116Z",
     "shell.execute_reply": "2023-11-07T17:40:03.207765Z"
    },
    "papermill": {
     "duration": 0.004913,
     "end_time": "2023-11-07T17:40:03.208907",
     "exception": false,
     "start_time": "2023-11-07T17:40:03.203994",
     "status": "completed"
    },
    "tags": []
   },
   "outputs": [],
   "source": [
    "data['variable_name'] = 'Number of dwellings'"
   ]
  },
  {
   "cell_type": "code",
   "execution_count": 6,
   "id": "7c2d6b6f",
   "metadata": {
    "execution": {
     "iopub.execute_input": "2023-11-07T17:40:03.211135Z",
     "iopub.status.busy": "2023-11-07T17:40:03.210961Z",
     "iopub.status.idle": "2023-11-07T17:40:03.221367Z",
     "shell.execute_reply": "2023-11-07T17:40:03.220950Z"
    },
    "papermill": {
     "duration": 0.012655,
     "end_time": "2023-11-07T17:40:03.222342",
     "exception": false,
     "start_time": "2023-11-07T17:40:03.209687",
     "status": "completed"
    },
    "tags": []
   },
   "outputs": [],
   "source": [
    "data = data.set_index(['date', 'type_of_tenure', 'variable_name'], append=True)"
   ]
  },
  {
   "cell_type": "code",
   "execution_count": 7,
   "id": "f11ba4d9",
   "metadata": {
    "execution": {
     "iopub.execute_input": "2023-11-07T17:40:03.224831Z",
     "iopub.status.busy": "2023-11-07T17:40:03.224639Z",
     "iopub.status.idle": "2023-11-07T17:40:03.241920Z",
     "shell.execute_reply": "2023-11-07T17:40:03.241590Z"
    },
    "papermill": {
     "duration": 0.019554,
     "end_time": "2023-11-07T17:40:03.242815",
     "exception": false,
     "start_time": "2023-11-07T17:40:03.223261",
     "status": "completed"
    },
    "tags": []
   },
   "outputs": [],
   "source": [
    "PARQUET_FILE = f'../../../data-mart/dwelling-stock/dwelling-stock.parquet'\n",
    "os.makedirs(os.path.dirname(PARQUET_FILE), exist_ok=True)\n",
    "data.to_parquet(PARQUET_FILE)"
   ]
  }
 ],
 "metadata": {
  "kernelspec": {
   "display_name": "jrf-insight-o_Bkqbd_",
   "language": "python",
   "name": "python3"
  },
  "language_info": {
   "codemirror_mode": {
    "name": "ipython",
    "version": 3
   },
   "file_extension": ".py",
   "mimetype": "text/x-python",
   "name": "python",
   "nbconvert_exporter": "python",
   "pygments_lexer": "ipython3",
   "version": "3.10.12"
  },
  "papermill": {
   "default_parameters": {},
   "duration": 1.414731,
   "end_time": "2023-11-07T17:40:03.457379",
   "environment_variables": {},
   "exception": null,
   "input_path": "dwelling_stock.ipynb",
   "output_path": "../../../data/_working/output/dwelling_stock.ipynb",
   "parameters": {},
   "start_time": "2023-11-07T17:40:02.042648",
   "version": "2.4.0"
  }
 },
 "nbformat": 4,
 "nbformat_minor": 5
}