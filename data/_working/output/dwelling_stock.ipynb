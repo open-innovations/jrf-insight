{
 "cells": [
  {
   "cell_type": "code",
   "execution_count": 1,
   "id": "a18f772f",
   "metadata": {
    "execution": {
     "iopub.execute_input": "2023-10-03T15:41:41.959300Z",
     "iopub.status.busy": "2023-10-03T15:41:41.959066Z",
     "iopub.status.idle": "2023-10-03T15:41:42.320559Z",
     "shell.execute_reply": "2023-10-03T15:41:42.319554Z"
    },
    "papermill": {
     "duration": 0.36608,
     "end_time": "2023-10-03T15:41:42.322294",
     "exception": false,
     "start_time": "2023-10-03T15:41:41.956214",
     "status": "completed"
    },
    "tags": []
   },
   "outputs": [],
   "source": [
    "from params import *"
   ]
  },
  {
   "cell_type": "code",
   "execution_count": 2,
   "id": "5f93c36a",
   "metadata": {
    "execution": {
     "iopub.execute_input": "2023-10-03T15:41:42.332213Z",
     "iopub.status.busy": "2023-10-03T15:41:42.331860Z",
     "iopub.status.idle": "2023-10-03T15:41:42.337092Z",
     "shell.execute_reply": "2023-10-03T15:41:42.336418Z"
    },
    "papermill": {
     "duration": 0.014572,
     "end_time": "2023-10-03T15:41:42.338593",
     "exception": false,
     "start_time": "2023-10-03T15:41:42.324021",
     "status": "completed"
    },
    "tags": []
   },
   "outputs": [],
   "source": [
    "def read_data(sheet_name):\n",
    "    data = pd.read_excel(f'{RAW_DATA_DIR}/dwelling-stock/dwelling_stock_by_tenure_by_LA.ods', \n",
    "                engine='odf',\n",
    "                header=3,\n",
    "                usecols=['CurrentONS code', 'Local Authority (incl. owned by other LAs)', 'Private Registered Provider', 'Other public sector²', 'Private sector (P)1', 'Total (P)1'],\n",
    "                sheet_name=sheet_name)\n",
    "    # Rename columns \n",
    "    data.rename(columns={'CurrentONS code': 'geography_code', \n",
    "                        'Local Authority (incl. owned by other LAs)': 'local_authority_owned', \n",
    "                        'Private Registered Provider': 'private_registered_provider', \n",
    "                        'Other public sector²': 'other_public_sector', \n",
    "                        'Private sector (P)1': 'private_sector', \n",
    "                        'Total (P)1': 'total'}, inplace=True)\n",
    "    # Drop empty rows\n",
    "    data = data[~data['geography_code'].isna()]\n",
    "    data = data.melt(id_vars='geography_code',\n",
    "                     value_vars=['local_authority_owned', 'private_registered_provider', 'other_public_sector', 'private_sector'],\n",
    "                     var_name='tenure_type')\n",
    "    data['variable_name'] = 'number_of_houses'\n",
    "    return data"
   ]
  },
  {
   "cell_type": "code",
   "execution_count": 3,
   "id": "56b5cc75",
   "metadata": {
    "execution": {
     "iopub.execute_input": "2023-10-03T15:41:42.346885Z",
     "iopub.status.busy": "2023-10-03T15:41:42.346566Z",
     "iopub.status.idle": "2023-10-03T15:41:45.537290Z",
     "shell.execute_reply": "2023-10-03T15:41:45.536423Z"
    },
    "papermill": {
     "duration": 3.199029,
     "end_time": "2023-10-03T15:41:45.538988",
     "exception": false,
     "start_time": "2023-10-03T15:41:42.339959",
     "status": "completed"
    },
    "tags": []
   },
   "outputs": [],
   "source": [
    "data = read_data('2022')\n",
    "data.to_csv(f'{DATA_DIR}/dwelling-stock/dwelling-stock.csv')"
   ]
  }
 ],
 "metadata": {
  "kernelspec": {
   "display_name": "jrf-insight-o_Bkqbd_",
   "language": "python",
   "name": "python3"
  },
  "language_info": {
   "codemirror_mode": {
    "name": "ipython",
    "version": 3
   },
   "file_extension": ".py",
   "mimetype": "text/x-python",
   "name": "python",
   "nbconvert_exporter": "python",
   "pygments_lexer": "ipython3",
   "version": "3.10.12"
  },
  "papermill": {
   "default_parameters": {},
   "duration": 8.519682,
   "end_time": "2023-10-03T15:41:48.986149",
   "environment_variables": {},
   "exception": null,
   "input_path": "dwelling_stock.ipynb",
   "output_path": "../../../data/_working/output/dwelling_stock.ipynb",
   "parameters": {},
   "start_time": "2023-10-03T15:41:40.466467",
   "version": "2.4.0"
  }
 },
 "nbformat": 4,
 "nbformat_minor": 5
}