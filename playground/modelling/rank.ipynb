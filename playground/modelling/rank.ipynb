{
 "cells": [
  {
   "cell_type": "markdown",
   "metadata": {
    "vscode": {
     "languageId": "latex"
    }
   },
   "source": [
    "### `Creating a multi-variable rank: Introduction`"
   ]
  },
  {
   "cell_type": "markdown",
   "metadata": {},
   "source": [
    "We are interested in `triangulating` data for the JRF project. This means using multiple data sources to come up with new insights and information. Our first, `very simple` example of this is a multi-variable rank. Much of our data can be ranked relative to the same statistics for different places at the same level of geography (in practice we could also compare to say, the average value of the containing goegraphy).\n",
    "\n",
    "Whether a high rank is good or bad is arbitrary, and will change depending the the context of each statistic used. For example, in the context of poverty, low levels of unemployment is good, but low wages are bad. We will therefore assume the following:\n",
    "- A high rank (e.g. 1st out of 10) corresponds a statistic that is `least likely to cause poverty`. For example, an unemployment rate of 0% would rank 1st.\n",
    "- A low rank (e.g. 10th out of 10) corresponds to a statistic that is `more likey to cause poverty`. For example, an house-price-to-wage ratio of 100,000 would rank 10th. \n",
    "- Each statistic is `equally likely` to cause poverty.\n",
    "- We can create an aggregated rank using a `mean-average` of the ranked statistics.\n",
    "\n",
    "**Disclaimer**: this is a proof of concept and inital attempt at triangulating poverty data. In practice, we know that some factors will affect poverty more than others. As we develop our model we will incorporate more features to make the ranking more accurate."
   ]
  },
  {
   "cell_type": "markdown",
   "metadata": {
    "vscode": {
     "languageId": "latex"
    }
   },
   "source": [
    "### `Creating a multi-variable rank: Toy model`"
   ]
  },
  {
   "cell_type": "code",
   "execution_count": 1,
   "metadata": {},
   "outputs": [],
   "source": [
    "import pandas as pd\n",
    "import numpy as np\n",
    "\n",
    "# create some dummy data\n",
    "array = np.random.randint(10, size=(3, 5))"
   ]
  },
  {
   "cell_type": "code",
   "execution_count": 2,
   "metadata": {},
   "outputs": [
    {
     "data": {
      "text/html": [
       "<div>\n",
       "<style scoped>\n",
       "    .dataframe tbody tr th:only-of-type {\n",
       "        vertical-align: middle;\n",
       "    }\n",
       "\n",
       "    .dataframe tbody tr th {\n",
       "        vertical-align: top;\n",
       "    }\n",
       "\n",
       "    .dataframe thead th {\n",
       "        text-align: right;\n",
       "    }\n",
       "</style>\n",
       "<table border=\"1\" class=\"dataframe\">\n",
       "  <thead>\n",
       "    <tr style=\"text-align: right;\">\n",
       "      <th></th>\n",
       "      <th>A</th>\n",
       "      <th>B</th>\n",
       "      <th>C</th>\n",
       "      <th>Rank A</th>\n",
       "      <th>Rank B</th>\n",
       "      <th>Rank C</th>\n",
       "      <th>mean_rank</th>\n",
       "      <th>overall_rank</th>\n",
       "    </tr>\n",
       "  </thead>\n",
       "  <tbody>\n",
       "    <tr>\n",
       "      <th>0</th>\n",
       "      <td>4</td>\n",
       "      <td>6</td>\n",
       "      <td>2</td>\n",
       "      <td>2.0</td>\n",
       "      <td>4.0</td>\n",
       "      <td>3.0</td>\n",
       "      <td>3.000000</td>\n",
       "      <td>4.0</td>\n",
       "    </tr>\n",
       "    <tr>\n",
       "      <th>1</th>\n",
       "      <td>9</td>\n",
       "      <td>3</td>\n",
       "      <td>0</td>\n",
       "      <td>5.0</td>\n",
       "      <td>1.0</td>\n",
       "      <td>1.0</td>\n",
       "      <td>2.333333</td>\n",
       "      <td>1.0</td>\n",
       "    </tr>\n",
       "    <tr>\n",
       "      <th>2</th>\n",
       "      <td>7</td>\n",
       "      <td>5</td>\n",
       "      <td>0</td>\n",
       "      <td>4.0</td>\n",
       "      <td>3.0</td>\n",
       "      <td>1.0</td>\n",
       "      <td>2.666667</td>\n",
       "      <td>3.0</td>\n",
       "    </tr>\n",
       "    <tr>\n",
       "      <th>3</th>\n",
       "      <td>4</td>\n",
       "      <td>4</td>\n",
       "      <td>2</td>\n",
       "      <td>2.0</td>\n",
       "      <td>2.0</td>\n",
       "      <td>3.0</td>\n",
       "      <td>2.333333</td>\n",
       "      <td>1.0</td>\n",
       "    </tr>\n",
       "    <tr>\n",
       "      <th>4</th>\n",
       "      <td>2</td>\n",
       "      <td>8</td>\n",
       "      <td>7</td>\n",
       "      <td>1.0</td>\n",
       "      <td>5.0</td>\n",
       "      <td>5.0</td>\n",
       "      <td>3.666667</td>\n",
       "      <td>5.0</td>\n",
       "    </tr>\n",
       "  </tbody>\n",
       "</table>\n",
       "</div>"
      ],
      "text/plain": [
       "   A  B  C  Rank A  Rank B  Rank C  mean_rank  overall_rank\n",
       "0  4  6  2     2.0     4.0     3.0   3.000000           4.0\n",
       "1  9  3  0     5.0     1.0     1.0   2.333333           1.0\n",
       "2  7  5  0     4.0     3.0     1.0   2.666667           3.0\n",
       "3  4  4  2     2.0     2.0     3.0   2.333333           1.0\n",
       "4  2  8  7     1.0     5.0     5.0   3.666667           5.0"
      ]
     },
     "execution_count": 2,
     "metadata": {},
     "output_type": "execute_result"
    }
   ],
   "source": [
    "# Creating a lowest score wins rank. Set ascending = False for highest score wins.\n",
    "df = pd.DataFrame({'A':array[0], 'B':array[1], 'C': array[2]})\n",
    "colnames = df.columns.to_list()\n",
    "ascent_array = [True, True, True] # the ascent array decides how to rank the items in each column.\n",
    "\n",
    "def multivariable_rank(df, colnames, ascent_array, method='min'):\n",
    "    rank_colnames = []\n",
    "    i = 0\n",
    "    assert len(colnames) == len(ascent_array)\n",
    "    for col in colnames:\n",
    "        # method decides the rank of tied elements\n",
    "        # ascending is the part we will need to change depending on the statistic in future\n",
    "        df[f'Rank {col}'] = df[f'{col}'].rank(method=method, ascending=ascent_array[i])\n",
    "        rank_colnames.append(f'Rank {col}')\n",
    "        i += 1\n",
    "    df['mean_rank'] = df[rank_colnames].mean(axis=1)\n",
    "    df['overall_rank'] = df['mean_rank'].rank(method='min', ascending=True)\n",
    "    return df\n",
    "\n",
    "# we then calculate the mean of the ranks, and rank the mean.\n",
    "df = multivariable_rank(df, colnames, ascent_array)\n",
    "df"
   ]
  },
  {
   "cell_type": "markdown",
   "metadata": {},
   "source": [
    "### `Applying the toy model to poverty data`"
   ]
  },
  {
   "cell_type": "code",
   "execution_count": 3,
   "metadata": {},
   "outputs": [
    {
     "data": {
      "text/html": [
       "<div>\n",
       "<style scoped>\n",
       "    .dataframe tbody tr th:only-of-type {\n",
       "        vertical-align: middle;\n",
       "    }\n",
       "\n",
       "    .dataframe tbody tr th {\n",
       "        vertical-align: top;\n",
       "    }\n",
       "\n",
       "    .dataframe thead th {\n",
       "        text-align: right;\n",
       "    }\n",
       "</style>\n",
       "<table border=\"1\" class=\"dataframe\">\n",
       "  <thead>\n",
       "    <tr style=\"text-align: right;\">\n",
       "      <th></th>\n",
       "      <th>geography_code</th>\n",
       "      <th>economic_inactivity_16_64</th>\n",
       "      <th>percent_in_low_income</th>\n",
       "      <th>unemployment_rate_16_64</th>\n",
       "      <th>Rank economic_inactivity_16_64</th>\n",
       "      <th>Rank percent_in_low_income</th>\n",
       "      <th>Rank unemployment_rate_16_64</th>\n",
       "      <th>mean_rank</th>\n",
       "      <th>overall_rank</th>\n",
       "    </tr>\n",
       "  </thead>\n",
       "  <tbody>\n",
       "    <tr>\n",
       "      <th>1640</th>\n",
       "      <td>E12000001</td>\n",
       "      <td>26.0</td>\n",
       "      <td>21.0</td>\n",
       "      <td>4.7</td>\n",
       "      <td>3.0</td>\n",
       "      <td>3.0</td>\n",
       "      <td>3.0</td>\n",
       "      <td>3.000000</td>\n",
       "      <td>3.0</td>\n",
       "    </tr>\n",
       "    <tr>\n",
       "      <th>1641</th>\n",
       "      <td>E12000002</td>\n",
       "      <td>23.3</td>\n",
       "      <td>19.0</td>\n",
       "      <td>4.1</td>\n",
       "      <td>2.0</td>\n",
       "      <td>1.0</td>\n",
       "      <td>2.0</td>\n",
       "      <td>1.666667</td>\n",
       "      <td>2.0</td>\n",
       "    </tr>\n",
       "    <tr>\n",
       "      <th>1642</th>\n",
       "      <td>E12000003</td>\n",
       "      <td>22.6</td>\n",
       "      <td>19.0</td>\n",
       "      <td>3.6</td>\n",
       "      <td>1.0</td>\n",
       "      <td>1.0</td>\n",
       "      <td>1.0</td>\n",
       "      <td>1.000000</td>\n",
       "      <td>1.0</td>\n",
       "    </tr>\n",
       "  </tbody>\n",
       "</table>\n",
       "</div>"
      ],
      "text/plain": [
       "     geography_code  economic_inactivity_16_64  percent_in_low_income  \\\n",
       "1640      E12000001                       26.0                   21.0   \n",
       "1641      E12000002                       23.3                   19.0   \n",
       "1642      E12000003                       22.6                   19.0   \n",
       "\n",
       "      unemployment_rate_16_64  Rank economic_inactivity_16_64  \\\n",
       "1640                      4.7                             3.0   \n",
       "1641                      4.1                             2.0   \n",
       "1642                      3.6                             1.0   \n",
       "\n",
       "      Rank percent_in_low_income  Rank unemployment_rate_16_64  mean_rank  \\\n",
       "1640                         3.0                           3.0   3.000000   \n",
       "1641                         1.0                           2.0   1.666667   \n",
       "1642                         1.0                           1.0   1.000000   \n",
       "\n",
       "      overall_rank  \n",
       "1640           3.0  \n",
       "1641           2.0  \n",
       "1642           1.0  "
      ]
     },
     "execution_count": 3,
     "metadata": {},
     "output_type": "execute_result"
    }
   ],
   "source": [
    "# data columns to use from place_data.json\n",
    "usecols = ['geography_code', 'economic_inactivity_16_64', 'percent_in_low_income', 'unemployment_rate_16_64']\n",
    "\n",
    "# columns to rank\n",
    "cols_to_rank = ['economic_inactivity_16_64', 'percent_in_low_income', 'unemployment_rate_16_64']\n",
    "\n",
    "# read the data\n",
    "data = pd.read_json(r\"C:\\Users\\LukeStrange\\Code\\jrf-insight\\data\\interim\\place_data.json\")\n",
    "\n",
    "# select only necessary columns and \"regions\"\n",
    "data = data.loc[:, usecols]\n",
    "data = data.loc[data.geography_code.str.startswith('E120')]\n",
    "\n",
    "# for this example we want all these metrics a LOW value is less likely to cause poverty so we need to set ascending to True.\n",
    "ascent_array = [True, True, True]\n",
    "\n",
    "data = multivariable_rank(data, colnames=cols_to_rank, ascent_array=ascent_array)\n",
    "data\n"
   ]
  },
  {
   "cell_type": "markdown",
   "metadata": {},
   "source": [
    "### `Results`\n",
    "\n",
    "Based on the rate of economic inactivity, rate on unemployment and percentage of people in low income poverty, `Yorkshire & the Humber (E12000003)` is the least impoverished region in North England, while `North West (E12000001)` is the most."
   ]
  }
 ],
 "metadata": {
  "kernelspec": {
   "display_name": "Python 3",
   "language": "python",
   "name": "python3"
  },
  "language_info": {
   "codemirror_mode": {
    "name": "ipython",
    "version": 3
   },
   "file_extension": ".py",
   "mimetype": "text/x-python",
   "name": "python",
   "nbconvert_exporter": "python",
   "pygments_lexer": "ipython3",
   "version": "3.10.11"
  },
  "orig_nbformat": 4
 },
 "nbformat": 4,
 "nbformat_minor": 2
}
